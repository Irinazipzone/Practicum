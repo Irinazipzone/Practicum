{
 "cells": [
  {
   "cell_type": "markdown",
   "metadata": {},
   "source": [
    "# Определение стоимости автомобилей"
   ]
  },
  {
   "cell_type": "markdown",
   "metadata": {},
   "source": [
    "Сервис по продаже автомобилей с пробегом «Не бит, не крашен» разрабатывает приложение для привлечения новых клиентов. В нём можно быстро узнать рыночную стоимость своего автомобиля. В вашем распоряжении исторические данные: технические характеристики, комплектации и цены автомобилей. \n",
    "\n",
    "**Цель:*** Построить модель для определения рыночной стоимости автомобиля\n",
    "\n",
    "Заказчику важны:\n",
    "\n",
    "- качество предсказания;\n",
    "- скорость предсказания;\n",
    "- время обучения.\n",
    "\n",
    "**Описание данных:**\n",
    "\n",
    "Признаки  \n",
    "DateCrawled — дата скачивания анкеты из базы  \n",
    "VehicleType — тип автомобильного кузова  \n",
    "RegistrationYear — год регистрации автомобиля  \n",
    "Gearbox — тип коробки передач  \n",
    "Power — мощность (л. с.)  \n",
    "Model — модель автомобиля  \n",
    "Kilometer — пробег (км)  \n",
    "RegistrationMonth — месяц регистрации автомобиля  \n",
    "FuelType — тип топлива  \n",
    "Brand — марка автомобиля  \n",
    "Repaired — была машина в ремонте или нет  \n",
    "DateCreated — дата создания анкеты  \n",
    "NumberOfPictures — количество фотографий автомобиля  \n",
    "PostalCode — почтовый индекс владельца анкеты (пользователя)  \n",
    "LastSeen — дата последней активности пользователя  \n",
    "\n",
    "Целевой признак:    \n",
    "Price — цена (евро)"
   ]
  },
  {
   "cell_type": "markdown",
   "metadata": {},
   "source": [
    "## 1. Загрузка данных"
   ]
  },
  {
   "cell_type": "code",
   "execution_count": 1,
   "metadata": {},
   "outputs": [
    {
     "name": "stdout",
     "output_type": "stream",
     "text": [
      "Collecting phik\n",
      "  Downloading phik-0.12.3-cp39-cp39-manylinux_2_17_x86_64.manylinux2014_x86_64.whl (679 kB)\n",
      "\u001b[K     |████████████████████████████████| 679 kB 1.7 MB/s eta 0:00:01\n",
      "\u001b[?25hRequirement already satisfied: numpy>=1.18.0 in /opt/conda/lib/python3.9/site-packages (from phik) (1.21.1)\n",
      "Requirement already satisfied: matplotlib>=2.2.3 in /opt/conda/lib/python3.9/site-packages (from phik) (3.3.4)\n",
      "Requirement already satisfied: joblib>=0.14.1 in /opt/conda/lib/python3.9/site-packages (from phik) (1.1.0)\n",
      "Requirement already satisfied: pandas>=0.25.1 in /opt/conda/lib/python3.9/site-packages (from phik) (1.2.4)\n",
      "Requirement already satisfied: scipy>=1.5.2 in /opt/conda/lib/python3.9/site-packages (from phik) (1.9.1)\n",
      "Requirement already satisfied: kiwisolver>=1.0.1 in /opt/conda/lib/python3.9/site-packages (from matplotlib>=2.2.3->phik) (1.4.4)\n",
      "Requirement already satisfied: pyparsing!=2.0.4,!=2.1.2,!=2.1.6,>=2.0.3 in /opt/conda/lib/python3.9/site-packages (from matplotlib>=2.2.3->phik) (2.4.7)\n",
      "Requirement already satisfied: pillow>=6.2.0 in /opt/conda/lib/python3.9/site-packages (from matplotlib>=2.2.3->phik) (8.4.0)\n",
      "Requirement already satisfied: cycler>=0.10 in /opt/conda/lib/python3.9/site-packages (from matplotlib>=2.2.3->phik) (0.11.0)\n",
      "Requirement already satisfied: python-dateutil>=2.1 in /opt/conda/lib/python3.9/site-packages (from matplotlib>=2.2.3->phik) (2.8.1)\n",
      "Requirement already satisfied: pytz>=2017.3 in /opt/conda/lib/python3.9/site-packages (from pandas>=0.25.1->phik) (2021.1)\n",
      "Requirement already satisfied: six>=1.5 in /opt/conda/lib/python3.9/site-packages (from python-dateutil>=2.1->matplotlib>=2.2.3->phik) (1.16.0)\n",
      "Installing collected packages: phik\n",
      "Successfully installed phik-0.12.3\n"
     ]
    }
   ],
   "source": [
    "!pip install phik"
   ]
  },
  {
   "cell_type": "code",
   "execution_count": 2,
   "metadata": {},
   "outputs": [],
   "source": [
    "import pandas as pd\n",
    "import matplotlib.pyplot as plt\n",
    "import numpy as np\n",
    "import seaborn as sns\n",
    "sns.set_theme(palette='pastel')\n",
    "\n",
    "import lightgbm as lgb\n",
    "\n",
    "import phik\n",
    "from phik.report import plot_correlation_matrix\n",
    "from phik import report\n",
    "\n",
    "from sklearn.model_selection import train_test_split, GridSearchCV, cross_val_score\n",
    "from sklearn.preprocessing import StandardScaler, OrdinalEncoder \n",
    "from sklearn.ensemble import RandomForestRegressor\n",
    "from sklearn.pipeline import Pipeline\n",
    "from sklearn.metrics import mean_squared_error\n",
    "from lightgbm import LGBMRegressor\n",
    "from time import time"
   ]
  },
  {
   "cell_type": "markdown",
   "metadata": {},
   "source": [
    "Загрузим файл с данными:"
   ]
  },
  {
   "cell_type": "code",
   "execution_count": 3,
   "metadata": {},
   "outputs": [],
   "source": [
    "df = pd.read_csv('/datasets/autos.csv').copy()"
   ]
  },
  {
   "cell_type": "markdown",
   "metadata": {},
   "source": [
    "Для вывода информации о файле создадим функцию `info_df`"
   ]
  },
  {
   "cell_type": "code",
   "execution_count": 4,
   "metadata": {},
   "outputs": [],
   "source": [
    "def info_df(df):\n",
    "    display(df.info())\n",
    "    display(df.head())\n",
    "    display(df.describe())\n",
    "    df.hist(figsize=(16,14))\n",
    "    plt.show()\n",
    "    return"
   ]
  },
  {
   "cell_type": "code",
   "execution_count": 5,
   "metadata": {},
   "outputs": [
    {
     "name": "stdout",
     "output_type": "stream",
     "text": [
      "<class 'pandas.core.frame.DataFrame'>\n",
      "RangeIndex: 354369 entries, 0 to 354368\n",
      "Data columns (total 16 columns):\n",
      " #   Column             Non-Null Count   Dtype \n",
      "---  ------             --------------   ----- \n",
      " 0   DateCrawled        354369 non-null  object\n",
      " 1   Price              354369 non-null  int64 \n",
      " 2   VehicleType        316879 non-null  object\n",
      " 3   RegistrationYear   354369 non-null  int64 \n",
      " 4   Gearbox            334536 non-null  object\n",
      " 5   Power              354369 non-null  int64 \n",
      " 6   Model              334664 non-null  object\n",
      " 7   Kilometer          354369 non-null  int64 \n",
      " 8   RegistrationMonth  354369 non-null  int64 \n",
      " 9   FuelType           321474 non-null  object\n",
      " 10  Brand              354369 non-null  object\n",
      " 11  Repaired           283215 non-null  object\n",
      " 12  DateCreated        354369 non-null  object\n",
      " 13  NumberOfPictures   354369 non-null  int64 \n",
      " 14  PostalCode         354369 non-null  int64 \n",
      " 15  LastSeen           354369 non-null  object\n",
      "dtypes: int64(7), object(9)\n",
      "memory usage: 43.3+ MB\n"
     ]
    },
    {
     "data": {
      "text/plain": [
       "None"
      ]
     },
     "metadata": {},
     "output_type": "display_data"
    },
    {
     "data": {
      "text/html": [
       "<div>\n",
       "<style scoped>\n",
       "    .dataframe tbody tr th:only-of-type {\n",
       "        vertical-align: middle;\n",
       "    }\n",
       "\n",
       "    .dataframe tbody tr th {\n",
       "        vertical-align: top;\n",
       "    }\n",
       "\n",
       "    .dataframe thead th {\n",
       "        text-align: right;\n",
       "    }\n",
       "</style>\n",
       "<table border=\"1\" class=\"dataframe\">\n",
       "  <thead>\n",
       "    <tr style=\"text-align: right;\">\n",
       "      <th></th>\n",
       "      <th>DateCrawled</th>\n",
       "      <th>Price</th>\n",
       "      <th>VehicleType</th>\n",
       "      <th>RegistrationYear</th>\n",
       "      <th>Gearbox</th>\n",
       "      <th>Power</th>\n",
       "      <th>Model</th>\n",
       "      <th>Kilometer</th>\n",
       "      <th>RegistrationMonth</th>\n",
       "      <th>FuelType</th>\n",
       "      <th>Brand</th>\n",
       "      <th>Repaired</th>\n",
       "      <th>DateCreated</th>\n",
       "      <th>NumberOfPictures</th>\n",
       "      <th>PostalCode</th>\n",
       "      <th>LastSeen</th>\n",
       "    </tr>\n",
       "  </thead>\n",
       "  <tbody>\n",
       "    <tr>\n",
       "      <th>0</th>\n",
       "      <td>2016-03-24 11:52:17</td>\n",
       "      <td>480</td>\n",
       "      <td>NaN</td>\n",
       "      <td>1993</td>\n",
       "      <td>manual</td>\n",
       "      <td>0</td>\n",
       "      <td>golf</td>\n",
       "      <td>150000</td>\n",
       "      <td>0</td>\n",
       "      <td>petrol</td>\n",
       "      <td>volkswagen</td>\n",
       "      <td>NaN</td>\n",
       "      <td>2016-03-24 00:00:00</td>\n",
       "      <td>0</td>\n",
       "      <td>70435</td>\n",
       "      <td>2016-04-07 03:16:57</td>\n",
       "    </tr>\n",
       "    <tr>\n",
       "      <th>1</th>\n",
       "      <td>2016-03-24 10:58:45</td>\n",
       "      <td>18300</td>\n",
       "      <td>coupe</td>\n",
       "      <td>2011</td>\n",
       "      <td>manual</td>\n",
       "      <td>190</td>\n",
       "      <td>NaN</td>\n",
       "      <td>125000</td>\n",
       "      <td>5</td>\n",
       "      <td>gasoline</td>\n",
       "      <td>audi</td>\n",
       "      <td>yes</td>\n",
       "      <td>2016-03-24 00:00:00</td>\n",
       "      <td>0</td>\n",
       "      <td>66954</td>\n",
       "      <td>2016-04-07 01:46:50</td>\n",
       "    </tr>\n",
       "    <tr>\n",
       "      <th>2</th>\n",
       "      <td>2016-03-14 12:52:21</td>\n",
       "      <td>9800</td>\n",
       "      <td>suv</td>\n",
       "      <td>2004</td>\n",
       "      <td>auto</td>\n",
       "      <td>163</td>\n",
       "      <td>grand</td>\n",
       "      <td>125000</td>\n",
       "      <td>8</td>\n",
       "      <td>gasoline</td>\n",
       "      <td>jeep</td>\n",
       "      <td>NaN</td>\n",
       "      <td>2016-03-14 00:00:00</td>\n",
       "      <td>0</td>\n",
       "      <td>90480</td>\n",
       "      <td>2016-04-05 12:47:46</td>\n",
       "    </tr>\n",
       "    <tr>\n",
       "      <th>3</th>\n",
       "      <td>2016-03-17 16:54:04</td>\n",
       "      <td>1500</td>\n",
       "      <td>small</td>\n",
       "      <td>2001</td>\n",
       "      <td>manual</td>\n",
       "      <td>75</td>\n",
       "      <td>golf</td>\n",
       "      <td>150000</td>\n",
       "      <td>6</td>\n",
       "      <td>petrol</td>\n",
       "      <td>volkswagen</td>\n",
       "      <td>no</td>\n",
       "      <td>2016-03-17 00:00:00</td>\n",
       "      <td>0</td>\n",
       "      <td>91074</td>\n",
       "      <td>2016-03-17 17:40:17</td>\n",
       "    </tr>\n",
       "    <tr>\n",
       "      <th>4</th>\n",
       "      <td>2016-03-31 17:25:20</td>\n",
       "      <td>3600</td>\n",
       "      <td>small</td>\n",
       "      <td>2008</td>\n",
       "      <td>manual</td>\n",
       "      <td>69</td>\n",
       "      <td>fabia</td>\n",
       "      <td>90000</td>\n",
       "      <td>7</td>\n",
       "      <td>gasoline</td>\n",
       "      <td>skoda</td>\n",
       "      <td>no</td>\n",
       "      <td>2016-03-31 00:00:00</td>\n",
       "      <td>0</td>\n",
       "      <td>60437</td>\n",
       "      <td>2016-04-06 10:17:21</td>\n",
       "    </tr>\n",
       "  </tbody>\n",
       "</table>\n",
       "</div>"
      ],
      "text/plain": [
       "           DateCrawled  Price VehicleType  RegistrationYear Gearbox  Power  \\\n",
       "0  2016-03-24 11:52:17    480         NaN              1993  manual      0   \n",
       "1  2016-03-24 10:58:45  18300       coupe              2011  manual    190   \n",
       "2  2016-03-14 12:52:21   9800         suv              2004    auto    163   \n",
       "3  2016-03-17 16:54:04   1500       small              2001  manual     75   \n",
       "4  2016-03-31 17:25:20   3600       small              2008  manual     69   \n",
       "\n",
       "   Model  Kilometer  RegistrationMonth  FuelType       Brand Repaired  \\\n",
       "0   golf     150000                  0    petrol  volkswagen      NaN   \n",
       "1    NaN     125000                  5  gasoline        audi      yes   \n",
       "2  grand     125000                  8  gasoline        jeep      NaN   \n",
       "3   golf     150000                  6    petrol  volkswagen       no   \n",
       "4  fabia      90000                  7  gasoline       skoda       no   \n",
       "\n",
       "           DateCreated  NumberOfPictures  PostalCode             LastSeen  \n",
       "0  2016-03-24 00:00:00                 0       70435  2016-04-07 03:16:57  \n",
       "1  2016-03-24 00:00:00                 0       66954  2016-04-07 01:46:50  \n",
       "2  2016-03-14 00:00:00                 0       90480  2016-04-05 12:47:46  \n",
       "3  2016-03-17 00:00:00                 0       91074  2016-03-17 17:40:17  \n",
       "4  2016-03-31 00:00:00                 0       60437  2016-04-06 10:17:21  "
      ]
     },
     "metadata": {},
     "output_type": "display_data"
    },
    {
     "data": {
      "text/html": [
       "<div>\n",
       "<style scoped>\n",
       "    .dataframe tbody tr th:only-of-type {\n",
       "        vertical-align: middle;\n",
       "    }\n",
       "\n",
       "    .dataframe tbody tr th {\n",
       "        vertical-align: top;\n",
       "    }\n",
       "\n",
       "    .dataframe thead th {\n",
       "        text-align: right;\n",
       "    }\n",
       "</style>\n",
       "<table border=\"1\" class=\"dataframe\">\n",
       "  <thead>\n",
       "    <tr style=\"text-align: right;\">\n",
       "      <th></th>\n",
       "      <th>Price</th>\n",
       "      <th>RegistrationYear</th>\n",
       "      <th>Power</th>\n",
       "      <th>Kilometer</th>\n",
       "      <th>RegistrationMonth</th>\n",
       "      <th>NumberOfPictures</th>\n",
       "      <th>PostalCode</th>\n",
       "    </tr>\n",
       "  </thead>\n",
       "  <tbody>\n",
       "    <tr>\n",
       "      <th>count</th>\n",
       "      <td>354369.000000</td>\n",
       "      <td>354369.000000</td>\n",
       "      <td>354369.000000</td>\n",
       "      <td>354369.000000</td>\n",
       "      <td>354369.000000</td>\n",
       "      <td>354369.0</td>\n",
       "      <td>354369.000000</td>\n",
       "    </tr>\n",
       "    <tr>\n",
       "      <th>mean</th>\n",
       "      <td>4416.656776</td>\n",
       "      <td>2004.234448</td>\n",
       "      <td>110.094337</td>\n",
       "      <td>128211.172535</td>\n",
       "      <td>5.714645</td>\n",
       "      <td>0.0</td>\n",
       "      <td>50508.689087</td>\n",
       "    </tr>\n",
       "    <tr>\n",
       "      <th>std</th>\n",
       "      <td>4514.158514</td>\n",
       "      <td>90.227958</td>\n",
       "      <td>189.850405</td>\n",
       "      <td>37905.341530</td>\n",
       "      <td>3.726421</td>\n",
       "      <td>0.0</td>\n",
       "      <td>25783.096248</td>\n",
       "    </tr>\n",
       "    <tr>\n",
       "      <th>min</th>\n",
       "      <td>0.000000</td>\n",
       "      <td>1000.000000</td>\n",
       "      <td>0.000000</td>\n",
       "      <td>5000.000000</td>\n",
       "      <td>0.000000</td>\n",
       "      <td>0.0</td>\n",
       "      <td>1067.000000</td>\n",
       "    </tr>\n",
       "    <tr>\n",
       "      <th>25%</th>\n",
       "      <td>1050.000000</td>\n",
       "      <td>1999.000000</td>\n",
       "      <td>69.000000</td>\n",
       "      <td>125000.000000</td>\n",
       "      <td>3.000000</td>\n",
       "      <td>0.0</td>\n",
       "      <td>30165.000000</td>\n",
       "    </tr>\n",
       "    <tr>\n",
       "      <th>50%</th>\n",
       "      <td>2700.000000</td>\n",
       "      <td>2003.000000</td>\n",
       "      <td>105.000000</td>\n",
       "      <td>150000.000000</td>\n",
       "      <td>6.000000</td>\n",
       "      <td>0.0</td>\n",
       "      <td>49413.000000</td>\n",
       "    </tr>\n",
       "    <tr>\n",
       "      <th>75%</th>\n",
       "      <td>6400.000000</td>\n",
       "      <td>2008.000000</td>\n",
       "      <td>143.000000</td>\n",
       "      <td>150000.000000</td>\n",
       "      <td>9.000000</td>\n",
       "      <td>0.0</td>\n",
       "      <td>71083.000000</td>\n",
       "    </tr>\n",
       "    <tr>\n",
       "      <th>max</th>\n",
       "      <td>20000.000000</td>\n",
       "      <td>9999.000000</td>\n",
       "      <td>20000.000000</td>\n",
       "      <td>150000.000000</td>\n",
       "      <td>12.000000</td>\n",
       "      <td>0.0</td>\n",
       "      <td>99998.000000</td>\n",
       "    </tr>\n",
       "  </tbody>\n",
       "</table>\n",
       "</div>"
      ],
      "text/plain": [
       "               Price  RegistrationYear          Power      Kilometer  \\\n",
       "count  354369.000000     354369.000000  354369.000000  354369.000000   \n",
       "mean     4416.656776       2004.234448     110.094337  128211.172535   \n",
       "std      4514.158514         90.227958     189.850405   37905.341530   \n",
       "min         0.000000       1000.000000       0.000000    5000.000000   \n",
       "25%      1050.000000       1999.000000      69.000000  125000.000000   \n",
       "50%      2700.000000       2003.000000     105.000000  150000.000000   \n",
       "75%      6400.000000       2008.000000     143.000000  150000.000000   \n",
       "max     20000.000000       9999.000000   20000.000000  150000.000000   \n",
       "\n",
       "       RegistrationMonth  NumberOfPictures     PostalCode  \n",
       "count      354369.000000          354369.0  354369.000000  \n",
       "mean            5.714645               0.0   50508.689087  \n",
       "std             3.726421               0.0   25783.096248  \n",
       "min             0.000000               0.0    1067.000000  \n",
       "25%             3.000000               0.0   30165.000000  \n",
       "50%             6.000000               0.0   49413.000000  \n",
       "75%             9.000000               0.0   71083.000000  \n",
       "max            12.000000               0.0   99998.000000  "
      ]
     },
     "metadata": {},
     "output_type": "display_data"
    },
    {
     "data": {
      "image/png": "[encoded data removed]",
      "text/plain": [
       "<Figure size 1152x1008 with 9 Axes>"
      ]
     },
     "metadata": {},
     "output_type": "display_data"
    }
   ],
   "source": [
    "info_df(df)"
   ]
  },
  {
   "cell_type": "markdown",
   "metadata": {},
   "source": [
    "Проверим корреляцию признаков. Предварительно создадим функцию `phik`"
   ]
  },
  {
   "cell_type": "code",
   "execution_count": 6,
   "metadata": {},
   "outputs": [],
   "source": [
    "def phik(df):\n",
    "    phik_overview = df.phik_matrix()\n",
    "    plot_correlation_matrix(phik_overview.values, \n",
    "                            x_labels=phik_overview.columns, \n",
    "                            y_labels=phik_overview.index, \n",
    "                            vmin=0, vmax=1, color_map=\"Greens\", \n",
    "                            title='Матрица корреляции Phik', \n",
    "                            fontsize_factor=1.4, \n",
    "                            figsize=(18, 18))\n",
    "    plt.tight_layout()\n",
    "    return"
   ]
  },
  {
   "cell_type": "code",
   "execution_count": 7,
   "metadata": {},
   "outputs": [
    {
     "name": "stdout",
     "output_type": "stream",
     "text": [
      "interval columns not set, guessing: ['Price', 'RegistrationYear', 'Power', 'Kilometer', 'RegistrationMonth', 'PostalCode']\n"
     ]
    },
    {
     "data": {
      "image/png": "[encoded data removed]",
      "text/plain": [
       "<Figure size 1296x1296 with 2 Axes>"
      ]
     },
     "metadata": {},
     "output_type": "display_data"
    }
   ],
   "source": [
    "phik(df.drop(['DateCrawled', 'LastSeen', 'NumberOfPictures'], axis=1))"
   ]
  },
  {
   "cell_type": "markdown",
   "metadata": {},
   "source": [
    "**Вывод:**  \n",
    "- Типы данных не соответствуют содержимому по признакам DateCrawled, LastSeen, DateCreated;  \n",
    "- Наличие пропусков в данных;  \n",
    "- Наличие выбросов в данных;  \n",
    "- Наличие корреляции независимых признаков в целевым. Мультиколлениарность независимых признаков."
   ]
  },
  {
   "cell_type": "markdown",
   "metadata": {},
   "source": [
    "## 2. Предобработка данных"
   ]
  },
  {
   "cell_type": "markdown",
   "metadata": {},
   "source": [
    "### 2.1 Наименование столбцов "
   ]
  },
  {
   "cell_type": "markdown",
   "metadata": {},
   "source": [
    "Приведем наименование столбцов к 'змеиному регистру': "
   ]
  },
  {
   "cell_type": "code",
   "execution_count": 8,
   "metadata": {},
   "outputs": [
    {
     "data": {
      "text/plain": [
       "Index(['DateCrawled', 'Price', 'VehicleType', 'RegistrationYear', 'Gearbox',\n",
       "       'Power', 'Model', 'Kilometer', 'RegistrationMonth', 'FuelType', 'Brand',\n",
       "       'Repaired', 'DateCreated', 'NumberOfPictures', 'PostalCode',\n",
       "       'LastSeen'],\n",
       "      dtype='object')"
      ]
     },
     "execution_count": 8,
     "metadata": {},
     "output_type": "execute_result"
    }
   ],
   "source": [
    "df.columns"
   ]
  },
  {
   "cell_type": "code",
   "execution_count": 9,
   "metadata": {},
   "outputs": [
    {
     "data": {
      "text/plain": [
       "Index(['date_crawled', 'price', 'vehicle_type', 'registration_year', 'gearbox',\n",
       "       'power', 'model', 'kilometer', 'registration_month', 'fuel_type',\n",
       "       'brand', 'repaired', 'date_created', 'number_of_pictures',\n",
       "       'postal_code', 'last_seen'],\n",
       "      dtype='object')"
      ]
     },
     "execution_count": 9,
     "metadata": {},
     "output_type": "execute_result"
    }
   ],
   "source": [
    "df = df.rename(columns={'DateCrawled': 'date_crawled', 'Price': 'price', 'VehicleType': 'vehicle_type',\\\n",
    "                        'RegistrationYear': 'registration_year', 'Gearbox': 'gearbox', 'Power': 'power',\\\n",
    "                        'Model': 'model', 'Kilometer': 'kilometer', 'RegistrationMonth': 'registration_month',\\\n",
    "                        'FuelType': 'fuel_type', 'Brand': 'brand', 'Repaired': 'repaired',\\\n",
    "                        'DateCreated': 'date_created', 'NumberOfPictures': 'number_of_pictures',\\\n",
    "                        'PostalCode': 'postal_code', 'LastSeen': 'last_seen'})\n",
    "df.columns"
   ]
  },
  {
   "cell_type": "markdown",
   "metadata": {},
   "source": [
    "### 2.2 Приведение типов данных"
   ]
  },
  {
   "cell_type": "markdown",
   "metadata": {},
   "source": [
    "Ппреобразуем данные по признакам 'date_crawled', 'last_seen', 'date_created' в формат datetime"
   ]
  },
  {
   "cell_type": "code",
   "execution_count": 10,
   "metadata": {},
   "outputs": [
    {
     "data": {
      "text/plain": [
       "dtype('<M8[ns]')"
      ]
     },
     "execution_count": 10,
     "metadata": {},
     "output_type": "execute_result"
    }
   ],
   "source": [
    "df[['date_crawled', 'last_seen', 'date_created']] = df[['date_crawled', 'last_seen', 'date_created']].apply(pd.to_datetime)#, format='%Y.%m.%d')\n",
    "df.dtypes['last_seen']"
   ]
  },
  {
   "cell_type": "markdown",
   "metadata": {},
   "source": [
    "Колонки с типом данных int64 приведем к типу int16"
   ]
  },
  {
   "cell_type": "code",
   "execution_count": 11,
   "metadata": {},
   "outputs": [
    {
     "data": {
      "text/plain": [
       "dtype('int16')"
      ]
     },
     "execution_count": 11,
     "metadata": {},
     "output_type": "execute_result"
    }
   ],
   "source": [
    "df[['price', 'registration_year', 'power', 'kilometer', 'registration_month', 'number_of_pictures',\\\n",
    "    'postal_code']] = df[['price', 'registration_year', 'power', 'kilometer', 'registration_month',\\\n",
    "                          'number_of_pictures', 'postal_code']].astype('int16')\n",
    "df.dtypes['price']"
   ]
  },
  {
   "cell_type": "markdown",
   "metadata": {},
   "source": [
    "### 2.3 Дубликаты"
   ]
  },
  {
   "cell_type": "markdown",
   "metadata": {},
   "source": [
    "Проверим на явные дубликаты:"
   ]
  },
  {
   "cell_type": "code",
   "execution_count": null,
   "metadata": {},
   "outputs": [],
   "source": [
    "df.drop(['Unnamed: 0'], axis=1).duplicated().sum()"
   ]
  },
  {
   "cell_type": "code",
   "execution_count": 13,
   "metadata": {},
   "outputs": [],
   "source": [
    "df = df.drop_duplicates()"
   ]
  },
  {
   "cell_type": "code",
   "execution_count": 14,
   "metadata": {},
   "outputs": [
    {
     "data": {
      "text/plain": [
       "0"
      ]
     },
     "execution_count": 14,
     "metadata": {},
     "output_type": "execute_result"
    }
   ],
   "source": [
    "df.duplicated().sum()"
   ]
  },
  {
   "cell_type": "markdown",
   "metadata": {},
   "source": [
    "Проверим уникальные значения в категориальных признаках:"
   ]
  },
  {
   "cell_type": "markdown",
   "metadata": {},
   "source": [
    "'vehicle_type', 'gearbox', 'model', 'fuel_type', 'brand', 'repaired'"
   ]
  },
  {
   "cell_type": "markdown",
   "metadata": {},
   "source": [
    "**vehicle_type:**"
   ]
  },
  {
   "cell_type": "code",
   "execution_count": 15,
   "metadata": {},
   "outputs": [
    {
     "data": {
      "text/plain": [
       "array([nan, 'coupe', 'suv', 'small', 'sedan', 'convertible', 'bus',\n",
       "       'wagon', 'other'], dtype=object)"
      ]
     },
     "execution_count": 15,
     "metadata": {},
     "output_type": "execute_result"
    }
   ],
   "source": [
    "df['vehicle_type'].unique()"
   ]
  },
  {
   "cell_type": "markdown",
   "metadata": {},
   "source": [
    "**gearbox:**"
   ]
  },
  {
   "cell_type": "code",
   "execution_count": 16,
   "metadata": {},
   "outputs": [
    {
     "data": {
      "text/plain": [
       "array(['manual', 'auto', nan], dtype=object)"
      ]
     },
     "execution_count": 16,
     "metadata": {},
     "output_type": "execute_result"
    }
   ],
   "source": [
    "df['gearbox'].unique()"
   ]
  },
  {
   "cell_type": "markdown",
   "metadata": {},
   "source": [
    "**model:**"
   ]
  },
  {
   "cell_type": "code",
   "execution_count": 17,
   "metadata": {},
   "outputs": [
    {
     "data": {
      "text/plain": [
       "array(['golf', nan, 'grand', 'fabia', '3er', '2_reihe', 'other', 'c_max',\n",
       "       '3_reihe', 'passat', 'navara', 'ka', 'polo', 'twingo', 'a_klasse',\n",
       "       'scirocco', '5er', 'meriva', 'arosa', 'c4', 'civic', 'transporter',\n",
       "       'punto', 'e_klasse', 'clio', 'kadett', 'kangoo', 'corsa', 'one',\n",
       "       'fortwo', '1er', 'b_klasse', 'signum', 'astra', 'a8', 'jetta',\n",
       "       'fiesta', 'c_klasse', 'micra', 'vito', 'sprinter', '156', 'escort',\n",
       "       'forester', 'xc_reihe', 'scenic', 'a4', 'a1', 'insignia', 'combo',\n",
       "       'focus', 'tt', 'a6', 'jazz', 'omega', 'slk', '7er', '80', '147',\n",
       "       '100', 'z_reihe', 'sportage', 'sorento', 'v40', 'ibiza', 'mustang',\n",
       "       'eos', 'touran', 'getz', 'a3', 'almera', 'megane', 'lupo', 'r19',\n",
       "       'zafira', 'caddy', 'mondeo', 'cordoba', 'colt', 'impreza',\n",
       "       'vectra', 'berlingo', 'tiguan', 'i_reihe', 'espace', 'sharan',\n",
       "       '6_reihe', 'panda', 'up', 'seicento', 'ceed', '5_reihe', 'yeti',\n",
       "       'octavia', 'mii', 'rx_reihe', '6er', 'modus', 'fox', 'matiz',\n",
       "       'beetle', 'c1', 'rio', 'touareg', 'logan', 'spider', 'cuore',\n",
       "       's_max', 'a2', 'galaxy', 'c3', 'viano', 's_klasse', '1_reihe',\n",
       "       'avensis', 'roomster', 'sl', 'kaefer', 'santa', 'cooper', 'leon',\n",
       "       '4_reihe', 'a5', '500', 'laguna', 'ptcruiser', 'clk', 'primera',\n",
       "       'x_reihe', 'exeo', '159', 'transit', 'juke', 'qashqai', 'carisma',\n",
       "       'accord', 'corolla', 'lanos', 'phaeton', 'verso', 'swift', 'rav',\n",
       "       'picanto', 'boxster', 'kalos', 'superb', 'stilo', 'alhambra',\n",
       "       'mx_reihe', 'roadster', 'ypsilon', 'cayenne', 'galant', 'justy',\n",
       "       '90', 'sirion', 'crossfire', 'agila', 'duster', 'cr_reihe', 'v50',\n",
       "       'c_reihe', 'v_klasse', 'm_klasse', 'yaris', 'c5', 'aygo', 'cc',\n",
       "       'carnival', 'fusion', '911', 'bora', 'forfour', 'm_reihe', 'cl',\n",
       "       'tigra', '300c', 'spark', 'v70', 'kuga', 'x_type', 'ducato',\n",
       "       's_type', 'x_trail', 'toledo', 'altea', 'voyager', 'calibra',\n",
       "       'bravo', 'antara', 'tucson', 'citigo', 'jimny', 'wrangler',\n",
       "       'lybra', 'q7', 'lancer', 'captiva', 'c2', 'discovery',\n",
       "       'freelander', 'sandero', 'note', '900', 'cherokee', 'clubman',\n",
       "       'samara', 'defender', '601', 'cx_reihe', 'legacy', 'pajero',\n",
       "       'auris', 'niva', 's60', 'nubira', 'vivaro', 'g_klasse', 'lodgy',\n",
       "       '850', 'range_rover', 'q3', 'serie_2', 'glk', 'charade', 'croma',\n",
       "       'outlander', 'doblo', 'musa', 'move', '9000', 'v60', '145', 'aveo',\n",
       "       '200', 'b_max', 'range_rover_sport', 'terios', 'rangerover', 'q5',\n",
       "       'range_rover_evoque', 'materia', 'delta', 'gl', 'kalina', 'amarok',\n",
       "       'elefantino', 'i3', 'kappa', 'serie_3', 'serie_1'], dtype=object)"
      ]
     },
     "execution_count": 17,
     "metadata": {},
     "output_type": "execute_result"
    }
   ],
   "source": [
    "df['model'].unique()"
   ]
  },
  {
   "cell_type": "markdown",
   "metadata": {},
   "source": [
    "**fuel_type:**"
   ]
  },
  {
   "cell_type": "code",
   "execution_count": 18,
   "metadata": {},
   "outputs": [
    {
     "data": {
      "text/plain": [
       "array(['petrol', 'gasoline', nan, 'lpg', 'other', 'hybrid', 'cng',\n",
       "       'electric'], dtype=object)"
      ]
     },
     "execution_count": 18,
     "metadata": {},
     "output_type": "execute_result"
    }
   ],
   "source": [
    "df['fuel_type'].unique()"
   ]
  },
  {
   "cell_type": "markdown",
   "metadata": {},
   "source": [
    "Заменим значение 'gasoline' на значение 'petrol', так как оба значения являются типом топлива - бензин:"
   ]
  },
  {
   "cell_type": "code",
   "execution_count": 19,
   "metadata": {
    "scrolled": true
   },
   "outputs": [
    {
     "data": {
      "text/plain": [
       "array(['petrol', nan, 'lpg', 'other', 'hybrid', 'cng', 'electric'],\n",
       "      dtype=object)"
      ]
     },
     "execution_count": 19,
     "metadata": {},
     "output_type": "execute_result"
    }
   ],
   "source": [
    "df['fuel_type'] = df['fuel_type'].str.replace('gasoline', 'petrol')\n",
    "df['fuel_type'].unique()"
   ]
  },
  {
   "cell_type": "markdown",
   "metadata": {},
   "source": [
    "**brand:**"
   ]
  },
  {
   "cell_type": "code",
   "execution_count": 20,
   "metadata": {},
   "outputs": [
    {
     "data": {
      "text/plain": [
       "array(['volkswagen', 'audi', 'jeep', 'skoda', 'bmw', 'peugeot', 'ford',\n",
       "       'mazda', 'nissan', 'renault', 'mercedes_benz', 'opel', 'seat',\n",
       "       'citroen', 'honda', 'fiat', 'mini', 'smart', 'hyundai',\n",
       "       'sonstige_autos', 'alfa_romeo', 'subaru', 'volvo', 'mitsubishi',\n",
       "       'kia', 'suzuki', 'lancia', 'toyota', 'chevrolet', 'dacia',\n",
       "       'daihatsu', 'trabant', 'saab', 'chrysler', 'jaguar', 'daewoo',\n",
       "       'porsche', 'rover', 'land_rover', 'lada'], dtype=object)"
      ]
     },
     "execution_count": 20,
     "metadata": {},
     "output_type": "execute_result"
    }
   ],
   "source": [
    "df['brand'].unique()"
   ]
  },
  {
   "cell_type": "markdown",
   "metadata": {},
   "source": [
    "Проверим уникальные значения для брендов 'rover' и 'land_rover':"
   ]
  },
  {
   "cell_type": "code",
   "execution_count": 21,
   "metadata": {},
   "outputs": [
    {
     "data": {
      "text/plain": [
       "array(['other', 'discovery', nan, 'rangerover', 'freelander', 'defender'],\n",
       "      dtype=object)"
      ]
     },
     "execution_count": 21,
     "metadata": {},
     "output_type": "execute_result"
    }
   ],
   "source": [
    "(df[df['brand'] == 'rover']['model']).unique()"
   ]
  },
  {
   "cell_type": "code",
   "execution_count": 22,
   "metadata": {},
   "outputs": [
    {
     "data": {
      "text/plain": [
       "array(['discovery', 'freelander', 'defender', nan, 'range_rover',\n",
       "       'serie_2', 'range_rover_sport', 'other', 'range_rover_evoque',\n",
       "       'serie_3', 'serie_1'], dtype=object)"
      ]
     },
     "execution_count": 22,
     "metadata": {},
     "output_type": "execute_result"
    }
   ],
   "source": [
    "(df[df['brand'] == 'land_rover']['model']).unique()"
   ]
  },
  {
   "cell_type": "markdown",
   "metadata": {},
   "source": [
    "Так как уникальные значения моделей совпадают, заменим 'rover' на 'land_rover':"
   ]
  },
  {
   "cell_type": "code",
   "execution_count": 23,
   "metadata": {},
   "outputs": [
    {
     "data": {
      "text/plain": [
       "array(['volkswagen', 'audi', 'jeep', 'skoda', 'bmw', 'peugeot', 'ford',\n",
       "       'mazda', 'nissan', 'renault', 'mercedes_benz', 'opel', 'seat',\n",
       "       'citroen', 'honda', 'fiat', 'mini', 'smart', 'hyundai',\n",
       "       'sonstige_autos', 'alfa_romeo', 'subaru', 'volvo', 'mitsubishi',\n",
       "       'kia', 'suzuki', 'lancia', 'toyota', 'chevrolet', 'dacia',\n",
       "       'daihatsu', 'trabant', 'saab', 'chrysler', 'jaguar', 'daewoo',\n",
       "       'porsche', 'rover', 'lada'], dtype=object)"
      ]
     },
     "execution_count": 23,
     "metadata": {},
     "output_type": "execute_result"
    }
   ],
   "source": [
    "df['brand'] = df['brand'].str.replace('land_rover', 'rover')\n",
    "df['brand'].unique()"
   ]
  },
  {
   "cell_type": "markdown",
   "metadata": {},
   "source": [
    "**repaired:**"
   ]
  },
  {
   "cell_type": "code",
   "execution_count": 24,
   "metadata": {},
   "outputs": [
    {
     "data": {
      "text/plain": [
       "array([nan, 'yes', 'no'], dtype=object)"
      ]
     },
     "execution_count": 24,
     "metadata": {},
     "output_type": "execute_result"
    }
   ],
   "source": [
    "df['repaired'].unique()"
   ]
  },
  {
   "cell_type": "markdown",
   "metadata": {},
   "source": [
    "### 2.4 Обработка пропущенных значений"
   ]
  },
  {
   "cell_type": "code",
   "execution_count": 25,
   "metadata": {},
   "outputs": [
    {
     "data": {
      "text/plain": [
       "date_crawled              0\n",
       "price                     0\n",
       "vehicle_type          37490\n",
       "registration_year         0\n",
       "gearbox               19833\n",
       "power                     0\n",
       "model                 19705\n",
       "kilometer                 0\n",
       "registration_month        0\n",
       "fuel_type             32895\n",
       "brand                     0\n",
       "repaired              71154\n",
       "date_created              0\n",
       "number_of_pictures        0\n",
       "postal_code               0\n",
       "last_seen                 0\n",
       "dtype: int64"
      ]
     },
     "execution_count": 25,
     "metadata": {},
     "output_type": "execute_result"
    }
   ],
   "source": [
    "df.isna().sum()"
   ]
  },
  {
   "cell_type": "markdown",
   "metadata": {},
   "source": [
    "Пропущенные значения в данных заменим значением 'unknown':"
   ]
  },
  {
   "cell_type": "code",
   "execution_count": 26,
   "metadata": {},
   "outputs": [
    {
     "data": {
      "text/plain": [
       "date_crawled          0\n",
       "price                 0\n",
       "vehicle_type          0\n",
       "registration_year     0\n",
       "gearbox               0\n",
       "power                 0\n",
       "model                 0\n",
       "kilometer             0\n",
       "registration_month    0\n",
       "fuel_type             0\n",
       "brand                 0\n",
       "repaired              0\n",
       "date_created          0\n",
       "number_of_pictures    0\n",
       "postal_code           0\n",
       "last_seen             0\n",
       "dtype: int64"
      ]
     },
     "execution_count": 26,
     "metadata": {},
     "output_type": "execute_result"
    }
   ],
   "source": [
    "df[['vehicle_type', 'gearbox', 'model', 'fuel_type', 'repaired']] = df[['vehicle_type', 'gearbox', 'model', 'fuel_type', 'repaired']].fillna('unknown')\n",
    "df.isna().sum()"
   ]
  },
  {
   "cell_type": "markdown",
   "metadata": {},
   "source": [
    "### 2.5 Обработка аномальных значений"
   ]
  },
  {
   "cell_type": "markdown",
   "metadata": {},
   "source": [
    "Аномальные значения присутствую в признаках price, registration_year, registration_month, power, kilometer, postal_code. Проведем обработку аномальных значений:"
   ]
  },
  {
   "cell_type": "code",
   "execution_count": 27,
   "metadata": {},
   "outputs": [
    {
     "data": {
      "text/html": [
       "<div>\n",
       "<style scoped>\n",
       "    .dataframe tbody tr th:only-of-type {\n",
       "        vertical-align: middle;\n",
       "    }\n",
       "\n",
       "    .dataframe tbody tr th {\n",
       "        vertical-align: top;\n",
       "    }\n",
       "\n",
       "    .dataframe thead th {\n",
       "        text-align: right;\n",
       "    }\n",
       "</style>\n",
       "<table border=\"1\" class=\"dataframe\">\n",
       "  <thead>\n",
       "    <tr style=\"text-align: right;\">\n",
       "      <th></th>\n",
       "      <th>price</th>\n",
       "      <th>registration_year</th>\n",
       "      <th>power</th>\n",
       "      <th>kilometer</th>\n",
       "      <th>registration_month</th>\n",
       "      <th>number_of_pictures</th>\n",
       "      <th>postal_code</th>\n",
       "    </tr>\n",
       "  </thead>\n",
       "  <tbody>\n",
       "    <tr>\n",
       "      <th>count</th>\n",
       "      <td>354365.000000</td>\n",
       "      <td>354365.000000</td>\n",
       "      <td>354365.000000</td>\n",
       "      <td>354365.000000</td>\n",
       "      <td>354365.000000</td>\n",
       "      <td>354365.0</td>\n",
       "      <td>354365.000000</td>\n",
       "    </tr>\n",
       "    <tr>\n",
       "      <th>mean</th>\n",
       "      <td>4416.679830</td>\n",
       "      <td>2004.234481</td>\n",
       "      <td>110.093816</td>\n",
       "      <td>12092.072840</td>\n",
       "      <td>5.714650</td>\n",
       "      <td>0.0</td>\n",
       "      <td>3132.429255</td>\n",
       "    </tr>\n",
       "    <tr>\n",
       "      <th>std</th>\n",
       "      <td>4514.176349</td>\n",
       "      <td>90.228466</td>\n",
       "      <td>189.851330</td>\n",
       "      <td>13977.716566</td>\n",
       "      <td>3.726432</td>\n",
       "      <td>0.0</td>\n",
       "      <td>19502.386710</td>\n",
       "    </tr>\n",
       "    <tr>\n",
       "      <th>min</th>\n",
       "      <td>0.000000</td>\n",
       "      <td>1000.000000</td>\n",
       "      <td>0.000000</td>\n",
       "      <td>-31072.000000</td>\n",
       "      <td>0.000000</td>\n",
       "      <td>0.0</td>\n",
       "      <td>-32745.000000</td>\n",
       "    </tr>\n",
       "    <tr>\n",
       "      <th>25%</th>\n",
       "      <td>1050.000000</td>\n",
       "      <td>1999.000000</td>\n",
       "      <td>69.000000</td>\n",
       "      <td>14464.000000</td>\n",
       "      <td>3.000000</td>\n",
       "      <td>0.0</td>\n",
       "      <td>-14393.000000</td>\n",
       "    </tr>\n",
       "    <tr>\n",
       "      <th>50%</th>\n",
       "      <td>2700.000000</td>\n",
       "      <td>2003.000000</td>\n",
       "      <td>105.000000</td>\n",
       "      <td>18928.000000</td>\n",
       "      <td>6.000000</td>\n",
       "      <td>0.0</td>\n",
       "      <td>5727.000000</td>\n",
       "    </tr>\n",
       "    <tr>\n",
       "      <th>75%</th>\n",
       "      <td>6400.000000</td>\n",
       "      <td>2008.000000</td>\n",
       "      <td>143.000000</td>\n",
       "      <td>18928.000000</td>\n",
       "      <td>9.000000</td>\n",
       "      <td>0.0</td>\n",
       "      <td>21220.000000</td>\n",
       "    </tr>\n",
       "    <tr>\n",
       "      <th>max</th>\n",
       "      <td>20000.000000</td>\n",
       "      <td>9999.000000</td>\n",
       "      <td>20000.000000</td>\n",
       "      <td>30000.000000</td>\n",
       "      <td>12.000000</td>\n",
       "      <td>0.0</td>\n",
       "      <td>32760.000000</td>\n",
       "    </tr>\n",
       "  </tbody>\n",
       "</table>\n",
       "</div>"
      ],
      "text/plain": [
       "               price  registration_year          power      kilometer  \\\n",
       "count  354365.000000      354365.000000  354365.000000  354365.000000   \n",
       "mean     4416.679830        2004.234481     110.093816   12092.072840   \n",
       "std      4514.176349          90.228466     189.851330   13977.716566   \n",
       "min         0.000000        1000.000000       0.000000  -31072.000000   \n",
       "25%      1050.000000        1999.000000      69.000000   14464.000000   \n",
       "50%      2700.000000        2003.000000     105.000000   18928.000000   \n",
       "75%      6400.000000        2008.000000     143.000000   18928.000000   \n",
       "max     20000.000000        9999.000000   20000.000000   30000.000000   \n",
       "\n",
       "       registration_month  number_of_pictures    postal_code  \n",
       "count       354365.000000            354365.0  354365.000000  \n",
       "mean             5.714650                 0.0    3132.429255  \n",
       "std              3.726432                 0.0   19502.386710  \n",
       "min              0.000000                 0.0  -32745.000000  \n",
       "25%              3.000000                 0.0  -14393.000000  \n",
       "50%              6.000000                 0.0    5727.000000  \n",
       "75%              9.000000                 0.0   21220.000000  \n",
       "max             12.000000                 0.0   32760.000000  "
      ]
     },
     "execution_count": 27,
     "metadata": {},
     "output_type": "execute_result"
    }
   ],
   "source": [
    "df.describe()"
   ]
  },
  {
   "cell_type": "markdown",
   "metadata": {},
   "source": [
    "**price:**"
   ]
  },
  {
   "cell_type": "code",
   "execution_count": 28,
   "metadata": {},
   "outputs": [
    {
     "data": {
      "image/png": "[encoded data removed]",
      "text/plain": [
       "<Figure size 432x288 with 1 Axes>"
      ]
     },
     "metadata": {},
     "output_type": "display_data"
    }
   ],
   "source": [
    "sns.boxplot(y=df['price'])\n",
    "plt.show()"
   ]
  },
  {
   "cell_type": "markdown",
   "metadata": {},
   "source": [
    "По признаку присутствуют нулевые значения и выбросы свыше 15000. Так как признак является целевым, нулевые значения исключаем. Выбросы свыше 15000 оставляем, так как могут быть значимыми:"
   ]
  },
  {
   "cell_type": "code",
   "execution_count": 29,
   "metadata": {},
   "outputs": [],
   "source": [
    "df = df[df['price'] > 1]"
   ]
  },
  {
   "cell_type": "markdown",
   "metadata": {},
   "source": [
    "**registration_year:**"
   ]
  },
  {
   "cell_type": "code",
   "execution_count": 30,
   "metadata": {},
   "outputs": [
    {
     "data": {
      "image/png": "[encoded data removed]",
      "text/plain": [
       "<Figure size 432x288 with 1 Axes>"
      ]
     },
     "metadata": {},
     "output_type": "display_data"
    }
   ],
   "source": [
    "sns.boxplot(y=df['registration_year'])\n",
    "plt.show()"
   ]
  },
  {
   "cell_type": "code",
   "execution_count": 31,
   "metadata": {},
   "outputs": [
    {
     "data": {
      "text/plain": [
       "82"
      ]
     },
     "execution_count": 31,
     "metadata": {},
     "output_type": "execute_result"
    }
   ],
   "source": [
    "df[df['registration_year'] > 2023]['registration_year'].count()"
   ]
  },
  {
   "cell_type": "code",
   "execution_count": 32,
   "metadata": {},
   "outputs": [
    {
     "data": {
      "text/plain": [
       "49"
      ]
     },
     "execution_count": 32,
     "metadata": {},
     "output_type": "execute_result"
    }
   ],
   "source": [
    "df[df['registration_year'] < 1900]['registration_year'].count()"
   ]
  },
  {
   "cell_type": "markdown",
   "metadata": {},
   "source": [
    "Исключим значения registration_year старше 2023 года и младше 1900:"
   ]
  },
  {
   "cell_type": "code",
   "execution_count": 33,
   "metadata": {},
   "outputs": [
    {
     "data": {
      "text/plain": [
       "Timestamp('2016-04-07 14:36:58')"
      ]
     },
     "execution_count": 33,
     "metadata": {},
     "output_type": "execute_result"
    }
   ],
   "source": [
    "(df['date_crawled']).max()"
   ]
  },
  {
   "cell_type": "code",
   "execution_count": 34,
   "metadata": {},
   "outputs": [],
   "source": [
    "df = df[df['registration_year'] < 2017]"
   ]
  },
  {
   "cell_type": "code",
   "execution_count": 35,
   "metadata": {},
   "outputs": [],
   "source": [
    "df = df[df['registration_year'] > 1900]"
   ]
  },
  {
   "cell_type": "code",
   "execution_count": 36,
   "metadata": {},
   "outputs": [
    {
     "data": {
      "image/png": "[encoded data removed]",
      "text/plain": [
       "<Figure size 432x288 with 1 Axes>"
      ]
     },
     "metadata": {},
     "output_type": "display_data"
    }
   ],
   "source": [
    "sns.boxplot(y=df['registration_year'])\n",
    "plt.show()"
   ]
  },
  {
   "cell_type": "markdown",
   "metadata": {},
   "source": [
    "**power:**"
   ]
  },
  {
   "cell_type": "code",
   "execution_count": 37,
   "metadata": {},
   "outputs": [
    {
     "data": {
      "image/png": "[encoded data removed]",
      "text/plain": [
       "<Figure size 432x288 with 1 Axes>"
      ]
     },
     "metadata": {},
     "output_type": "display_data"
    }
   ],
   "source": [
    "sns.boxplot(y=df['power'])\n",
    "plt.show()"
   ]
  },
  {
   "cell_type": "markdown",
   "metadata": {},
   "source": [
    "Исключим значения свыше 700 лс:"
   ]
  },
  {
   "cell_type": "code",
   "execution_count": 38,
   "metadata": {},
   "outputs": [
    {
     "data": {
      "text/plain": [
       "300"
      ]
     },
     "execution_count": 38,
     "metadata": {},
     "output_type": "execute_result"
    }
   ],
   "source": [
    "df[df['power'] > 700]['power'].count()"
   ]
  },
  {
   "cell_type": "code",
   "execution_count": 39,
   "metadata": {},
   "outputs": [],
   "source": [
    "df = df[df['power'] < 700]"
   ]
  },
  {
   "cell_type": "code",
   "execution_count": 40,
   "metadata": {},
   "outputs": [],
   "source": [
    "df = df[df['power'] >= 4]"
   ]
  },
  {
   "cell_type": "code",
   "execution_count": 41,
   "metadata": {},
   "outputs": [
    {
     "data": {
      "image/png": "[encoded data removed]",
      "text/plain": [
       "<Figure size 432x288 with 1 Axes>"
      ]
     },
     "metadata": {},
     "output_type": "display_data"
    }
   ],
   "source": [
    "sns.boxplot(y=df['power'])\n",
    "plt.show()"
   ]
  },
  {
   "cell_type": "markdown",
   "metadata": {},
   "source": [
    "**kilometer:**"
   ]
  },
  {
   "cell_type": "code",
   "execution_count": 42,
   "metadata": {},
   "outputs": [
    {
     "data": {
      "image/png": "[encoded data removed]",
      "text/plain": [
       "<Figure size 432x288 with 1 Axes>"
      ]
     },
     "metadata": {},
     "output_type": "display_data"
    }
   ],
   "source": [
    "sns.boxplot(y=df['kilometer'])\n",
    "plt.show()"
   ]
  },
  {
   "cell_type": "markdown",
   "metadata": {},
   "source": [
    "По признаку присутствуют отрицательные значения и выбросы свыше 20000. По отрицательным значениям возьмем модуль чисел, выбросы свыше 20000 оставим без изменений:"
   ]
  },
  {
   "cell_type": "code",
   "execution_count": 43,
   "metadata": {},
   "outputs": [],
   "source": [
    "df['kilometer'] = df['kilometer'].abs()"
   ]
  },
  {
   "cell_type": "markdown",
   "metadata": {},
   "source": [
    "## 3. Исследовательский анализ данных"
   ]
  },
  {
   "cell_type": "markdown",
   "metadata": {},
   "source": [
    "С целевым признаком имеют наибольшую корреляцию следующие независимые признаки:  \n",
    "- model - 0.57;  \n",
    "- repaired - 0.37;  \n",
    "- brand - 0.33;  \n",
    "- gearbox - 0.31;  \n",
    "- vehicle_type - 0.28;  \n",
    "- kilometer - 0.27;  \n",
    "- fuel_type - 0.26;\n",
    "- registration_month - 0.19.  \n",
    "Рассмотрим зависимость целевого от приведенных выше признаков, так же рассмотрим признак registration_year и power: "
   ]
  },
  {
   "cell_type": "markdown",
   "metadata": {},
   "source": [
    "**registration_year:**"
   ]
  },
  {
   "cell_type": "code",
   "execution_count": 44,
   "metadata": {},
   "outputs": [
    {
     "data": {
      "image/png": "[encoded data removed]",
      "text/plain": [
       "<Figure size 864x432 with 1 Axes>"
      ]
     },
     "metadata": {},
     "output_type": "display_data"
    }
   ],
   "source": [
    "dynamic_by_year = df.groupby('registration_year')['price'].agg('mean')\n",
    "dynamic_by_year = dynamic_by_year[dynamic_by_year.index > 0]\n",
    "dynamic_by_year.plot(y=['price'], figsize=(12,6), grid=True, marker='o', linewidth=4, markersize=12)\n",
    "plt.title('Зависимость стоимости атомобилей от года регистрации')\n",
    "plt.xlabel('Год регистрации')\n",
    "plt.ylabel('Стоимость')\n",
    "plt.show()"
   ]
  },
  {
   "cell_type": "markdown",
   "metadata": {},
   "source": [
    "Вывод: Наибольшую стоимость имеют автомобили зарегистрированные в период 2016-2017 года, наименьшую в 1994-1996. Стоит отметить высокую стоимость раритетных автомобилей зарегистрированнных в период 1930-1960."
   ]
  },
  {
   "cell_type": "markdown",
   "metadata": {},
   "source": [
    "**registration_month:**"
   ]
  },
  {
   "cell_type": "markdown",
   "metadata": {},
   "source": [
    "Данный признак имеет аномальное значение 0. Предположим, что 0 обозначет неопределенные месяц регистрации. Исключим даный месяц из анализа: "
   ]
  },
  {
   "cell_type": "code",
   "execution_count": 45,
   "metadata": {},
   "outputs": [
    {
     "data": {
      "image/png": "[encoded data removed]",
      "text/plain": [
       "<Figure size 864x432 with 1 Axes>"
      ]
     },
     "metadata": {},
     "output_type": "display_data"
    }
   ],
   "source": [
    "dynamic_by_month = df.groupby('registration_month')['price'].agg('median')\n",
    "dynamic_by_month = dynamic_by_month[dynamic_by_month.index > 0]\n",
    "dynamic_by_month.plot(y=['price'], figsize=(12,6), grid=True, marker='o', linewidth=4, markersize=12)\n",
    "plt.title('Зависимость стоимости атомобилей от месяца регистрации')\n",
    "plt.xlabel('Месяц регистрации')\n",
    "plt.ylabel('Стоимость')\n",
    "plt.show()"
   ]
  },
  {
   "cell_type": "markdown",
   "metadata": {},
   "source": [
    "Вывод: минимальная стоимость автомобилей наблюдается в марте. Наибольшая  - с  сентября по ноябрь."
   ]
  },
  {
   "cell_type": "markdown",
   "metadata": {},
   "source": [
    "**model и brand:**"
   ]
  },
  {
   "cell_type": "markdown",
   "metadata": {},
   "source": [
    "С учетом коллинеарности признаков, рассмотрим только brand:"
   ]
  },
  {
   "cell_type": "code",
   "execution_count": 46,
   "metadata": {},
   "outputs": [
    {
     "data": {
      "image/png": "[encoded data removed]",
      "text/plain": [
       "<Figure size 864x432 with 1 Axes>"
      ]
     },
     "metadata": {},
     "output_type": "display_data"
    }
   ],
   "source": [
    "dynamic_by_brand = df.groupby('brand')['price'].agg('mean').sort_values(ascending=False)\n",
    "dynamic_by_brand.plot(y=['price'], figsize=(12,6), kind='bar')\n",
    "plt.title('Зависимость стоимости атомобилей от бренда')\n",
    "plt.xlabel('Бренд')\n",
    "plt.ylabel('Стоимость')\n",
    "plt.show()"
   ]
  },
  {
   "cell_type": "markdown",
   "metadata": {},
   "source": [
    "Вывод: Наибольшую стоимость имеют автомобили бренда Porsche, наименьшую - daewoo."
   ]
  },
  {
   "cell_type": "markdown",
   "metadata": {},
   "source": [
    "**repaired**"
   ]
  },
  {
   "cell_type": "code",
   "execution_count": 47,
   "metadata": {},
   "outputs": [
    {
     "data": {
      "image/png": "[encoded data removed]",
      "text/plain": [
       "<Figure size 864x432 with 1 Axes>"
      ]
     },
     "metadata": {},
     "output_type": "display_data"
    }
   ],
   "source": [
    "df.groupby('repaired')['price'].agg('mean').plot(y=['price'], figsize=(12,6), kind='bar')\n",
    "plt.title('Зависимость стоимости атомобилей от наличия ремонта')\n",
    "plt.xlabel('Наличие ремонта')\n",
    "plt.ylabel('Стоимость')\n",
    "plt.show()"
   ]
  },
  {
   "cell_type": "markdown",
   "metadata": {},
   "source": [
    "Вывод: Наибольшую стоимость имеют автомобили не бывшие в ремонте."
   ]
  },
  {
   "cell_type": "markdown",
   "metadata": {},
   "source": [
    "**gearbox**"
   ]
  },
  {
   "cell_type": "code",
   "execution_count": 48,
   "metadata": {},
   "outputs": [
    {
     "data": {
      "image/png": "[encoded data removed]",
      "text/plain": [
       "<Figure size 864x432 with 1 Axes>"
      ]
     },
     "metadata": {},
     "output_type": "display_data"
    }
   ],
   "source": [
    "df.groupby('gearbox')['price'].agg('median').plot(y=['price'], figsize=(12,6), kind='bar')\n",
    "plt.title('Зависимость стоимости атомобилей от типа коробки передач')\n",
    "plt.xlabel('Тип коробки передач')\n",
    "plt.ylabel('Стоимость')\n",
    "plt.show()"
   ]
  },
  {
   "cell_type": "markdown",
   "metadata": {},
   "source": [
    "Вывод: Наибольшую стоимость имеют автомобили c атоматической коробкой передач."
   ]
  },
  {
   "cell_type": "markdown",
   "metadata": {},
   "source": [
    "**vehicle_type**"
   ]
  },
  {
   "cell_type": "code",
   "execution_count": 49,
   "metadata": {},
   "outputs": [
    {
     "data": {
      "image/png": "[encoded data removed]",
      "text/plain": [
       "<Figure size 864x432 with 1 Axes>"
      ]
     },
     "metadata": {},
     "output_type": "display_data"
    }
   ],
   "source": [
    "df.groupby('vehicle_type')['price'].agg('median').sort_values(ascending=False).plot(y=['price'], figsize=(12,6), kind='bar')\n",
    "plt.title('Зависимость стоимости атомобилей от типа кузова')\n",
    "plt.xlabel('Тип кузова')\n",
    "plt.ylabel('Стоимость')\n",
    "plt.show()"
   ]
  },
  {
   "cell_type": "markdown",
   "metadata": {},
   "source": [
    "Вывод: наибольшую стоимость имеют автомобили с типом кузова - кроссовер."
   ]
  },
  {
   "cell_type": "markdown",
   "metadata": {},
   "source": [
    "**fuel_type**"
   ]
  },
  {
   "cell_type": "code",
   "execution_count": 50,
   "metadata": {},
   "outputs": [
    {
     "data": {
      "image/png": "[encoded data removed]",
      "text/plain": [
       "<Figure size 864x432 with 1 Axes>"
      ]
     },
     "metadata": {},
     "output_type": "display_data"
    }
   ],
   "source": [
    "df.groupby('fuel_type')['price'].agg('median').sort_values(ascending=False).plot(y=['price'], figsize=(12,6), kind='bar')\n",
    "plt.title('Зависимость стоимости атомобилей от типа топлива')\n",
    "plt.xlabel('Тип топлива')\n",
    "plt.ylabel('Стоимость')\n",
    "plt.show()"
   ]
  },
  {
   "cell_type": "markdown",
   "metadata": {},
   "source": [
    "Вывод: наибольшую стоимость автомобилей имеют автомобили с гибридным типом топлива"
   ]
  },
  {
   "cell_type": "markdown",
   "metadata": {},
   "source": [
    "**kilometer**"
   ]
  },
  {
   "cell_type": "code",
   "execution_count": 51,
   "metadata": {
    "scrolled": true
   },
   "outputs": [
    {
     "data": {
      "image/png": "[encoded data removed]",
      "text/plain": [
       "<Figure size 432x288 with 1 Axes>"
      ]
     },
     "metadata": {},
     "output_type": "display_data"
    }
   ],
   "source": [
    "plt.plot('kilometer', 'price', data=df, linestyle='none', marker='o')\n",
    "plt.title('Зависимость стоимости атомобилей от пробега')\n",
    "plt.xlabel('Пробег, км')\n",
    "plt.ylabel('Стоимость')\n",
    "plt.show()"
   ]
  },
  {
   "cell_type": "markdown",
   "metadata": {},
   "source": [
    "Вывод: значительного влияния на стоимоть автомобиля не имеет"
   ]
  },
  {
   "cell_type": "markdown",
   "metadata": {},
   "source": [
    "**power**"
   ]
  },
  {
   "cell_type": "code",
   "execution_count": 52,
   "metadata": {},
   "outputs": [
    {
     "data": {
      "image/png": "[encoded data removed]",
      "text/plain": [
       "<Figure size 864x432 with 1 Axes>"
      ]
     },
     "metadata": {},
     "output_type": "display_data"
    }
   ],
   "source": [
    "dynamic_by_power = df.groupby('power')['price'].agg('median')\n",
    "dynamic_by_power = dynamic_by_power[dynamic_by_power.index > 0]\n",
    "dynamic_by_power.plot(y=['price'], figsize=(12,6), grid=True, marker='o', linewidth=4, markersize=12)\n",
    "plt.title('Зависимость стоимости атомобилей от мощности')\n",
    "plt.xlabel('Мощность, лс')\n",
    "plt.ylabel('Стоимость')\n",
    "plt.show()"
   ]
  },
  {
   "cell_type": "markdown",
   "metadata": {},
   "source": [
    "Вывод: Наибольшую стоимость имеют автомобили с мощностью более 400лс, наименьшую от 40 до 60 лс."
   ]
  },
  {
   "cell_type": "markdown",
   "metadata": {},
   "source": [
    "## 4. Разработка моделей машинного обучения"
   ]
  },
  {
   "cell_type": "markdown",
   "metadata": {},
   "source": [
    "Для обучения моделей будем использовать два алгоритма:  \n",
    "- градиентный бустинг;\n",
    "- случайный лес.  \n",
    "Для оценки качества прогнозирования используем метрику RMSE. При выборе лучшей модели также учитываем скорость обучения и скорость прогнозирования."
   ]
  },
  {
   "cell_type": "markdown",
   "metadata": {},
   "source": [
    "### 4.1 Подготовка признаков"
   ]
  },
  {
   "cell_type": "markdown",
   "metadata": {},
   "source": [
    "По результатам исследовательского анализа данных и матрицы корреляции сформируем наборы признаков:"
   ]
  },
  {
   "cell_type": "code",
   "execution_count": 53,
   "metadata": {},
   "outputs": [],
   "source": [
    "X_train = df[['model', 'repaired', 'gearbox', 'kilometer', 'registration_month', 'registration_year', 'power', 'vehicle_type', 'fuel_type']].reset_index(drop=True)\n",
    "y_train = df['price'].reset_index(drop=True)"
   ]
  },
  {
   "cell_type": "markdown",
   "metadata": {},
   "source": [
    "ordinal encoder"
   ]
  },
  {
   "cell_type": "code",
   "execution_count": 60,
   "metadata": {},
   "outputs": [
    {
     "data": {
      "text/plain": [
       "(221922, 9)"
      ]
     },
     "execution_count": 60,
     "metadata": {},
     "output_type": "execute_result"
    }
   ],
   "source": [
    "RANDOM_STATE = 25\n",
    "X_train, X_test, y_train, y_test = train_test_split(X_train, y_train, test_size=0.25,\\\n",
    "                                                            random_state=RANDOM_STATE)\n",
    "X_train.shape"
   ]
  },
  {
   "cell_type": "code",
   "execution_count": 61,
   "metadata": {},
   "outputs": [],
   "source": [
    "encoder = OrdinalEncoder()\n",
    "X_train_enc = X_train.copy()\n",
    "X_train_enc[X_train_enc.select_dtypes(include=['object']).columns] = \\\n",
    "                    pd.DataFrame(encoder.fit_transform(X_train_enc[X_train_enc.select_dtypes(include=['object']).columns]),\\\n",
    "                    index=X_train_enc.index)"
   ]
  },
  {
   "cell_type": "code",
   "execution_count": 62,
   "metadata": {},
   "outputs": [],
   "source": [
    "X_test_enc = X_test.copy()\n",
    "X_test_enc[X_test_enc.select_dtypes(include=['object']).columns] = \\\n",
    "                    pd.DataFrame(encoder.transform(X_test_enc[X_test_enc.select_dtypes(include=['object']).columns]),\\\n",
    "                    index=X_test_enc.index)"
   ]
  },
  {
   "cell_type": "markdown",
   "metadata": {},
   "source": [
    "### 4.2 Обучение моделей и подбор параметров"
   ]
  },
  {
   "cell_type": "markdown",
   "metadata": {},
   "source": [
    "#### 4.2.1 Градиентный бустинг"
   ]
  },
  {
   "cell_type": "code",
   "execution_count": 63,
   "metadata": {},
   "outputs": [
    {
     "data": {
      "text/plain": [
       "GridSearchCV(cv=3, estimator=LGBMRegressor(random_state=25),\n",
       "             param_grid=[{'learning_rate': [0.01, 0.1, 0.2],\n",
       "                          'n_estimators': [20, 40, 60]}],\n",
       "             scoring='neg_mean_squared_error')"
      ]
     },
     "execution_count": 63,
     "metadata": {},
     "output_type": "execute_result"
    }
   ],
   "source": [
    "lgb_model = LGBMRegressor(random_state=RANDOM_STATE)\n",
    "lgb_grid_params = [{'n_estimators': [20, 40, 60], \n",
    "                    'learning_rate':[0.01, 0.1, 0.2]}]\n",
    "lgb_cv = GridSearchCV(estimator=lgb_model, param_grid=lgb_grid_params, cv=3, scoring='neg_mean_squared_error')\n",
    "\n",
    "lgb_cv.fit(X_train_enc, y_train)"
   ]
  },
  {
   "cell_type": "code",
   "execution_count": 64,
   "metadata": {},
   "outputs": [
    {
     "data": {
      "text/plain": [
       "{'learning_rate': 0.2, 'n_estimators': 60}"
      ]
     },
     "execution_count": 64,
     "metadata": {},
     "output_type": "execute_result"
    }
   ],
   "source": [
    "lgb_cv.best_params_"
   ]
  },
  {
   "cell_type": "markdown",
   "metadata": {},
   "source": [
    "Результаты GridSearchCV сохраним в lgb_results:"
   ]
  },
  {
   "cell_type": "code",
   "execution_count": 67,
   "metadata": {},
   "outputs": [],
   "source": [
    "lgb_results = pd.DataFrame(lgb_cv.cv_results_)"
   ]
  },
  {
   "cell_type": "markdown",
   "metadata": {},
   "source": [
    "#### 4.2.2 Случайный лес"
   ]
  },
  {
   "cell_type": "code",
   "execution_count": 69,
   "metadata": {},
   "outputs": [
    {
     "data": {
      "text/plain": [
       "GridSearchCV(cv=3,\n",
       "             estimator=Pipeline(steps=[('scaler', StandardScaler()),\n",
       "                                       ('rfr',\n",
       "                                        RandomForestRegressor(random_state=25))]),\n",
       "             param_grid=[{'rfr__max_depth': range(6, 20, 2),\n",
       "                          'rfr__min_samples_leaf': range(2, 6)}],\n",
       "             scoring='neg_mean_squared_error')"
      ]
     },
     "execution_count": 69,
     "metadata": {},
     "output_type": "execute_result"
    }
   ],
   "source": [
    "rfr_model = RandomForestRegressor(random_state=RANDOM_STATE)\n",
    "\n",
    "rfr_grid_params = [{'rfr__max_depth': range (6, 20, 2),\n",
    "              'rfr__min_samples_leaf': range (2,6)              \n",
    "              }]\n",
    " \n",
    "pipeline = Pipeline([('scaler',StandardScaler()), ('rfr', rfr_model)])\n",
    "rfr_cv = GridSearchCV(estimator=pipeline,  \n",
    "                    param_grid=rfr_grid_params,\n",
    "                    scoring='neg_mean_squared_error',\n",
    "                    cv=3)\n",
    "\n",
    "rfr_cv.fit(X_train_enc, y_train)"
   ]
  },
  {
   "cell_type": "code",
   "execution_count": 70,
   "metadata": {},
   "outputs": [
    {
     "data": {
      "text/plain": [
       "{'rfr__max_depth': 18, 'rfr__min_samples_leaf': 2}"
      ]
     },
     "execution_count": 70,
     "metadata": {},
     "output_type": "execute_result"
    }
   ],
   "source": [
    "rfr_cv.best_params_"
   ]
  },
  {
   "cell_type": "markdown",
   "metadata": {},
   "source": [
    "Результаты GridSearchCV сохраним в rfr_results:"
   ]
  },
  {
   "cell_type": "code",
   "execution_count": 74,
   "metadata": {},
   "outputs": [],
   "source": [
    "rfr_results = pd.DataFrame(rfr_cv.cv_results_)"
   ]
  },
  {
   "cell_type": "markdown",
   "metadata": {},
   "source": [
    "## 5. Анализ моделей"
   ]
  },
  {
   "cell_type": "markdown",
   "metadata": {},
   "source": [
    "Для анализа моделей по лучшим параметрам, создадим таблицу с временем обучением, временем предсказания и полученнной метрикой качества на тестовой выборке:"
   ]
  },
  {
   "cell_type": "code",
   "execution_count": 75,
   "metadata": {},
   "outputs": [],
   "source": [
    "results = pd.DataFrame(columns=['Модель', 'Время обучения, с', 'Время предсказания, с', 'RMSE'])"
   ]
  },
  {
   "cell_type": "markdown",
   "metadata": {},
   "source": [
    "### 5.1 Тестирование модели"
   ]
  },
  {
   "cell_type": "code",
   "execution_count": 79,
   "metadata": {},
   "outputs": [],
   "source": [
    "results = results.append({'Модель': 'LGBMRegressor',\\\n",
    "                          'Время обучения, с': lgb_results[lgb_results['rank_test_score'] == 1]['mean_fit_time'].values[0], \\\n",
    "                          'Время предсказания, с': lgb_results[lgb_results['rank_test_score'] == 1]['mean_score_time'].values[0],\n",
    "                          'RMSE': ((lgb_results[lgb_results['rank_test_score'] == 1]['mean_test_score'].values[0])* -1 )**0.5},\\\n",
    "                                 ignore_index=True)"
   ]
  },
  {
   "cell_type": "code",
   "execution_count": 80,
   "metadata": {},
   "outputs": [],
   "source": [
    "results = results.append({'Модель': 'RandomForestRegressor',\\\n",
    "                                 'Время обучения, с': rfr_results[rfr_results['rank_test_score'] == 1]['mean_fit_time'].values[0], \\\n",
    "                                 'Время предсказания, с': rfr_results[rfr_results['rank_test_score'] == 1]['mean_score_time'].values[0],\n",
    "                                 'RMSE': ((rfr_results[rfr_results['rank_test_score'] == 1]['mean_test_score'].values[0])* -1 )**0.5},\\\n",
    "                                  ignore_index=True)"
   ]
  },
  {
   "cell_type": "code",
   "execution_count": 81,
   "metadata": {},
   "outputs": [
    {
     "data": {
      "text/html": [
       "<div>\n",
       "<style scoped>\n",
       "    .dataframe tbody tr th:only-of-type {\n",
       "        vertical-align: middle;\n",
       "    }\n",
       "\n",
       "    .dataframe tbody tr th {\n",
       "        vertical-align: top;\n",
       "    }\n",
       "\n",
       "    .dataframe thead th {\n",
       "        text-align: right;\n",
       "    }\n",
       "</style>\n",
       "<table border=\"1\" class=\"dataframe\">\n",
       "  <thead>\n",
       "    <tr style=\"text-align: right;\">\n",
       "      <th></th>\n",
       "      <th>Модель</th>\n",
       "      <th>Время обучения, с</th>\n",
       "      <th>Время предсказания, с</th>\n",
       "      <th>RMSE</th>\n",
       "    </tr>\n",
       "  </thead>\n",
       "  <tbody>\n",
       "    <tr>\n",
       "      <th>0</th>\n",
       "      <td>LGBMRegressor</td>\n",
       "      <td>2.437719</td>\n",
       "      <td>0.371449</td>\n",
       "      <td>1743.651552</td>\n",
       "    </tr>\n",
       "    <tr>\n",
       "      <th>1</th>\n",
       "      <td>RandomForestRegressor</td>\n",
       "      <td>28.403864</td>\n",
       "      <td>1.642639</td>\n",
       "      <td>1676.280991</td>\n",
       "    </tr>\n",
       "  </tbody>\n",
       "</table>\n",
       "</div>"
      ],
      "text/plain": [
       "                  Модель  Время обучения, с  Время предсказания, с  \\\n",
       "0          LGBMRegressor           2.437719               0.371449   \n",
       "1  RandomForestRegressor          28.403864               1.642639   \n",
       "\n",
       "          RMSE  \n",
       "0  1743.651552  \n",
       "1  1676.280991  "
      ]
     },
     "execution_count": 81,
     "metadata": {},
     "output_type": "execute_result"
    }
   ],
   "source": [
    "results"
   ]
  },
  {
   "cell_type": "markdown",
   "metadata": {},
   "source": [
    "**Анализ:** \n",
    "Лучшее время обучения у модели - LGBMRegressor;  \n",
    "Лучшее время предсказания - LGBMRegressor;  \n",
    "Наилучшая точность предсказания - RandomForestRegressor.  \n",
    "\n",
    "С учетом требования заказчика, для решения данной задачи можно порекомендовать модель LGBMRegressor. Данная модель уступает RandomForestRegressor в качестве предсказаний на 1%, но значительно превосходит по временным показателям"
   ]
  },
  {
   "cell_type": "markdown",
   "metadata": {},
   "source": [
    "Проведем тестирование модели:"
   ]
  },
  {
   "cell_type": "code",
   "execution_count": 98,
   "metadata": {},
   "outputs": [
    {
     "data": {
      "text/plain": [
       "1766.4043501576214"
      ]
     },
     "execution_count": 98,
     "metadata": {},
     "output_type": "execute_result"
    }
   ],
   "source": [
    "best_model = lgb_cv.best_estimator_\n",
    "predict = best_model.predict(X_test_enc)\n",
    "RMSE = mean_squared_error(y_test, predict) ** 0.5\n",
    "RMSE"
   ]
  },
  {
   "cell_type": "markdown",
   "metadata": {},
   "source": [
    "На тестовой выборке модель показала незначительное ухудшение качества предсказания на 1%"
   ]
  },
  {
   "cell_type": "markdown",
   "metadata": {},
   "source": [
    "### 5.2 Значимость признаков"
   ]
  },
  {
   "cell_type": "code",
   "execution_count": 95,
   "metadata": {},
   "outputs": [
    {
     "data": {
      "image/png": "[encoded data removed]",
      "text/plain": [
       "<Figure size 576x432 with 1 Axes>"
      ]
     },
     "metadata": {},
     "output_type": "display_data"
    }
   ],
   "source": [
    "lgb.plot_importance(best_model, figsize=(8,6));"
   ]
  },
  {
   "cell_type": "markdown",
   "metadata": {},
   "source": [
    "**Вывод:** наиболее значимые признаки для модели по алгоритму LGBMRegressor:  \n",
    "- model;  \n",
    "- power;  \n",
    "- registration_year."
   ]
  },
  {
   "cell_type": "markdown",
   "metadata": {},
   "source": [
    "## 6. Общий вывод"
   ]
  },
  {
   "cell_type": "markdown",
   "metadata": {},
   "source": [
    "В ходе выполнения работы был проведена предобработка данных, исследовательский анализ, разработано две модели машинного обучения, проанализированны временные показатели обучения и предсказания моделей и проведен анализ значимости признаков для лучшей модели.\n",
    "\n",
    "Наилучшее качество предсказаний и время обучения получили у модели по алгоритму 'градиентный бустинг'. Наилучшее качество предсказаний имеет модель на основе алгоритма 'случайный'. С учетом важности метрик качества для заказчика, рекомендуемой моделью является модель на основе 'градиентного бустинга'.  \n",
    "\n",
    "Наиболее важные признаки для лучшей модели: модель, мощность двигателя и год регистрации автомобиля."
   ]
  },
  {
   "cell_type": "code",
   "execution_count": null,
   "metadata": {},
   "outputs": [],
   "source": []
  }
 ],
 "metadata": {
  "ExecuteTimeLog": [
   {
    "duration": 1413,
    "start_time": "2023-04-15T18:55:20.887Z"
   },
   {
    "duration": 4,
    "start_time": "2023-04-15T18:55:24.012Z"
   },
   {
    "duration": 2789,
    "start_time": "2023-04-15T19:05:46.767Z"
   },
   {
    "duration": 712,
    "start_time": "2023-04-15T19:05:51.341Z"
   },
   {
    "duration": 4,
    "start_time": "2023-04-15T19:06:53.541Z"
   },
   {
    "duration": 3,
    "start_time": "2023-04-15T19:07:17.175Z"
   },
   {
    "duration": 2,
    "start_time": "2023-04-15T19:07:19.746Z"
   },
   {
    "duration": 1240,
    "start_time": "2023-04-15T19:07:32.030Z"
   },
   {
    "duration": 3380,
    "start_time": "2023-04-15T19:24:58.464Z"
   },
   {
    "duration": 5,
    "start_time": "2023-04-15T19:29:31.324Z"
   },
   {
    "duration": 180,
    "start_time": "2023-04-15T19:30:12.146Z"
   },
   {
    "duration": 68,
    "start_time": "2023-04-15T19:34:17.605Z"
   },
   {
    "duration": 13,
    "start_time": "2023-04-15T19:34:45.122Z"
   },
   {
    "duration": 6,
    "start_time": "2023-04-15T19:34:47.868Z"
   },
   {
    "duration": 399359,
    "start_time": "2023-04-15T19:34:49.305Z"
   },
   {
    "duration": 864,
    "start_time": "2023-04-15T19:51:04.984Z"
   },
   {
    "duration": 200,
    "start_time": "2023-04-15T19:53:29.814Z"
   },
   {
    "duration": 4,
    "start_time": "2023-04-15T19:56:06.928Z"
   },
   {
    "duration": 49,
    "start_time": "2023-04-15T20:04:34.675Z"
   },
   {
    "duration": 66,
    "start_time": "2023-04-15T20:05:19.335Z"
   },
   {
    "duration": 29,
    "start_time": "2023-04-15T20:08:01.364Z"
   },
   {
    "duration": 3,
    "start_time": "2023-04-15T20:11:06.779Z"
   },
   {
    "duration": 3576,
    "start_time": "2023-04-16T18:15:16.428Z"
   },
   {
    "duration": 1873,
    "start_time": "2023-04-16T18:15:20.007Z"
   },
   {
    "duration": 1431,
    "start_time": "2023-04-16T18:15:21.881Z"
   },
   {
    "duration": 4,
    "start_time": "2023-04-16T18:15:23.316Z"
   },
   {
    "duration": 1843,
    "start_time": "2023-04-16T18:15:23.322Z"
   },
   {
    "duration": 5,
    "start_time": "2023-04-16T18:15:25.168Z"
   },
   {
    "duration": 4,
    "start_time": "2023-04-16T18:15:25.175Z"
   },
   {
    "duration": 6,
    "start_time": "2023-04-16T18:15:25.180Z"
   },
   {
    "duration": 88,
    "start_time": "2023-04-16T18:15:25.188Z"
   },
   {
    "duration": 177,
    "start_time": "2023-04-16T18:15:30.607Z"
   },
   {
    "duration": 28,
    "start_time": "2023-04-16T18:17:11.579Z"
   },
   {
    "duration": 139,
    "start_time": "2023-04-16T18:18:12.419Z"
   },
   {
    "duration": 21,
    "start_time": "2023-04-16T18:18:18.000Z"
   },
   {
    "duration": 247,
    "start_time": "2023-04-16T18:21:59.803Z"
   },
   {
    "duration": 45,
    "start_time": "2023-04-16T18:22:08.197Z"
   },
   {
    "duration": 64,
    "start_time": "2023-04-16T18:24:23.411Z"
   },
   {
    "duration": 168,
    "start_time": "2023-04-16T18:24:40.709Z"
   },
   {
    "duration": 8,
    "start_time": "2023-04-16T18:28:52.117Z"
   },
   {
    "duration": 98,
    "start_time": "2023-04-16T18:28:58.458Z"
   },
   {
    "duration": 28,
    "start_time": "2023-04-16T18:32:59.319Z"
   },
   {
    "duration": 317,
    "start_time": "2023-04-16T18:34:22.716Z"
   },
   {
    "duration": 467,
    "start_time": "2023-04-16T18:35:54.723Z"
   },
   {
    "duration": 323,
    "start_time": "2023-04-16T18:36:11.179Z"
   },
   {
    "duration": 342,
    "start_time": "2023-04-16T18:43:56.727Z"
   },
   {
    "duration": 379,
    "start_time": "2023-04-16T18:47:16.473Z"
   },
   {
    "duration": 314,
    "start_time": "2023-04-16T18:47:19.472Z"
   },
   {
    "duration": 422,
    "start_time": "2023-04-16T18:48:09.142Z"
   },
   {
    "duration": 96,
    "start_time": "2023-04-16T18:48:31.451Z"
   },
   {
    "duration": 102,
    "start_time": "2023-04-16T18:49:50.851Z"
   },
   {
    "duration": 22,
    "start_time": "2023-04-16T18:52:20.246Z"
   },
   {
    "duration": 35,
    "start_time": "2023-04-16T18:52:59.240Z"
   },
   {
    "duration": 34,
    "start_time": "2023-04-16T18:53:06.547Z"
   },
   {
    "duration": 23,
    "start_time": "2023-04-16T18:53:32.442Z"
   },
   {
    "duration": 40,
    "start_time": "2023-04-16T18:56:07.133Z"
   },
   {
    "duration": 27,
    "start_time": "2023-04-16T18:56:13.881Z"
   },
   {
    "duration": 40,
    "start_time": "2023-04-16T18:56:39.154Z"
   },
   {
    "duration": 1361,
    "start_time": "2023-04-16T19:02:16.380Z"
   },
   {
    "duration": 54,
    "start_time": "2023-04-16T19:02:29.930Z"
   },
   {
    "duration": 40,
    "start_time": "2023-04-16T19:02:56.363Z"
   },
   {
    "duration": 24,
    "start_time": "2023-04-16T19:04:53.530Z"
   },
   {
    "duration": 21,
    "start_time": "2023-04-16T19:06:02.357Z"
   },
   {
    "duration": 34,
    "start_time": "2023-04-16T19:06:21.084Z"
   },
   {
    "duration": 34,
    "start_time": "2023-04-16T19:07:57.386Z"
   },
   {
    "duration": 149,
    "start_time": "2023-04-16T19:09:37.722Z"
   },
   {
    "duration": 165,
    "start_time": "2023-04-16T19:09:49.934Z"
   },
   {
    "duration": 72,
    "start_time": "2023-04-16T19:10:57.330Z"
   },
   {
    "duration": 22,
    "start_time": "2023-04-16T19:12:53.159Z"
   },
   {
    "duration": 37,
    "start_time": "2023-04-16T19:14:12.042Z"
   },
   {
    "duration": 227,
    "start_time": "2023-04-16T19:15:44.458Z"
   },
   {
    "duration": 34,
    "start_time": "2023-04-16T19:16:32.729Z"
   },
   {
    "duration": 24,
    "start_time": "2023-04-16T19:18:12.983Z"
   },
   {
    "duration": 28,
    "start_time": "2023-04-16T19:18:59.736Z"
   },
   {
    "duration": 23,
    "start_time": "2023-04-16T19:19:34.758Z"
   },
   {
    "duration": 23,
    "start_time": "2023-04-16T19:20:09.849Z"
   },
   {
    "duration": 24,
    "start_time": "2023-04-16T19:21:05.352Z"
   },
   {
    "duration": 23,
    "start_time": "2023-04-16T19:22:06.853Z"
   },
   {
    "duration": 198,
    "start_time": "2023-04-16T19:24:54.044Z"
   },
   {
    "duration": 234,
    "start_time": "2023-04-16T19:26:41.452Z"
   },
   {
    "duration": 211,
    "start_time": "2023-04-16T19:26:54.336Z"
   },
   {
    "duration": 36,
    "start_time": "2023-04-16T19:31:48.834Z"
   },
   {
    "duration": 51,
    "start_time": "2023-04-16T19:32:09.150Z"
   },
   {
    "duration": 29,
    "start_time": "2023-04-16T19:33:37.348Z"
   },
   {
    "duration": 37,
    "start_time": "2023-04-16T19:33:52.585Z"
   },
   {
    "duration": 37,
    "start_time": "2023-04-16T19:34:18.186Z"
   },
   {
    "duration": 27,
    "start_time": "2023-04-16T19:34:32.034Z"
   },
   {
    "duration": 35,
    "start_time": "2023-04-16T19:34:48.644Z"
   },
   {
    "duration": 28,
    "start_time": "2023-04-16T19:35:29.240Z"
   },
   {
    "duration": 84,
    "start_time": "2023-04-16T19:38:15.440Z"
   },
   {
    "duration": 21,
    "start_time": "2023-04-16T19:40:57.850Z"
   },
   {
    "duration": 9,
    "start_time": "2023-04-16T19:47:38.350Z"
   },
   {
    "duration": 85,
    "start_time": "2023-04-16T20:02:54.326Z"
   },
   {
    "duration": 12,
    "start_time": "2023-04-16T20:04:27.442Z"
   },
   {
    "duration": 22,
    "start_time": "2023-04-16T20:05:37.126Z"
   },
   {
    "duration": 1177,
    "start_time": "2023-04-16T20:06:27.137Z"
   },
   {
    "duration": 5,
    "start_time": "2023-04-16T20:09:40.129Z"
   },
   {
    "duration": 5,
    "start_time": "2023-04-16T20:10:03.122Z"
   },
   {
    "duration": 5,
    "start_time": "2023-04-16T20:10:14.518Z"
   },
   {
    "duration": 79,
    "start_time": "2023-04-16T20:10:25.918Z"
   },
   {
    "duration": 5,
    "start_time": "2023-04-16T20:10:33.418Z"
   },
   {
    "duration": 14,
    "start_time": "2023-04-16T20:18:58.229Z"
   },
   {
    "duration": 103,
    "start_time": "2023-04-16T20:19:43.113Z"
   },
   {
    "duration": 134,
    "start_time": "2023-04-16T20:19:48.909Z"
   },
   {
    "duration": 211,
    "start_time": "2023-04-16T20:20:03.822Z"
   },
   {
    "duration": 185,
    "start_time": "2023-04-16T20:20:19.913Z"
   },
   {
    "duration": 4,
    "start_time": "2023-04-16T20:23:30.425Z"
   },
   {
    "duration": 52268,
    "start_time": "2023-04-16T20:23:48.510Z"
   },
   {
    "duration": 11,
    "start_time": "2023-04-16T20:26:46.923Z"
   },
   {
    "duration": 70,
    "start_time": "2023-04-16T20:26:57.170Z"
   },
   {
    "duration": 39,
    "start_time": "2023-04-16T20:27:13.324Z"
   },
   {
    "duration": 10319,
    "start_time": "2023-04-16T20:30:13.217Z"
   },
   {
    "duration": 3424,
    "start_time": "2023-04-17T18:35:30.478Z"
   },
   {
    "duration": 1697,
    "start_time": "2023-04-17T18:35:33.905Z"
   },
   {
    "duration": 1292,
    "start_time": "2023-04-17T18:35:35.604Z"
   },
   {
    "duration": 4,
    "start_time": "2023-04-17T18:35:36.898Z"
   },
   {
    "duration": 1806,
    "start_time": "2023-04-17T18:35:36.905Z"
   },
   {
    "duration": 4,
    "start_time": "2023-04-17T18:35:38.713Z"
   },
   {
    "duration": 179,
    "start_time": "2023-04-17T18:35:59.787Z"
   },
   {
    "duration": 11922,
    "start_time": "2023-04-17T18:37:06.274Z"
   },
   {
    "duration": 2247,
    "start_time": "2023-04-17T18:41:29.611Z"
   },
   {
    "duration": 5,
    "start_time": "2023-04-17T18:41:31.860Z"
   },
   {
    "duration": 818,
    "start_time": "2023-04-17T18:41:31.867Z"
   },
   {
    "duration": 4,
    "start_time": "2023-04-17T18:41:32.687Z"
   },
   {
    "duration": 1391,
    "start_time": "2023-04-17T18:41:32.692Z"
   },
   {
    "duration": 5,
    "start_time": "2023-04-17T18:41:34.085Z"
   },
   {
    "duration": 11118,
    "start_time": "2023-04-17T18:41:34.092Z"
   },
   {
    "duration": 4,
    "start_time": "2023-04-17T18:41:45.212Z"
   },
   {
    "duration": 78,
    "start_time": "2023-04-17T18:41:45.217Z"
   },
   {
    "duration": 240,
    "start_time": "2023-04-17T18:41:45.298Z"
   },
   {
    "duration": 31,
    "start_time": "2023-04-17T18:41:45.539Z"
   },
   {
    "duration": 269,
    "start_time": "2023-04-17T18:41:45.583Z"
   },
   {
    "duration": 302,
    "start_time": "2023-04-17T18:41:45.854Z"
   },
   {
    "duration": 255,
    "start_time": "2023-04-17T18:41:46.158Z"
   },
   {
    "duration": 22,
    "start_time": "2023-04-17T18:41:46.415Z"
   },
   {
    "duration": 33,
    "start_time": "2023-04-17T18:41:46.438Z"
   },
   {
    "duration": 27,
    "start_time": "2023-04-17T18:41:46.473Z"
   },
   {
    "duration": 36,
    "start_time": "2023-04-17T18:41:46.502Z"
   },
   {
    "duration": 200,
    "start_time": "2023-04-17T18:41:46.540Z"
   },
   {
    "duration": 24,
    "start_time": "2023-04-17T18:41:46.741Z"
   },
   {
    "duration": 44,
    "start_time": "2023-04-17T18:41:46.767Z"
   },
   {
    "duration": 37,
    "start_time": "2023-04-17T18:41:46.812Z"
   },
   {
    "duration": 198,
    "start_time": "2023-04-17T18:41:46.851Z"
   },
   {
    "duration": 20,
    "start_time": "2023-04-17T18:41:47.051Z"
   },
   {
    "duration": 84,
    "start_time": "2023-04-17T18:41:47.084Z"
   },
   {
    "duration": 197,
    "start_time": "2023-04-17T18:41:47.170Z"
   },
   {
    "duration": 85,
    "start_time": "2023-04-17T18:43:05.285Z"
   },
   {
    "duration": 93,
    "start_time": "2023-04-17T18:43:11.332Z"
   },
   {
    "duration": 5,
    "start_time": "2023-04-17T18:50:41.331Z"
   },
   {
    "duration": 87,
    "start_time": "2023-04-17T18:50:48.580Z"
   },
   {
    "duration": 4,
    "start_time": "2023-04-17T18:51:42.212Z"
   },
   {
    "duration": 11862,
    "start_time": "2023-04-17T18:51:48.141Z"
   },
   {
    "duration": 25,
    "start_time": "2023-04-17T18:53:36.498Z"
   },
   {
    "duration": 83,
    "start_time": "2023-04-17T18:53:49.959Z"
   },
   {
    "duration": 27,
    "start_time": "2023-04-17T18:55:38.609Z"
   },
   {
    "duration": 191,
    "start_time": "2023-04-17T18:55:59.962Z"
   },
   {
    "duration": 23,
    "start_time": "2023-04-17T18:56:23.746Z"
   },
   {
    "duration": 79,
    "start_time": "2023-04-17T18:56:27.655Z"
   },
   {
    "duration": 87,
    "start_time": "2023-04-17T18:56:39.049Z"
   },
   {
    "duration": 74,
    "start_time": "2023-04-17T18:56:46.703Z"
   },
   {
    "duration": 24,
    "start_time": "2023-04-17T18:56:52.615Z"
   },
   {
    "duration": 93,
    "start_time": "2023-04-17T18:56:57.729Z"
   },
   {
    "duration": 293,
    "start_time": "2023-04-17T18:58:01.949Z"
   },
   {
    "duration": 4,
    "start_time": "2023-04-17T18:58:46.001Z"
   },
   {
    "duration": 2254,
    "start_time": "2023-04-17T18:58:53.846Z"
   },
   {
    "duration": 82,
    "start_time": "2023-04-17T18:59:08.520Z"
   },
   {
    "duration": 256,
    "start_time": "2023-04-17T18:59:16.927Z"
   },
   {
    "duration": 204,
    "start_time": "2023-04-17T18:59:32.656Z"
   },
   {
    "duration": 141,
    "start_time": "2023-04-17T19:00:08.879Z"
   },
   {
    "duration": 176,
    "start_time": "2023-04-17T19:00:45.952Z"
   },
   {
    "duration": 146,
    "start_time": "2023-04-17T19:06:55.620Z"
   },
   {
    "duration": 162,
    "start_time": "2023-04-17T19:11:07.458Z"
   },
   {
    "duration": 373,
    "start_time": "2023-04-17T19:11:54.997Z"
   },
   {
    "duration": 2517,
    "start_time": "2023-04-17T19:12:19.094Z"
   },
   {
    "duration": 8,
    "start_time": "2023-04-17T19:12:21.615Z"
   },
   {
    "duration": 909,
    "start_time": "2023-04-17T19:12:21.625Z"
   },
   {
    "duration": 3,
    "start_time": "2023-04-17T19:12:22.536Z"
   },
   {
    "duration": 1430,
    "start_time": "2023-04-17T19:12:22.543Z"
   },
   {
    "duration": 9,
    "start_time": "2023-04-17T19:12:23.974Z"
   },
   {
    "duration": 11085,
    "start_time": "2023-04-17T19:12:23.985Z"
   },
   {
    "duration": 13,
    "start_time": "2023-04-17T19:12:35.072Z"
   },
   {
    "duration": 52,
    "start_time": "2023-04-17T19:12:35.087Z"
   },
   {
    "duration": 273,
    "start_time": "2023-04-17T19:12:35.141Z"
   },
   {
    "duration": 31,
    "start_time": "2023-04-17T19:12:35.416Z"
   },
   {
    "duration": 287,
    "start_time": "2023-04-17T19:12:35.448Z"
   },
   {
    "duration": 315,
    "start_time": "2023-04-17T19:12:35.736Z"
   },
   {
    "duration": 309,
    "start_time": "2023-04-17T19:12:36.054Z"
   },
   {
    "duration": 32,
    "start_time": "2023-04-17T19:12:36.365Z"
   },
   {
    "duration": 45,
    "start_time": "2023-04-17T19:12:36.399Z"
   },
   {
    "duration": 31,
    "start_time": "2023-04-17T19:12:36.446Z"
   },
   {
    "duration": 46,
    "start_time": "2023-04-17T19:12:36.482Z"
   },
   {
    "duration": 172,
    "start_time": "2023-04-17T19:12:36.530Z"
   },
   {
    "duration": 35,
    "start_time": "2023-04-17T19:12:36.705Z"
   },
   {
    "duration": 42,
    "start_time": "2023-04-17T19:12:36.742Z"
   },
   {
    "duration": 24,
    "start_time": "2023-04-17T19:12:36.786Z"
   },
   {
    "duration": 197,
    "start_time": "2023-04-17T19:12:36.812Z"
   },
   {
    "duration": 23,
    "start_time": "2023-04-17T19:12:37.011Z"
   },
   {
    "duration": 100,
    "start_time": "2023-04-17T19:12:37.036Z"
   },
   {
    "duration": 190,
    "start_time": "2023-04-17T19:12:37.137Z"
   },
   {
    "duration": 87,
    "start_time": "2023-04-17T19:12:37.329Z"
   },
   {
    "duration": 143,
    "start_time": "2023-04-17T19:12:37.418Z"
   },
   {
    "duration": 220,
    "start_time": "2023-04-17T19:13:35.294Z"
   },
   {
    "duration": 24,
    "start_time": "2023-04-17T19:14:15.357Z"
   },
   {
    "duration": 76,
    "start_time": "2023-04-17T19:14:22.749Z"
   },
   {
    "duration": 5,
    "start_time": "2023-04-17T19:15:32.917Z"
   },
   {
    "duration": 287,
    "start_time": "2023-04-17T19:15:35.096Z"
   },
   {
    "duration": 280,
    "start_time": "2023-04-17T19:15:46.791Z"
   },
   {
    "duration": 5,
    "start_time": "2023-04-17T19:17:38.300Z"
   },
   {
    "duration": 102,
    "start_time": "2023-04-17T19:18:54.015Z"
   },
   {
    "duration": 111,
    "start_time": "2023-04-17T19:23:37.314Z"
   },
   {
    "duration": 5,
    "start_time": "2023-04-17T19:25:43.533Z"
   },
   {
    "duration": 10102,
    "start_time": "2023-04-17T19:37:06.314Z"
   },
   {
    "duration": 53,
    "start_time": "2023-04-17T19:46:56.445Z"
   },
   {
    "duration": 22,
    "start_time": "2023-04-17T19:48:54.223Z"
   },
   {
    "duration": 16,
    "start_time": "2023-04-17T19:48:57.850Z"
   },
   {
    "duration": 32,
    "start_time": "2023-04-17T19:50:11.041Z"
   },
   {
    "duration": 242,
    "start_time": "2023-04-17T19:50:21.918Z"
   },
   {
    "duration": 349,
    "start_time": "2023-04-17T19:50:50.023Z"
   },
   {
    "duration": 202,
    "start_time": "2023-04-17T19:51:00.235Z"
   },
   {
    "duration": 6,
    "start_time": "2023-04-17T19:57:41.944Z"
   },
   {
    "duration": 28,
    "start_time": "2023-04-17T19:59:26.173Z"
   },
   {
    "duration": 8,
    "start_time": "2023-04-17T20:00:16.500Z"
   },
   {
    "duration": 14,
    "start_time": "2023-04-17T20:01:55.412Z"
   },
   {
    "duration": 806,
    "start_time": "2023-04-17T20:04:22.541Z"
   },
   {
    "duration": 743,
    "start_time": "2023-04-17T20:04:37.939Z"
   },
   {
    "duration": 236,
    "start_time": "2023-04-17T20:05:45.090Z"
   },
   {
    "duration": 204,
    "start_time": "2023-04-17T20:06:27.301Z"
   },
   {
    "duration": 43,
    "start_time": "2023-04-17T20:14:35.277Z"
   },
   {
    "duration": 39,
    "start_time": "2023-04-17T20:14:49.565Z"
   },
   {
    "duration": 59,
    "start_time": "2023-04-17T20:15:02.542Z"
   },
   {
    "duration": 9,
    "start_time": "2023-04-17T20:15:19.259Z"
   },
   {
    "duration": 63,
    "start_time": "2023-04-17T20:16:32.583Z"
   },
   {
    "duration": 38,
    "start_time": "2023-04-17T20:17:21.232Z"
   },
   {
    "duration": 3373,
    "start_time": "2023-04-18T18:51:26.609Z"
   },
   {
    "duration": 1789,
    "start_time": "2023-04-18T18:51:29.991Z"
   },
   {
    "duration": 1434,
    "start_time": "2023-04-18T18:51:31.782Z"
   },
   {
    "duration": 4,
    "start_time": "2023-04-18T18:51:33.218Z"
   },
   {
    "duration": 1678,
    "start_time": "2023-04-18T18:51:33.224Z"
   },
   {
    "duration": 4,
    "start_time": "2023-04-18T18:51:34.904Z"
   },
   {
    "duration": 12690,
    "start_time": "2023-04-18T18:51:34.910Z"
   },
   {
    "duration": 5,
    "start_time": "2023-04-18T18:51:47.602Z"
   },
   {
    "duration": 58,
    "start_time": "2023-04-18T18:51:47.609Z"
   },
   {
    "duration": 274,
    "start_time": "2023-04-18T18:51:47.668Z"
   },
   {
    "duration": 40,
    "start_time": "2023-04-18T18:51:47.944Z"
   },
   {
    "duration": 283,
    "start_time": "2023-04-18T18:51:47.990Z"
   },
   {
    "duration": 303,
    "start_time": "2023-04-18T18:51:48.275Z"
   },
   {
    "duration": 287,
    "start_time": "2023-04-18T18:51:48.582Z"
   },
   {
    "duration": 33,
    "start_time": "2023-04-18T18:51:48.871Z"
   },
   {
    "duration": 31,
    "start_time": "2023-04-18T18:51:48.906Z"
   },
   {
    "duration": 81,
    "start_time": "2023-04-18T18:51:48.939Z"
   },
   {
    "duration": 36,
    "start_time": "2023-04-18T18:51:49.022Z"
   },
   {
    "duration": 203,
    "start_time": "2023-04-18T18:51:49.059Z"
   },
   {
    "duration": 30,
    "start_time": "2023-04-18T18:51:49.263Z"
   },
   {
    "duration": 36,
    "start_time": "2023-04-18T18:51:49.296Z"
   },
   {
    "duration": 34,
    "start_time": "2023-04-18T18:51:49.333Z"
   },
   {
    "duration": 256,
    "start_time": "2023-04-18T18:51:49.368Z"
   },
   {
    "duration": 19,
    "start_time": "2023-04-18T18:51:49.626Z"
   },
   {
    "duration": 142,
    "start_time": "2023-04-18T18:51:49.647Z"
   },
   {
    "duration": 233,
    "start_time": "2023-04-18T18:51:49.791Z"
   },
   {
    "duration": 117,
    "start_time": "2023-04-18T18:51:50.027Z"
   },
   {
    "duration": 171,
    "start_time": "2023-04-18T18:51:50.146Z"
   },
   {
    "duration": 23,
    "start_time": "2023-04-18T18:51:50.320Z"
   },
   {
    "duration": 279,
    "start_time": "2023-04-18T18:51:50.344Z"
   },
   {
    "duration": 4,
    "start_time": "2023-04-18T18:51:50.624Z"
   },
   {
    "duration": 213,
    "start_time": "2023-04-18T18:51:50.630Z"
   },
   {
    "duration": 5,
    "start_time": "2023-04-18T18:51:50.844Z"
   },
   {
    "duration": 134,
    "start_time": "2023-04-18T18:51:50.851Z"
   },
   {
    "duration": 12,
    "start_time": "2023-04-18T18:52:18.809Z"
   },
   {
    "duration": 10,
    "start_time": "2023-04-18T18:52:39.561Z"
   },
   {
    "duration": 4,
    "start_time": "2023-04-18T18:55:43.256Z"
   },
   {
    "duration": 60,
    "start_time": "2023-04-18T18:55:48.709Z"
   },
   {
    "duration": 3,
    "start_time": "2023-04-18T18:56:55.815Z"
   },
   {
    "duration": 48,
    "start_time": "2023-04-18T19:03:52.348Z"
   },
   {
    "duration": 2,
    "start_time": "2023-04-18T19:04:38.709Z"
   },
   {
    "duration": 2,
    "start_time": "2023-04-18T19:04:58.670Z"
   },
   {
    "duration": 4,
    "start_time": "2023-04-18T19:12:23.122Z"
   },
   {
    "duration": 56,
    "start_time": "2023-04-18T19:51:31.555Z"
   },
   {
    "duration": 3171,
    "start_time": "2023-04-19T18:02:13.209Z"
   },
   {
    "duration": 1599,
    "start_time": "2023-04-19T18:02:16.383Z"
   },
   {
    "duration": 1165,
    "start_time": "2023-04-19T18:02:17.984Z"
   },
   {
    "duration": 3,
    "start_time": "2023-04-19T18:02:19.152Z"
   },
   {
    "duration": 1357,
    "start_time": "2023-04-19T18:02:19.157Z"
   },
   {
    "duration": 3,
    "start_time": "2023-04-19T18:02:20.516Z"
   },
   {
    "duration": 10606,
    "start_time": "2023-04-19T18:02:20.521Z"
   },
   {
    "duration": 5,
    "start_time": "2023-04-19T18:02:31.129Z"
   },
   {
    "duration": 98,
    "start_time": "2023-04-19T18:02:31.136Z"
   },
   {
    "duration": 248,
    "start_time": "2023-04-19T18:02:31.236Z"
   },
   {
    "duration": 24,
    "start_time": "2023-04-19T18:02:31.486Z"
   },
   {
    "duration": 248,
    "start_time": "2023-04-19T18:02:31.512Z"
   },
   {
    "duration": 242,
    "start_time": "2023-04-19T18:02:31.762Z"
   },
   {
    "duration": 219,
    "start_time": "2023-04-19T18:02:32.007Z"
   },
   {
    "duration": 28,
    "start_time": "2023-04-19T18:02:32.228Z"
   },
   {
    "duration": 32,
    "start_time": "2023-04-19T18:02:32.258Z"
   },
   {
    "duration": 23,
    "start_time": "2023-04-19T18:02:32.292Z"
   },
   {
    "duration": 21,
    "start_time": "2023-04-19T18:02:32.317Z"
   },
   {
    "duration": 164,
    "start_time": "2023-04-19T18:02:32.339Z"
   },
   {
    "duration": 22,
    "start_time": "2023-04-19T18:02:32.504Z"
   },
   {
    "duration": 19,
    "start_time": "2023-04-19T18:02:32.528Z"
   },
   {
    "duration": 39,
    "start_time": "2023-04-19T18:02:32.549Z"
   },
   {
    "duration": 189,
    "start_time": "2023-04-19T18:02:32.590Z"
   },
   {
    "duration": 17,
    "start_time": "2023-04-19T18:02:32.781Z"
   },
   {
    "duration": 81,
    "start_time": "2023-04-19T18:02:32.800Z"
   },
   {
    "duration": 195,
    "start_time": "2023-04-19T18:02:32.883Z"
   },
   {
    "duration": 75,
    "start_time": "2023-04-19T18:02:33.080Z"
   },
   {
    "duration": 139,
    "start_time": "2023-04-19T18:02:33.158Z"
   },
   {
    "duration": 23,
    "start_time": "2023-04-19T18:02:33.299Z"
   },
   {
    "duration": 290,
    "start_time": "2023-04-19T18:02:33.324Z"
   },
   {
    "duration": 4,
    "start_time": "2023-04-19T18:02:33.615Z"
   },
   {
    "duration": 180,
    "start_time": "2023-04-19T18:02:33.620Z"
   },
   {
    "duration": 2191,
    "start_time": "2023-04-19T18:03:16.333Z"
   },
   {
    "duration": 8,
    "start_time": "2023-04-19T18:03:18.527Z"
   },
   {
    "duration": 857,
    "start_time": "2023-04-19T18:03:18.537Z"
   },
   {
    "duration": 3,
    "start_time": "2023-04-19T18:03:19.397Z"
   },
   {
    "duration": 1375,
    "start_time": "2023-04-19T18:03:19.402Z"
   },
   {
    "duration": 5,
    "start_time": "2023-04-19T18:03:20.790Z"
   },
   {
    "duration": 11551,
    "start_time": "2023-04-19T18:03:20.797Z"
   },
   {
    "duration": 4,
    "start_time": "2023-04-19T18:03:32.350Z"
   },
   {
    "duration": 44,
    "start_time": "2023-04-19T18:03:32.356Z"
   },
   {
    "duration": 304,
    "start_time": "2023-04-19T18:03:32.404Z"
   },
   {
    "duration": 23,
    "start_time": "2023-04-19T18:03:32.710Z"
   },
   {
    "duration": 287,
    "start_time": "2023-04-19T18:03:32.734Z"
   },
   {
    "duration": 266,
    "start_time": "2023-04-19T18:03:33.024Z"
   },
   {
    "duration": 219,
    "start_time": "2023-04-19T18:03:33.292Z"
   },
   {
    "duration": 18,
    "start_time": "2023-04-19T18:03:33.512Z"
   },
   {
    "duration": 29,
    "start_time": "2023-04-19T18:03:33.531Z"
   },
   {
    "duration": 41,
    "start_time": "2023-04-19T18:03:33.561Z"
   },
   {
    "duration": 38,
    "start_time": "2023-04-19T18:03:33.604Z"
   },
   {
    "duration": 177,
    "start_time": "2023-04-19T18:03:33.644Z"
   },
   {
    "duration": 24,
    "start_time": "2023-04-19T18:03:33.823Z"
   },
   {
    "duration": 46,
    "start_time": "2023-04-19T18:03:33.848Z"
   },
   {
    "duration": 54,
    "start_time": "2023-04-19T18:03:33.896Z"
   },
   {
    "duration": 203,
    "start_time": "2023-04-19T18:03:33.952Z"
   },
   {
    "duration": 38,
    "start_time": "2023-04-19T18:03:34.157Z"
   },
   {
    "duration": 93,
    "start_time": "2023-04-19T18:03:34.197Z"
   },
   {
    "duration": 173,
    "start_time": "2023-04-19T18:03:34.292Z"
   },
   {
    "duration": 85,
    "start_time": "2023-04-19T18:03:34.467Z"
   },
   {
    "duration": 154,
    "start_time": "2023-04-19T18:03:34.555Z"
   },
   {
    "duration": 25,
    "start_time": "2023-04-19T18:03:34.711Z"
   },
   {
    "duration": 286,
    "start_time": "2023-04-19T18:03:34.738Z"
   },
   {
    "duration": 4,
    "start_time": "2023-04-19T18:03:35.026Z"
   },
   {
    "duration": 216,
    "start_time": "2023-04-19T18:03:35.031Z"
   },
   {
    "duration": 13,
    "start_time": "2023-04-19T18:03:48.591Z"
   },
   {
    "duration": 131,
    "start_time": "2023-04-19T18:03:50.588Z"
   },
   {
    "duration": 29,
    "start_time": "2023-04-19T18:07:47.917Z"
   },
   {
    "duration": 10,
    "start_time": "2023-04-19T18:08:49.986Z"
   },
   {
    "duration": 9,
    "start_time": "2023-04-19T18:09:09.787Z"
   },
   {
    "duration": 10,
    "start_time": "2023-04-19T18:13:42.718Z"
   },
   {
    "duration": 3,
    "start_time": "2023-04-19T18:13:54.423Z"
   },
   {
    "duration": 643,
    "start_time": "2023-04-19T18:14:06.267Z"
   },
   {
    "duration": 6,
    "start_time": "2023-04-19T18:14:39.029Z"
   },
   {
    "duration": 12,
    "start_time": "2023-04-19T18:16:55.927Z"
   },
   {
    "duration": 15,
    "start_time": "2023-04-19T18:20:17.740Z"
   },
   {
    "duration": 1979,
    "start_time": "2023-04-19T18:20:24.923Z"
   },
   {
    "duration": 5,
    "start_time": "2023-04-19T18:20:26.904Z"
   },
   {
    "duration": 732,
    "start_time": "2023-04-19T18:20:26.911Z"
   },
   {
    "duration": 4,
    "start_time": "2023-04-19T18:20:27.645Z"
   },
   {
    "duration": 1259,
    "start_time": "2023-04-19T18:20:27.652Z"
   },
   {
    "duration": 5,
    "start_time": "2023-04-19T18:20:28.913Z"
   },
   {
    "duration": 9894,
    "start_time": "2023-04-19T18:20:28.919Z"
   },
   {
    "duration": 4,
    "start_time": "2023-04-19T18:20:38.814Z"
   },
   {
    "duration": 36,
    "start_time": "2023-04-19T18:20:38.820Z"
   },
   {
    "duration": 271,
    "start_time": "2023-04-19T18:20:38.857Z"
   },
   {
    "duration": 24,
    "start_time": "2023-04-19T18:20:39.130Z"
   },
   {
    "duration": 232,
    "start_time": "2023-04-19T18:20:39.155Z"
   },
   {
    "duration": 230,
    "start_time": "2023-04-19T18:20:39.389Z"
   },
   {
    "duration": 223,
    "start_time": "2023-04-19T18:20:39.621Z"
   },
   {
    "duration": 19,
    "start_time": "2023-04-19T18:20:39.845Z"
   },
   {
    "duration": 17,
    "start_time": "2023-04-19T18:20:39.872Z"
   },
   {
    "duration": 24,
    "start_time": "2023-04-19T18:20:39.891Z"
   },
   {
    "duration": 22,
    "start_time": "2023-04-19T18:20:39.917Z"
   },
   {
    "duration": 184,
    "start_time": "2023-04-19T18:20:39.940Z"
   },
   {
    "duration": 26,
    "start_time": "2023-04-19T18:20:40.126Z"
   },
   {
    "duration": 31,
    "start_time": "2023-04-19T18:20:40.153Z"
   },
   {
    "duration": 35,
    "start_time": "2023-04-19T18:20:40.186Z"
   },
   {
    "duration": 191,
    "start_time": "2023-04-19T18:20:40.222Z"
   },
   {
    "duration": 18,
    "start_time": "2023-04-19T18:20:40.415Z"
   },
   {
    "duration": 89,
    "start_time": "2023-04-19T18:20:40.434Z"
   },
   {
    "duration": 157,
    "start_time": "2023-04-19T18:20:40.524Z"
   },
   {
    "duration": 75,
    "start_time": "2023-04-19T18:20:40.683Z"
   },
   {
    "duration": 133,
    "start_time": "2023-04-19T18:20:40.759Z"
   },
   {
    "duration": 23,
    "start_time": "2023-04-19T18:20:40.893Z"
   },
   {
    "duration": 246,
    "start_time": "2023-04-19T18:20:40.918Z"
   },
   {
    "duration": 7,
    "start_time": "2023-04-19T18:20:41.166Z"
   },
   {
    "duration": 182,
    "start_time": "2023-04-19T18:20:41.175Z"
   },
   {
    "duration": 73,
    "start_time": "2023-04-19T18:20:45.727Z"
   },
   {
    "duration": 72,
    "start_time": "2023-04-19T18:21:14.950Z"
   },
   {
    "duration": 12,
    "start_time": "2023-04-19T18:21:17.566Z"
   },
   {
    "duration": 5,
    "start_time": "2023-04-19T18:23:31.923Z"
   },
   {
    "duration": 13,
    "start_time": "2023-04-19T18:23:41.636Z"
   },
   {
    "duration": 64,
    "start_time": "2023-04-19T18:23:42.505Z"
   },
   {
    "duration": 10,
    "start_time": "2023-04-19T18:23:44.097Z"
   },
   {
    "duration": 44,
    "start_time": "2023-04-19T18:24:43.330Z"
   },
   {
    "duration": 1373,
    "start_time": "2023-04-19T18:25:05.120Z"
   },
   {
    "duration": 14,
    "start_time": "2023-04-19T18:30:31.646Z"
   },
   {
    "duration": 1307,
    "start_time": "2023-04-19T18:31:39.418Z"
   },
   {
    "duration": 1232,
    "start_time": "2023-04-19T18:32:45.091Z"
   },
   {
    "duration": 2761,
    "start_time": "2023-04-19T18:33:19.839Z"
   },
   {
    "duration": 4,
    "start_time": "2023-04-19T18:34:05.464Z"
   },
   {
    "duration": 1454,
    "start_time": "2023-04-19T18:34:12.309Z"
   },
   {
    "duration": 10,
    "start_time": "2023-04-19T18:37:34.212Z"
   },
   {
    "duration": 10,
    "start_time": "2023-04-19T18:38:57.818Z"
   },
   {
    "duration": 4,
    "start_time": "2023-04-19T18:42:27.167Z"
   },
   {
    "duration": 10,
    "start_time": "2023-04-19T18:42:41.964Z"
   },
   {
    "duration": 54,
    "start_time": "2023-04-19T18:42:54.204Z"
   },
   {
    "duration": 544,
    "start_time": "2023-04-19T18:43:06.914Z"
   },
   {
    "duration": 445,
    "start_time": "2023-04-19T18:44:44.918Z"
   },
   {
    "duration": 107,
    "start_time": "2023-04-19T18:45:02.768Z"
   },
   {
    "duration": 10,
    "start_time": "2023-04-19T18:45:32.697Z"
   },
   {
    "duration": 10,
    "start_time": "2023-04-19T18:45:51.101Z"
   },
   {
    "duration": 2092,
    "start_time": "2023-04-19T18:46:34.700Z"
   },
   {
    "duration": 1862,
    "start_time": "2023-04-19T18:46:36.794Z"
   },
   {
    "duration": 1359,
    "start_time": "2023-04-19T18:46:38.657Z"
   },
   {
    "duration": 793,
    "start_time": "2023-04-19T18:46:40.018Z"
   },
   {
    "duration": 2,
    "start_time": "2023-04-19T18:46:40.813Z"
   },
   {
    "duration": 1231,
    "start_time": "2023-04-19T18:46:40.817Z"
   },
   {
    "duration": 2,
    "start_time": "2023-04-19T18:46:42.050Z"
   },
   {
    "duration": 9777,
    "start_time": "2023-04-19T18:46:42.054Z"
   },
   {
    "duration": 4,
    "start_time": "2023-04-19T18:46:51.833Z"
   },
   {
    "duration": 40,
    "start_time": "2023-04-19T18:46:51.840Z"
   },
   {
    "duration": 219,
    "start_time": "2023-04-19T18:46:51.882Z"
   },
   {
    "duration": 23,
    "start_time": "2023-04-19T18:46:52.103Z"
   },
   {
    "duration": 216,
    "start_time": "2023-04-19T18:46:52.128Z"
   },
   {
    "duration": 231,
    "start_time": "2023-04-19T18:46:52.345Z"
   },
   {
    "duration": 213,
    "start_time": "2023-04-19T18:46:52.578Z"
   },
   {
    "duration": 18,
    "start_time": "2023-04-19T18:46:52.793Z"
   },
   {
    "duration": 22,
    "start_time": "2023-04-19T18:46:52.812Z"
   },
   {
    "duration": 25,
    "start_time": "2023-04-19T18:46:52.835Z"
   },
   {
    "duration": 21,
    "start_time": "2023-04-19T18:46:52.862Z"
   },
   {
    "duration": 173,
    "start_time": "2023-04-19T18:46:52.885Z"
   },
   {
    "duration": 25,
    "start_time": "2023-04-19T18:46:53.060Z"
   },
   {
    "duration": 50,
    "start_time": "2023-04-19T18:46:53.087Z"
   },
   {
    "duration": 35,
    "start_time": "2023-04-19T18:46:53.138Z"
   },
   {
    "duration": 168,
    "start_time": "2023-04-19T18:46:53.175Z"
   },
   {
    "duration": 17,
    "start_time": "2023-04-19T18:46:53.344Z"
   },
   {
    "duration": 70,
    "start_time": "2023-04-19T18:46:53.362Z"
   },
   {
    "duration": 159,
    "start_time": "2023-04-19T18:46:53.433Z"
   },
   {
    "duration": 78,
    "start_time": "2023-04-19T18:46:53.595Z"
   },
   {
    "duration": 126,
    "start_time": "2023-04-19T18:46:53.674Z"
   },
   {
    "duration": 22,
    "start_time": "2023-04-19T18:46:53.802Z"
   },
   {
    "duration": 227,
    "start_time": "2023-04-19T18:46:53.826Z"
   },
   {
    "duration": 4,
    "start_time": "2023-04-19T18:46:54.054Z"
   },
   {
    "duration": 170,
    "start_time": "2023-04-19T18:46:54.059Z"
   },
   {
    "duration": 11,
    "start_time": "2023-04-19T18:46:54.230Z"
   },
   {
    "duration": 60,
    "start_time": "2023-04-19T18:46:54.242Z"
   },
   {
    "duration": 53,
    "start_time": "2023-04-19T18:46:58.071Z"
   },
   {
    "duration": 112,
    "start_time": "2023-04-19T18:46:59.340Z"
   },
   {
    "duration": 87,
    "start_time": "2023-04-19T18:50:53.006Z"
   },
   {
    "duration": 1200,
    "start_time": "2023-04-19T18:52:56.910Z"
   },
   {
    "duration": 4,
    "start_time": "2023-04-19T18:53:13.065Z"
   },
   {
    "duration": 5,
    "start_time": "2023-04-19T18:53:21.339Z"
   },
   {
    "duration": 997,
    "start_time": "2023-04-19T18:53:24.841Z"
   },
   {
    "duration": 36,
    "start_time": "2023-04-19T18:53:29.398Z"
   },
   {
    "duration": 22,
    "start_time": "2023-04-19T18:54:10.414Z"
   },
   {
    "duration": 1007,
    "start_time": "2023-04-19T18:54:21.765Z"
   },
   {
    "duration": 3,
    "start_time": "2023-04-19T18:54:24.631Z"
   },
   {
    "duration": 4,
    "start_time": "2023-04-19T18:54:32.122Z"
   },
   {
    "duration": 533,
    "start_time": "2023-04-19T18:54:32.994Z"
   },
   {
    "duration": 25,
    "start_time": "2023-04-19T18:54:33.825Z"
   },
   {
    "duration": 24,
    "start_time": "2023-04-19T18:55:28.706Z"
   },
   {
    "duration": 17,
    "start_time": "2023-04-19T18:55:36.340Z"
   },
   {
    "duration": 13,
    "start_time": "2023-04-19T18:56:15.597Z"
   },
   {
    "duration": 2034,
    "start_time": "2023-04-19T18:56:33.911Z"
   },
   {
    "duration": 2015,
    "start_time": "2023-04-19T18:56:35.947Z"
   },
   {
    "duration": 5,
    "start_time": "2023-04-19T18:56:37.964Z"
   },
   {
    "duration": 781,
    "start_time": "2023-04-19T18:56:37.971Z"
   },
   {
    "duration": 4,
    "start_time": "2023-04-19T18:56:38.753Z"
   },
   {
    "duration": 1210,
    "start_time": "2023-04-19T18:56:38.758Z"
   },
   {
    "duration": 4,
    "start_time": "2023-04-19T18:56:39.969Z"
   },
   {
    "duration": 9637,
    "start_time": "2023-04-19T18:56:39.974Z"
   },
   {
    "duration": 3,
    "start_time": "2023-04-19T18:56:49.613Z"
   },
   {
    "duration": 67,
    "start_time": "2023-04-19T18:56:49.618Z"
   },
   {
    "duration": 223,
    "start_time": "2023-04-19T18:56:49.687Z"
   },
   {
    "duration": 25,
    "start_time": "2023-04-19T18:56:49.912Z"
   },
   {
    "duration": 224,
    "start_time": "2023-04-19T18:56:49.939Z"
   },
   {
    "duration": 225,
    "start_time": "2023-04-19T18:56:50.165Z"
   },
   {
    "duration": 215,
    "start_time": "2023-04-19T18:56:50.391Z"
   },
   {
    "duration": 19,
    "start_time": "2023-04-19T18:56:50.608Z"
   },
   {
    "duration": 24,
    "start_time": "2023-04-19T18:56:50.628Z"
   },
   {
    "duration": 24,
    "start_time": "2023-04-19T18:56:50.654Z"
   },
   {
    "duration": 31,
    "start_time": "2023-04-19T18:56:50.679Z"
   },
   {
    "duration": 155,
    "start_time": "2023-04-19T18:56:50.711Z"
   },
   {
    "duration": 22,
    "start_time": "2023-04-19T18:56:50.867Z"
   },
   {
    "duration": 22,
    "start_time": "2023-04-19T18:56:50.890Z"
   },
   {
    "duration": 23,
    "start_time": "2023-04-19T18:56:50.914Z"
   },
   {
    "duration": 183,
    "start_time": "2023-04-19T18:56:50.939Z"
   },
   {
    "duration": 16,
    "start_time": "2023-04-19T18:56:51.123Z"
   },
   {
    "duration": 103,
    "start_time": "2023-04-19T18:56:51.141Z"
   },
   {
    "duration": 155,
    "start_time": "2023-04-19T18:56:51.245Z"
   },
   {
    "duration": 91,
    "start_time": "2023-04-19T18:56:51.403Z"
   },
   {
    "duration": 139,
    "start_time": "2023-04-19T18:56:51.496Z"
   },
   {
    "duration": 23,
    "start_time": "2023-04-19T18:56:51.636Z"
   },
   {
    "duration": 252,
    "start_time": "2023-04-19T18:56:51.660Z"
   },
   {
    "duration": 4,
    "start_time": "2023-04-19T18:56:51.913Z"
   },
   {
    "duration": 185,
    "start_time": "2023-04-19T18:56:51.919Z"
   },
   {
    "duration": 12,
    "start_time": "2023-04-19T18:56:52.105Z"
   },
   {
    "duration": 64,
    "start_time": "2023-04-19T18:56:52.119Z"
   },
   {
    "duration": 1365,
    "start_time": "2023-04-19T18:56:52.184Z"
   },
   {
    "duration": 4,
    "start_time": "2023-04-19T18:56:53.551Z"
   },
   {
    "duration": 17,
    "start_time": "2023-04-19T18:56:53.557Z"
   },
   {
    "duration": 1005,
    "start_time": "2023-04-19T18:56:53.576Z"
   },
   {
    "duration": 13,
    "start_time": "2023-04-19T18:57:18.820Z"
   },
   {
    "duration": 962,
    "start_time": "2023-04-19T18:57:29.143Z"
   },
   {
    "duration": 9,
    "start_time": "2023-04-19T18:57:47.333Z"
   },
   {
    "duration": 4,
    "start_time": "2023-04-19T18:57:52.396Z"
   },
   {
    "duration": 1339,
    "start_time": "2023-04-19T18:58:16.646Z"
   },
   {
    "duration": 4,
    "start_time": "2023-04-19T18:58:17.987Z"
   },
   {
    "duration": 5,
    "start_time": "2023-04-19T18:58:24.344Z"
   },
   {
    "duration": 1046,
    "start_time": "2023-04-19T18:58:25.129Z"
   },
   {
    "duration": 4,
    "start_time": "2023-04-19T18:58:26.179Z"
   },
   {
    "duration": 21,
    "start_time": "2023-04-19T18:59:14.962Z"
   },
   {
    "duration": 67,
    "start_time": "2023-04-19T18:59:15.860Z"
   },
   {
    "duration": 1241,
    "start_time": "2023-04-19T18:59:17.746Z"
   },
   {
    "duration": 3,
    "start_time": "2023-04-19T18:59:18.989Z"
   },
   {
    "duration": 6,
    "start_time": "2023-04-19T18:59:22.758Z"
   },
   {
    "duration": 2125,
    "start_time": "2023-04-19T18:59:25.400Z"
   },
   {
    "duration": 4,
    "start_time": "2023-04-19T18:59:27.527Z"
   },
   {
    "duration": 656,
    "start_time": "2023-04-19T18:59:39.898Z"
   },
   {
    "duration": 10,
    "start_time": "2023-04-19T19:03:31.927Z"
   },
   {
    "duration": 10,
    "start_time": "2023-04-19T19:04:40.154Z"
   },
   {
    "duration": 12,
    "start_time": "2023-04-19T19:05:18.792Z"
   },
   {
    "duration": 3,
    "start_time": "2023-04-19T19:06:08.641Z"
   },
   {
    "duration": 53,
    "start_time": "2023-04-19T19:07:37.858Z"
   },
   {
    "duration": 1951,
    "start_time": "2023-04-19T19:08:25.699Z"
   },
   {
    "duration": 1896,
    "start_time": "2023-04-19T19:08:27.652Z"
   },
   {
    "duration": 1485,
    "start_time": "2023-04-19T19:08:29.550Z"
   },
   {
    "duration": 1046,
    "start_time": "2023-04-19T19:08:31.037Z"
   },
   {
    "duration": 4,
    "start_time": "2023-04-19T19:08:32.085Z"
   },
   {
    "duration": 1243,
    "start_time": "2023-04-19T19:08:32.091Z"
   },
   {
    "duration": 3,
    "start_time": "2023-04-19T19:08:33.336Z"
   },
   {
    "duration": 9775,
    "start_time": "2023-04-19T19:08:33.340Z"
   },
   {
    "duration": 4,
    "start_time": "2023-04-19T19:08:43.116Z"
   },
   {
    "duration": 33,
    "start_time": "2023-04-19T19:08:43.122Z"
   },
   {
    "duration": 220,
    "start_time": "2023-04-19T19:08:43.157Z"
   },
   {
    "duration": 24,
    "start_time": "2023-04-19T19:08:43.379Z"
   },
   {
    "duration": 241,
    "start_time": "2023-04-19T19:08:43.405Z"
   },
   {
    "duration": 246,
    "start_time": "2023-04-19T19:08:43.649Z"
   },
   {
    "duration": 224,
    "start_time": "2023-04-19T19:08:43.897Z"
   },
   {
    "duration": 19,
    "start_time": "2023-04-19T19:08:44.123Z"
   },
   {
    "duration": 34,
    "start_time": "2023-04-19T19:08:44.144Z"
   },
   {
    "duration": 45,
    "start_time": "2023-04-19T19:08:44.180Z"
   },
   {
    "duration": 27,
    "start_time": "2023-04-19T19:08:44.227Z"
   },
   {
    "duration": 158,
    "start_time": "2023-04-19T19:08:44.255Z"
   },
   {
    "duration": 24,
    "start_time": "2023-04-19T19:08:44.415Z"
   },
   {
    "duration": 21,
    "start_time": "2023-04-19T19:08:44.441Z"
   },
   {
    "duration": 21,
    "start_time": "2023-04-19T19:08:44.471Z"
   },
   {
    "duration": 173,
    "start_time": "2023-04-19T19:08:44.494Z"
   },
   {
    "duration": 19,
    "start_time": "2023-04-19T19:08:44.669Z"
   },
   {
    "duration": 66,
    "start_time": "2023-04-19T19:08:44.690Z"
   },
   {
    "duration": 156,
    "start_time": "2023-04-19T19:08:44.771Z"
   },
   {
    "duration": 82,
    "start_time": "2023-04-19T19:08:44.928Z"
   },
   {
    "duration": 130,
    "start_time": "2023-04-19T19:08:45.012Z"
   },
   {
    "duration": 35,
    "start_time": "2023-04-19T19:08:45.143Z"
   },
   {
    "duration": 227,
    "start_time": "2023-04-19T19:08:45.180Z"
   },
   {
    "duration": 4,
    "start_time": "2023-04-19T19:08:45.408Z"
   },
   {
    "duration": 170,
    "start_time": "2023-04-19T19:08:45.413Z"
   },
   {
    "duration": 20,
    "start_time": "2023-04-19T19:08:45.585Z"
   },
   {
    "duration": 70,
    "start_time": "2023-04-19T19:08:45.607Z"
   },
   {
    "duration": 1219,
    "start_time": "2023-04-19T19:08:45.678Z"
   },
   {
    "duration": 4,
    "start_time": "2023-04-19T19:08:46.899Z"
   },
   {
    "duration": 13,
    "start_time": "2023-04-19T19:08:46.905Z"
   },
   {
    "duration": 1785,
    "start_time": "2023-04-19T19:08:46.920Z"
   },
   {
    "duration": 3,
    "start_time": "2023-04-19T19:08:48.706Z"
   },
   {
    "duration": 676,
    "start_time": "2023-04-19T19:08:48.712Z"
   },
   {
    "duration": 52,
    "start_time": "2023-04-19T19:09:40.399Z"
   },
   {
    "duration": 1843,
    "start_time": "2023-04-19T19:09:47.158Z"
   },
   {
    "duration": 1855,
    "start_time": "2023-04-19T19:09:49.003Z"
   },
   {
    "duration": 1391,
    "start_time": "2023-04-19T19:09:50.859Z"
   },
   {
    "duration": 1001,
    "start_time": "2023-04-19T19:09:52.252Z"
   },
   {
    "duration": 3,
    "start_time": "2023-04-19T19:09:53.255Z"
   },
   {
    "duration": 1150,
    "start_time": "2023-04-19T19:09:53.259Z"
   },
   {
    "duration": 3,
    "start_time": "2023-04-19T19:09:54.410Z"
   },
   {
    "duration": 9484,
    "start_time": "2023-04-19T19:09:54.415Z"
   },
   {
    "duration": 4,
    "start_time": "2023-04-19T19:10:03.900Z"
   },
   {
    "duration": 34,
    "start_time": "2023-04-19T19:10:03.906Z"
   },
   {
    "duration": 219,
    "start_time": "2023-04-19T19:10:03.941Z"
   },
   {
    "duration": 25,
    "start_time": "2023-04-19T19:10:04.162Z"
   },
   {
    "duration": 229,
    "start_time": "2023-04-19T19:10:04.189Z"
   },
   {
    "duration": 229,
    "start_time": "2023-04-19T19:10:04.419Z"
   },
   {
    "duration": 212,
    "start_time": "2023-04-19T19:10:04.650Z"
   },
   {
    "duration": 18,
    "start_time": "2023-04-19T19:10:04.864Z"
   },
   {
    "duration": 16,
    "start_time": "2023-04-19T19:10:04.884Z"
   },
   {
    "duration": 21,
    "start_time": "2023-04-19T19:10:04.901Z"
   },
   {
    "duration": 24,
    "start_time": "2023-04-19T19:10:04.924Z"
   },
   {
    "duration": 161,
    "start_time": "2023-04-19T19:10:04.949Z"
   },
   {
    "duration": 23,
    "start_time": "2023-04-19T19:10:05.111Z"
   },
   {
    "duration": 19,
    "start_time": "2023-04-19T19:10:05.135Z"
   },
   {
    "duration": 47,
    "start_time": "2023-04-19T19:10:05.155Z"
   },
   {
    "duration": 192,
    "start_time": "2023-04-19T19:10:05.203Z"
   },
   {
    "duration": 17,
    "start_time": "2023-04-19T19:10:05.396Z"
   },
   {
    "duration": 78,
    "start_time": "2023-04-19T19:10:05.415Z"
   },
   {
    "duration": 160,
    "start_time": "2023-04-19T19:10:05.495Z"
   },
   {
    "duration": 86,
    "start_time": "2023-04-19T19:10:05.658Z"
   },
   {
    "duration": 132,
    "start_time": "2023-04-19T19:10:05.745Z"
   },
   {
    "duration": 23,
    "start_time": "2023-04-19T19:10:05.878Z"
   },
   {
    "duration": 231,
    "start_time": "2023-04-19T19:10:05.903Z"
   },
   {
    "duration": 4,
    "start_time": "2023-04-19T19:10:06.136Z"
   },
   {
    "duration": 174,
    "start_time": "2023-04-19T19:10:06.141Z"
   },
   {
    "duration": 17,
    "start_time": "2023-04-19T19:10:22.787Z"
   },
   {
    "duration": 47,
    "start_time": "2023-04-19T19:10:24.918Z"
   },
   {
    "duration": 1023,
    "start_time": "2023-04-19T19:10:25.990Z"
   },
   {
    "duration": 4,
    "start_time": "2023-04-19T19:10:30.696Z"
   },
   {
    "duration": 7,
    "start_time": "2023-04-19T19:10:34.640Z"
   },
   {
    "duration": 1794,
    "start_time": "2023-04-19T19:10:35.695Z"
   },
   {
    "duration": 3,
    "start_time": "2023-04-19T19:10:37.491Z"
   },
   {
    "duration": 572,
    "start_time": "2023-04-19T19:10:39.916Z"
   },
   {
    "duration": 2136766,
    "start_time": "2023-04-19T19:10:48.792Z"
   },
   {
    "duration": 0,
    "start_time": "2023-04-19T19:46:25.560Z"
   },
   {
    "duration": 6,
    "start_time": "2023-04-19T19:46:29.591Z"
   },
   {
    "duration": 2023,
    "start_time": "2023-04-19T19:48:32.190Z"
   },
   {
    "duration": 1562,
    "start_time": "2023-04-19T19:48:34.216Z"
   },
   {
    "duration": 1395,
    "start_time": "2023-04-19T19:48:35.790Z"
   },
   {
    "duration": 3,
    "start_time": "2023-04-19T19:48:37.191Z"
   },
   {
    "duration": 1306,
    "start_time": "2023-04-19T19:48:37.196Z"
   },
   {
    "duration": 3,
    "start_time": "2023-04-19T19:48:38.504Z"
   },
   {
    "duration": 11286,
    "start_time": "2023-04-19T19:48:38.509Z"
   },
   {
    "duration": 4,
    "start_time": "2023-04-19T19:48:49.798Z"
   },
   {
    "duration": 58,
    "start_time": "2023-04-19T19:48:49.804Z"
   },
   {
    "duration": 286,
    "start_time": "2023-04-19T19:48:49.865Z"
   },
   {
    "duration": 38,
    "start_time": "2023-04-19T19:48:50.153Z"
   },
   {
    "duration": 272,
    "start_time": "2023-04-19T19:48:50.193Z"
   },
   {
    "duration": 323,
    "start_time": "2023-04-19T19:48:50.467Z"
   },
   {
    "duration": 278,
    "start_time": "2023-04-19T19:48:50.792Z"
   },
   {
    "duration": 39,
    "start_time": "2023-04-19T19:48:51.072Z"
   },
   {
    "duration": 19,
    "start_time": "2023-04-19T19:48:51.112Z"
   },
   {
    "duration": 26,
    "start_time": "2023-04-19T19:48:51.133Z"
   },
   {
    "duration": 28,
    "start_time": "2023-04-19T19:48:51.176Z"
   },
   {
    "duration": 241,
    "start_time": "2023-04-19T19:48:51.206Z"
   },
   {
    "duration": 41,
    "start_time": "2023-04-19T19:48:51.448Z"
   },
   {
    "duration": 35,
    "start_time": "2023-04-19T19:48:51.491Z"
   },
   {
    "duration": 55,
    "start_time": "2023-04-19T19:48:51.527Z"
   },
   {
    "duration": 228,
    "start_time": "2023-04-19T19:48:51.584Z"
   },
   {
    "duration": 17,
    "start_time": "2023-04-19T19:48:51.813Z"
   },
   {
    "duration": 87,
    "start_time": "2023-04-19T19:48:51.832Z"
   },
   {
    "duration": 197,
    "start_time": "2023-04-19T19:48:51.920Z"
   },
   {
    "duration": 80,
    "start_time": "2023-04-19T19:48:52.118Z"
   },
   {
    "duration": 144,
    "start_time": "2023-04-19T19:48:52.201Z"
   },
   {
    "duration": 42,
    "start_time": "2023-04-19T19:48:52.347Z"
   },
   {
    "duration": 233,
    "start_time": "2023-04-19T19:48:52.392Z"
   },
   {
    "duration": 4,
    "start_time": "2023-04-19T19:48:52.626Z"
   },
   {
    "duration": 180,
    "start_time": "2023-04-19T19:48:52.631Z"
   },
   {
    "duration": 16,
    "start_time": "2023-04-19T19:48:52.813Z"
   },
   {
    "duration": 75,
    "start_time": "2023-04-19T19:48:52.830Z"
   },
   {
    "duration": 1147,
    "start_time": "2023-04-19T19:48:52.907Z"
   },
   {
    "duration": 3,
    "start_time": "2023-04-19T19:48:54.056Z"
   },
   {
    "duration": 16,
    "start_time": "2023-04-19T19:48:54.061Z"
   },
   {
    "duration": 2377,
    "start_time": "2023-04-19T19:48:54.078Z"
   },
   {
    "duration": 4,
    "start_time": "2023-04-19T19:48:56.456Z"
   },
   {
    "duration": 625,
    "start_time": "2023-04-19T19:48:56.461Z"
   },
   {
    "duration": 19762760,
    "start_time": "2023-04-19T19:49:17.429Z"
   },
   {
    "duration": 4,
    "start_time": "2023-04-20T01:18:40.191Z"
   },
   {
    "duration": 82,
    "start_time": "2023-04-20T01:18:40.198Z"
   },
   {
    "duration": 8,
    "start_time": "2023-04-20T01:18:40.282Z"
   },
   {
    "duration": 7,
    "start_time": "2023-04-20T01:18:40.291Z"
   },
   {
    "duration": 117,
    "start_time": "2023-04-20T01:18:40.299Z"
   },
   {
    "duration": 0,
    "start_time": "2023-04-20T01:18:40.417Z"
   },
   {
    "duration": 0,
    "start_time": "2023-04-20T01:18:40.418Z"
   },
   {
    "duration": 0,
    "start_time": "2023-04-20T01:18:40.419Z"
   },
   {
    "duration": 4,
    "start_time": "2023-04-20T01:24:44.037Z"
   },
   {
    "duration": 4,
    "start_time": "2023-04-20T01:25:23.630Z"
   },
   {
    "duration": 12,
    "start_time": "2023-04-20T01:25:34.063Z"
   },
   {
    "duration": 36,
    "start_time": "2023-04-20T01:26:20.283Z"
   },
   {
    "duration": 3257,
    "start_time": "2023-04-20T05:51:12.492Z"
   },
   {
    "duration": 1585,
    "start_time": "2023-04-20T05:51:15.751Z"
   },
   {
    "duration": 3061,
    "start_time": "2023-04-20T05:51:17.338Z"
   },
   {
    "duration": 3,
    "start_time": "2023-04-20T05:51:20.402Z"
   },
   {
    "duration": 1577,
    "start_time": "2023-04-20T05:51:20.406Z"
   },
   {
    "duration": 4,
    "start_time": "2023-04-20T05:51:21.985Z"
   },
   {
    "duration": 11626,
    "start_time": "2023-04-20T05:51:21.990Z"
   },
   {
    "duration": 4,
    "start_time": "2023-04-20T05:51:33.618Z"
   },
   {
    "duration": 47,
    "start_time": "2023-04-20T05:51:33.624Z"
   },
   {
    "duration": 255,
    "start_time": "2023-04-20T05:51:33.673Z"
   },
   {
    "duration": 32,
    "start_time": "2023-04-20T05:51:33.930Z"
   },
   {
    "duration": 280,
    "start_time": "2023-04-20T05:51:33.963Z"
   },
   {
    "duration": 298,
    "start_time": "2023-04-20T05:51:34.244Z"
   },
   {
    "duration": 282,
    "start_time": "2023-04-20T05:51:34.545Z"
   },
   {
    "duration": 22,
    "start_time": "2023-04-20T05:51:34.828Z"
   },
   {
    "duration": 21,
    "start_time": "2023-04-20T05:51:34.851Z"
   },
   {
    "duration": 41,
    "start_time": "2023-04-20T05:51:34.874Z"
   },
   {
    "duration": 25,
    "start_time": "2023-04-20T05:51:34.917Z"
   },
   {
    "duration": 196,
    "start_time": "2023-04-20T05:51:34.943Z"
   },
   {
    "duration": 25,
    "start_time": "2023-04-20T05:51:35.140Z"
   },
   {
    "duration": 30,
    "start_time": "2023-04-20T05:51:35.167Z"
   },
   {
    "duration": 44,
    "start_time": "2023-04-20T05:51:35.199Z"
   },
   {
    "duration": 189,
    "start_time": "2023-04-20T05:51:35.245Z"
   },
   {
    "duration": 21,
    "start_time": "2023-04-20T05:51:35.436Z"
   },
   {
    "duration": 103,
    "start_time": "2023-04-20T05:51:35.459Z"
   },
   {
    "duration": 196,
    "start_time": "2023-04-20T05:51:35.564Z"
   },
   {
    "duration": 90,
    "start_time": "2023-04-20T05:51:35.761Z"
   },
   {
    "duration": 150,
    "start_time": "2023-04-20T05:51:35.855Z"
   },
   {
    "duration": 25,
    "start_time": "2023-04-20T05:51:36.011Z"
   },
   {
    "duration": 249,
    "start_time": "2023-04-20T05:51:36.037Z"
   },
   {
    "duration": 4,
    "start_time": "2023-04-20T05:51:36.288Z"
   },
   {
    "duration": 197,
    "start_time": "2023-04-20T05:51:36.294Z"
   },
   {
    "duration": 26,
    "start_time": "2023-04-20T05:51:36.493Z"
   },
   {
    "duration": 59,
    "start_time": "2023-04-20T05:51:36.521Z"
   },
   {
    "duration": 1229,
    "start_time": "2023-04-20T05:51:36.583Z"
   },
   {
    "duration": 5,
    "start_time": "2023-04-20T05:51:37.814Z"
   },
   {
    "duration": 6,
    "start_time": "2023-04-20T05:51:37.821Z"
   },
   {
    "duration": 3237,
    "start_time": "2023-04-20T05:51:37.828Z"
   },
   {
    "duration": 3,
    "start_time": "2023-04-20T05:51:41.067Z"
   },
   {
    "duration": 890,
    "start_time": "2023-04-20T05:51:41.072Z"
   },
   {
    "duration": 502730,
    "start_time": "2023-04-20T05:51:52.909Z"
   },
   {
    "duration": 2925,
    "start_time": "2023-04-20T06:01:00.328Z"
   },
   {
    "duration": 6,
    "start_time": "2023-04-20T06:01:03.256Z"
   },
   {
    "duration": 990,
    "start_time": "2023-04-20T06:01:03.264Z"
   },
   {
    "duration": 4,
    "start_time": "2023-04-20T06:01:04.255Z"
   },
   {
    "duration": 1528,
    "start_time": "2023-04-20T06:01:04.261Z"
   },
   {
    "duration": 4,
    "start_time": "2023-04-20T06:01:05.791Z"
   },
   {
    "duration": 13146,
    "start_time": "2023-04-20T06:01:05.797Z"
   },
   {
    "duration": 5,
    "start_time": "2023-04-20T06:01:18.945Z"
   },
   {
    "duration": 95,
    "start_time": "2023-04-20T06:01:18.952Z"
   },
   {
    "duration": 355,
    "start_time": "2023-04-20T06:01:19.050Z"
   },
   {
    "duration": 38,
    "start_time": "2023-04-20T06:01:19.411Z"
   },
   {
    "duration": 322,
    "start_time": "2023-04-20T06:01:19.450Z"
   },
   {
    "duration": 332,
    "start_time": "2023-04-20T06:01:19.773Z"
   },
   {
    "duration": 340,
    "start_time": "2023-04-20T06:01:20.112Z"
   },
   {
    "duration": 21,
    "start_time": "2023-04-20T06:01:20.454Z"
   },
   {
    "duration": 36,
    "start_time": "2023-04-20T06:01:20.477Z"
   },
   {
    "duration": 34,
    "start_time": "2023-04-20T06:01:20.515Z"
   },
   {
    "duration": 43,
    "start_time": "2023-04-20T06:01:20.550Z"
   },
   {
    "duration": 196,
    "start_time": "2023-04-20T06:01:20.595Z"
   },
   {
    "duration": 39,
    "start_time": "2023-04-20T06:01:20.793Z"
   },
   {
    "duration": 48,
    "start_time": "2023-04-20T06:01:20.834Z"
   },
   {
    "duration": 84,
    "start_time": "2023-04-20T06:01:20.883Z"
   },
   {
    "duration": 237,
    "start_time": "2023-04-20T06:01:20.969Z"
   },
   {
    "duration": 35,
    "start_time": "2023-04-20T06:01:21.213Z"
   },
   {
    "duration": 141,
    "start_time": "2023-04-20T06:01:21.250Z"
   },
   {
    "duration": 209,
    "start_time": "2023-04-20T06:01:21.393Z"
   },
   {
    "duration": 95,
    "start_time": "2023-04-20T06:01:21.611Z"
   },
   {
    "duration": 152,
    "start_time": "2023-04-20T06:01:21.711Z"
   },
   {
    "duration": 25,
    "start_time": "2023-04-20T06:01:21.865Z"
   },
   {
    "duration": 288,
    "start_time": "2023-04-20T06:01:21.892Z"
   },
   {
    "duration": 4,
    "start_time": "2023-04-20T06:01:22.182Z"
   },
   {
    "duration": 231,
    "start_time": "2023-04-20T06:01:22.188Z"
   },
   {
    "duration": 19,
    "start_time": "2023-04-20T06:01:22.421Z"
   },
   {
    "duration": 90,
    "start_time": "2023-04-20T06:01:22.442Z"
   },
   {
    "duration": 2570,
    "start_time": "2023-04-20T06:01:51.438Z"
   },
   {
    "duration": 1605,
    "start_time": "2023-04-20T06:01:54.010Z"
   },
   {
    "duration": 3318,
    "start_time": "2023-04-20T06:01:55.617Z"
   },
   {
    "duration": 4,
    "start_time": "2023-04-20T06:01:58.938Z"
   },
   {
    "duration": 1682,
    "start_time": "2023-04-20T06:01:58.945Z"
   },
   {
    "duration": 5,
    "start_time": "2023-04-20T06:02:00.630Z"
   },
   {
    "duration": 12854,
    "start_time": "2023-04-20T06:02:00.637Z"
   },
   {
    "duration": 5,
    "start_time": "2023-04-20T06:02:13.493Z"
   },
   {
    "duration": 44,
    "start_time": "2023-04-20T06:02:13.500Z"
   },
   {
    "duration": 293,
    "start_time": "2023-04-20T06:02:13.546Z"
   },
   {
    "duration": 35,
    "start_time": "2023-04-20T06:02:13.841Z"
   },
   {
    "duration": 345,
    "start_time": "2023-04-20T06:02:13.878Z"
   },
   {
    "duration": 325,
    "start_time": "2023-04-20T06:02:14.226Z"
   },
   {
    "duration": 349,
    "start_time": "2023-04-20T06:02:14.555Z"
   },
   {
    "duration": 42,
    "start_time": "2023-04-20T06:02:14.906Z"
   },
   {
    "duration": 45,
    "start_time": "2023-04-20T06:02:14.950Z"
   },
   {
    "duration": 61,
    "start_time": "2023-04-20T06:02:14.997Z"
   },
   {
    "duration": 33,
    "start_time": "2023-04-20T06:02:15.060Z"
   },
   {
    "duration": 199,
    "start_time": "2023-04-20T06:02:15.095Z"
   },
   {
    "duration": 37,
    "start_time": "2023-04-20T06:02:15.296Z"
   },
   {
    "duration": 26,
    "start_time": "2023-04-20T06:02:15.335Z"
   },
   {
    "duration": 33,
    "start_time": "2023-04-20T06:02:15.362Z"
   },
   {
    "duration": 239,
    "start_time": "2023-04-20T06:02:15.397Z"
   },
   {
    "duration": 25,
    "start_time": "2023-04-20T06:02:15.638Z"
   },
   {
    "duration": 119,
    "start_time": "2023-04-20T06:02:15.665Z"
   },
   {
    "duration": 230,
    "start_time": "2023-04-20T06:02:15.786Z"
   },
   {
    "duration": 96,
    "start_time": "2023-04-20T06:02:16.018Z"
   },
   {
    "duration": 192,
    "start_time": "2023-04-20T06:02:16.116Z"
   },
   {
    "duration": 36,
    "start_time": "2023-04-20T06:02:16.312Z"
   },
   {
    "duration": 289,
    "start_time": "2023-04-20T06:02:16.349Z"
   },
   {
    "duration": 4,
    "start_time": "2023-04-20T06:02:16.640Z"
   },
   {
    "duration": 267,
    "start_time": "2023-04-20T06:02:16.645Z"
   },
   {
    "duration": 24,
    "start_time": "2023-04-20T06:02:16.915Z"
   },
   {
    "duration": 81,
    "start_time": "2023-04-20T06:02:16.941Z"
   },
   {
    "duration": 1358,
    "start_time": "2023-04-20T06:02:17.024Z"
   },
   {
    "duration": 4,
    "start_time": "2023-04-20T06:02:18.384Z"
   },
   {
    "duration": 15,
    "start_time": "2023-04-20T06:02:18.390Z"
   },
   {
    "duration": 3012,
    "start_time": "2023-04-20T06:02:18.413Z"
   },
   {
    "duration": 5,
    "start_time": "2023-04-20T06:02:21.427Z"
   },
   {
    "duration": 1081,
    "start_time": "2023-04-20T06:02:21.435Z"
   },
   {
    "duration": 4972413,
    "start_time": "2023-04-20T06:02:22.521Z"
   },
   {
    "duration": 7,
    "start_time": "2023-04-20T07:25:14.937Z"
   },
   {
    "duration": 6,
    "start_time": "2023-04-20T07:25:14.948Z"
   },
   {
    "duration": 5,
    "start_time": "2023-04-20T07:25:14.955Z"
   },
   {
    "duration": 59,
    "start_time": "2023-04-20T07:25:14.962Z"
   },
   {
    "duration": 20584594,
    "start_time": "2023-04-20T07:25:15.025Z"
   },
   {
    "duration": 6,
    "start_time": "2023-04-20T13:08:19.626Z"
   },
   {
    "duration": 19,
    "start_time": "2023-04-20T13:08:19.634Z"
   },
   {
    "duration": 11,
    "start_time": "2023-04-20T13:08:19.654Z"
   },
   {
    "duration": 51,
    "start_time": "2023-04-20T18:33:52.938Z"
   },
   {
    "duration": 4353,
    "start_time": "2023-04-20T18:34:37.825Z"
   },
   {
    "duration": 2100,
    "start_time": "2023-04-20T18:34:42.181Z"
   },
   {
    "duration": 3104,
    "start_time": "2023-04-20T18:34:44.283Z"
   },
   {
    "duration": 11,
    "start_time": "2023-04-20T18:34:47.390Z"
   },
   {
    "duration": 1619,
    "start_time": "2023-04-20T18:34:47.403Z"
   },
   {
    "duration": 4,
    "start_time": "2023-04-20T18:34:49.024Z"
   },
   {
    "duration": 12119,
    "start_time": "2023-04-20T18:34:49.030Z"
   },
   {
    "duration": 4,
    "start_time": "2023-04-20T18:35:01.151Z"
   },
   {
    "duration": 80,
    "start_time": "2023-04-20T18:35:01.157Z"
   },
   {
    "duration": 307,
    "start_time": "2023-04-20T18:35:01.241Z"
   },
   {
    "duration": 33,
    "start_time": "2023-04-20T18:35:01.549Z"
   },
   {
    "duration": 330,
    "start_time": "2023-04-20T18:35:01.597Z"
   },
   {
    "duration": 351,
    "start_time": "2023-04-20T18:35:01.929Z"
   },
   {
    "duration": 447,
    "start_time": "2023-04-20T18:35:02.283Z"
   },
   {
    "duration": 22,
    "start_time": "2023-04-20T18:35:02.732Z"
   },
   {
    "duration": 27,
    "start_time": "2023-04-20T18:35:02.755Z"
   },
   {
    "duration": 23,
    "start_time": "2023-04-20T18:35:02.799Z"
   },
   {
    "duration": 22,
    "start_time": "2023-04-20T18:35:02.824Z"
   },
   {
    "duration": 201,
    "start_time": "2023-04-20T18:35:02.848Z"
   },
   {
    "duration": 24,
    "start_time": "2023-04-20T18:35:03.051Z"
   },
   {
    "duration": 46,
    "start_time": "2023-04-20T18:35:03.077Z"
   },
   {
    "duration": 24,
    "start_time": "2023-04-20T18:35:03.125Z"
   },
   {
    "duration": 227,
    "start_time": "2023-04-20T18:35:03.151Z"
   },
   {
    "duration": 30,
    "start_time": "2023-04-20T18:35:03.380Z"
   },
   {
    "duration": 100,
    "start_time": "2023-04-20T18:35:03.412Z"
   },
   {
    "duration": 173,
    "start_time": "2023-04-20T18:35:03.514Z"
   },
   {
    "duration": 105,
    "start_time": "2023-04-20T18:35:03.692Z"
   },
   {
    "duration": 160,
    "start_time": "2023-04-20T18:35:03.803Z"
   },
   {
    "duration": 40,
    "start_time": "2023-04-20T18:35:03.965Z"
   },
   {
    "duration": 265,
    "start_time": "2023-04-20T18:35:04.007Z"
   },
   {
    "duration": 4,
    "start_time": "2023-04-20T18:35:04.274Z"
   },
   {
    "duration": 235,
    "start_time": "2023-04-20T18:35:04.293Z"
   },
   {
    "duration": 29,
    "start_time": "2023-04-20T18:35:04.530Z"
   },
   {
    "duration": 79,
    "start_time": "2023-04-20T18:35:04.562Z"
   },
   {
    "duration": 1213,
    "start_time": "2023-04-20T18:35:04.643Z"
   },
   {
    "duration": 4,
    "start_time": "2023-04-20T18:35:05.858Z"
   },
   {
    "duration": 12,
    "start_time": "2023-04-20T18:35:05.864Z"
   },
   {
    "duration": 3187,
    "start_time": "2023-04-20T18:35:05.878Z"
   },
   {
    "duration": 4,
    "start_time": "2023-04-20T18:35:09.067Z"
   },
   {
    "duration": 65,
    "start_time": "2023-04-20T18:35:09.072Z"
   },
   {
    "duration": 46,
    "start_time": "2023-04-20T18:36:24.971Z"
   },
   {
    "duration": 101,
    "start_time": "2023-04-20T18:36:26.559Z"
   },
   {
    "duration": 13,
    "start_time": "2023-04-20T18:36:36.127Z"
   },
   {
    "duration": 31,
    "start_time": "2023-04-20T18:38:53.447Z"
   },
   {
    "duration": 2314,
    "start_time": "2023-04-20T18:39:22.836Z"
   },
   {
    "duration": 5,
    "start_time": "2023-04-20T18:39:25.153Z"
   },
   {
    "duration": 895,
    "start_time": "2023-04-20T18:39:25.159Z"
   },
   {
    "duration": 4,
    "start_time": "2023-04-20T18:39:26.056Z"
   },
   {
    "duration": 1594,
    "start_time": "2023-04-20T18:39:26.062Z"
   },
   {
    "duration": 4,
    "start_time": "2023-04-20T18:39:27.658Z"
   },
   {
    "duration": 12298,
    "start_time": "2023-04-20T18:39:27.663Z"
   },
   {
    "duration": 5,
    "start_time": "2023-04-20T18:39:39.963Z"
   },
   {
    "duration": 59,
    "start_time": "2023-04-20T18:39:39.969Z"
   },
   {
    "duration": 292,
    "start_time": "2023-04-20T18:39:40.031Z"
   },
   {
    "duration": 31,
    "start_time": "2023-04-20T18:39:40.325Z"
   },
   {
    "duration": 295,
    "start_time": "2023-04-20T18:39:40.358Z"
   },
   {
    "duration": 306,
    "start_time": "2023-04-20T18:39:40.655Z"
   },
   {
    "duration": 319,
    "start_time": "2023-04-20T18:39:40.963Z"
   },
   {
    "duration": 31,
    "start_time": "2023-04-20T18:39:41.284Z"
   },
   {
    "duration": 23,
    "start_time": "2023-04-20T18:39:41.316Z"
   },
   {
    "duration": 24,
    "start_time": "2023-04-20T18:39:41.341Z"
   },
   {
    "duration": 61,
    "start_time": "2023-04-20T18:39:41.367Z"
   },
   {
    "duration": 199,
    "start_time": "2023-04-20T18:39:41.430Z"
   },
   {
    "duration": 23,
    "start_time": "2023-04-20T18:39:41.631Z"
   },
   {
    "duration": 44,
    "start_time": "2023-04-20T18:39:41.656Z"
   },
   {
    "duration": 29,
    "start_time": "2023-04-20T18:39:41.703Z"
   },
   {
    "duration": 244,
    "start_time": "2023-04-20T18:39:41.734Z"
   },
   {
    "duration": 38,
    "start_time": "2023-04-20T18:39:41.980Z"
   },
   {
    "duration": 127,
    "start_time": "2023-04-20T18:39:42.020Z"
   },
   {
    "duration": 220,
    "start_time": "2023-04-20T18:39:42.149Z"
   },
   {
    "duration": 95,
    "start_time": "2023-04-20T18:39:42.371Z"
   },
   {
    "duration": 180,
    "start_time": "2023-04-20T18:39:42.470Z"
   },
   {
    "duration": 28,
    "start_time": "2023-04-20T18:39:42.652Z"
   },
   {
    "duration": 281,
    "start_time": "2023-04-20T18:39:42.681Z"
   },
   {
    "duration": 4,
    "start_time": "2023-04-20T18:39:42.965Z"
   },
   {
    "duration": 242,
    "start_time": "2023-04-20T18:39:42.970Z"
   },
   {
    "duration": 21,
    "start_time": "2023-04-20T18:39:43.214Z"
   },
   {
    "duration": 65,
    "start_time": "2023-04-20T18:39:43.237Z"
   },
   {
    "duration": 4426,
    "start_time": "2023-04-20T18:40:01.272Z"
   },
   {
    "duration": 3213,
    "start_time": "2023-04-20T18:40:05.705Z"
   },
   {
    "duration": 3355,
    "start_time": "2023-04-20T18:40:08.919Z"
   },
   {
    "duration": 4,
    "start_time": "2023-04-20T18:40:12.276Z"
   },
   {
    "duration": 1632,
    "start_time": "2023-04-20T18:40:12.282Z"
   },
   {
    "duration": 3,
    "start_time": "2023-04-20T18:40:13.916Z"
   },
   {
    "duration": 12156,
    "start_time": "2023-04-20T18:40:13.921Z"
   },
   {
    "duration": 7,
    "start_time": "2023-04-20T18:40:26.079Z"
   },
   {
    "duration": 65,
    "start_time": "2023-04-20T18:40:26.088Z"
   },
   {
    "duration": 291,
    "start_time": "2023-04-20T18:40:26.156Z"
   },
   {
    "duration": 33,
    "start_time": "2023-04-20T18:40:26.448Z"
   },
   {
    "duration": 298,
    "start_time": "2023-04-20T18:40:26.496Z"
   },
   {
    "duration": 289,
    "start_time": "2023-04-20T18:40:26.796Z"
   },
   {
    "duration": 300,
    "start_time": "2023-04-20T18:40:27.087Z"
   },
   {
    "duration": 27,
    "start_time": "2023-04-20T18:40:27.397Z"
   },
   {
    "duration": 19,
    "start_time": "2023-04-20T18:40:27.427Z"
   },
   {
    "duration": 31,
    "start_time": "2023-04-20T18:40:27.448Z"
   },
   {
    "duration": 31,
    "start_time": "2023-04-20T18:40:27.495Z"
   },
   {
    "duration": 211,
    "start_time": "2023-04-20T18:40:27.528Z"
   },
   {
    "duration": 24,
    "start_time": "2023-04-20T18:40:27.740Z"
   },
   {
    "duration": 33,
    "start_time": "2023-04-20T18:40:27.765Z"
   },
   {
    "duration": 31,
    "start_time": "2023-04-20T18:40:27.801Z"
   },
   {
    "duration": 200,
    "start_time": "2023-04-20T18:40:27.834Z"
   },
   {
    "duration": 22,
    "start_time": "2023-04-20T18:40:28.036Z"
   },
   {
    "duration": 99,
    "start_time": "2023-04-20T18:40:28.059Z"
   },
   {
    "duration": 218,
    "start_time": "2023-04-20T18:40:28.160Z"
   },
   {
    "duration": 95,
    "start_time": "2023-04-20T18:40:28.380Z"
   },
   {
    "duration": 173,
    "start_time": "2023-04-20T18:40:28.493Z"
   },
   {
    "duration": 36,
    "start_time": "2023-04-20T18:40:28.669Z"
   },
   {
    "duration": 265,
    "start_time": "2023-04-20T18:40:28.707Z"
   },
   {
    "duration": 4,
    "start_time": "2023-04-20T18:40:28.973Z"
   },
   {
    "duration": 232,
    "start_time": "2023-04-20T18:40:28.979Z"
   },
   {
    "duration": 25,
    "start_time": "2023-04-20T18:40:29.221Z"
   },
   {
    "duration": 59,
    "start_time": "2023-04-20T18:40:29.248Z"
   },
   {
    "duration": 1196,
    "start_time": "2023-04-20T18:40:29.309Z"
   },
   {
    "duration": 4,
    "start_time": "2023-04-20T18:40:30.508Z"
   },
   {
    "duration": 55,
    "start_time": "2023-04-20T18:40:30.514Z"
   },
   {
    "duration": 3226,
    "start_time": "2023-04-20T18:40:30.571Z"
   },
   {
    "duration": 5,
    "start_time": "2023-04-20T18:40:33.800Z"
   },
   {
    "duration": 3600,
    "start_time": "2023-04-20T18:41:38.315Z"
   },
   {
    "duration": 3764,
    "start_time": "2023-04-20T18:41:41.917Z"
   },
   {
    "duration": 3097,
    "start_time": "2023-04-20T18:41:45.683Z"
   },
   {
    "duration": 4,
    "start_time": "2023-04-20T18:41:48.783Z"
   },
   {
    "duration": 1671,
    "start_time": "2023-04-20T18:41:48.789Z"
   },
   {
    "duration": 4,
    "start_time": "2023-04-20T18:41:50.462Z"
   },
   {
    "duration": 11989,
    "start_time": "2023-04-20T18:41:50.468Z"
   },
   {
    "duration": 5,
    "start_time": "2023-04-20T18:42:02.459Z"
   },
   {
    "duration": 40,
    "start_time": "2023-04-20T18:42:02.465Z"
   },
   {
    "duration": 265,
    "start_time": "2023-04-20T18:42:02.509Z"
   },
   {
    "duration": 38,
    "start_time": "2023-04-20T18:42:02.776Z"
   },
   {
    "duration": 275,
    "start_time": "2023-04-20T18:42:02.816Z"
   },
   {
    "duration": 293,
    "start_time": "2023-04-20T18:42:03.095Z"
   },
   {
    "duration": 329,
    "start_time": "2023-04-20T18:42:03.393Z"
   },
   {
    "duration": 25,
    "start_time": "2023-04-20T18:42:03.724Z"
   },
   {
    "duration": 21,
    "start_time": "2023-04-20T18:42:03.752Z"
   },
   {
    "duration": 29,
    "start_time": "2023-04-20T18:42:03.793Z"
   },
   {
    "duration": 23,
    "start_time": "2023-04-20T18:42:03.825Z"
   },
   {
    "duration": 199,
    "start_time": "2023-04-20T18:42:03.850Z"
   },
   {
    "duration": 23,
    "start_time": "2023-04-20T18:42:04.051Z"
   },
   {
    "duration": 36,
    "start_time": "2023-04-20T18:42:04.076Z"
   },
   {
    "duration": 24,
    "start_time": "2023-04-20T18:42:04.114Z"
   },
   {
    "duration": 211,
    "start_time": "2023-04-20T18:42:04.140Z"
   },
   {
    "duration": 20,
    "start_time": "2023-04-20T18:42:04.353Z"
   },
   {
    "duration": 101,
    "start_time": "2023-04-20T18:42:04.375Z"
   },
   {
    "duration": 181,
    "start_time": "2023-04-20T18:42:04.477Z"
   },
   {
    "duration": 101,
    "start_time": "2023-04-20T18:42:04.659Z"
   },
   {
    "duration": 169,
    "start_time": "2023-04-20T18:42:04.763Z"
   },
   {
    "duration": 25,
    "start_time": "2023-04-20T18:42:04.933Z"
   },
   {
    "duration": 272,
    "start_time": "2023-04-20T18:42:04.959Z"
   },
   {
    "duration": 4,
    "start_time": "2023-04-20T18:42:05.233Z"
   },
   {
    "duration": 220,
    "start_time": "2023-04-20T18:42:05.238Z"
   },
   {
    "duration": 17,
    "start_time": "2023-04-20T18:42:05.460Z"
   },
   {
    "duration": 71,
    "start_time": "2023-04-20T18:42:05.478Z"
   },
   {
    "duration": 1186,
    "start_time": "2023-04-20T18:42:05.551Z"
   },
   {
    "duration": 5,
    "start_time": "2023-04-20T18:42:06.740Z"
   },
   {
    "duration": 8,
    "start_time": "2023-04-20T18:42:06.747Z"
   },
   {
    "duration": 3061,
    "start_time": "2023-04-20T18:42:06.757Z"
   },
   {
    "duration": 4,
    "start_time": "2023-04-20T18:42:09.820Z"
   },
   {
    "duration": 64,
    "start_time": "2023-04-20T18:43:47.185Z"
   },
   {
    "duration": 2261,
    "start_time": "2023-04-20T18:44:12.554Z"
   },
   {
    "duration": 2141,
    "start_time": "2023-04-20T18:44:14.817Z"
   },
   {
    "duration": 3114,
    "start_time": "2023-04-20T18:44:16.960Z"
   },
   {
    "duration": 3,
    "start_time": "2023-04-20T18:44:20.076Z"
   },
   {
    "duration": 1662,
    "start_time": "2023-04-20T18:44:20.081Z"
   },
   {
    "duration": 4,
    "start_time": "2023-04-20T18:44:21.745Z"
   },
   {
    "duration": 12003,
    "start_time": "2023-04-20T18:44:21.750Z"
   },
   {
    "duration": 4,
    "start_time": "2023-04-20T18:44:33.755Z"
   },
   {
    "duration": 60,
    "start_time": "2023-04-20T18:44:33.760Z"
   },
   {
    "duration": 316,
    "start_time": "2023-04-20T18:44:33.823Z"
   },
   {
    "duration": 33,
    "start_time": "2023-04-20T18:44:34.140Z"
   },
   {
    "duration": 307,
    "start_time": "2023-04-20T18:44:34.175Z"
   },
   {
    "duration": 344,
    "start_time": "2023-04-20T18:44:34.484Z"
   },
   {
    "duration": 302,
    "start_time": "2023-04-20T18:44:34.830Z"
   },
   {
    "duration": 21,
    "start_time": "2023-04-20T18:44:35.134Z"
   },
   {
    "duration": 45,
    "start_time": "2023-04-20T18:44:35.158Z"
   },
   {
    "duration": 36,
    "start_time": "2023-04-20T18:44:35.207Z"
   },
   {
    "duration": 32,
    "start_time": "2023-04-20T18:44:35.245Z"
   },
   {
    "duration": 198,
    "start_time": "2023-04-20T18:44:35.278Z"
   },
   {
    "duration": 27,
    "start_time": "2023-04-20T18:44:35.478Z"
   },
   {
    "duration": 24,
    "start_time": "2023-04-20T18:44:35.508Z"
   },
   {
    "duration": 38,
    "start_time": "2023-04-20T18:44:35.533Z"
   },
   {
    "duration": 199,
    "start_time": "2023-04-20T18:44:35.573Z"
   },
   {
    "duration": 29,
    "start_time": "2023-04-20T18:44:35.773Z"
   },
   {
    "duration": 74,
    "start_time": "2023-04-20T18:44:35.805Z"
   },
   {
    "duration": 194,
    "start_time": "2023-04-20T18:44:35.880Z"
   },
   {
    "duration": 93,
    "start_time": "2023-04-20T18:44:36.075Z"
   },
   {
    "duration": 155,
    "start_time": "2023-04-20T18:44:36.171Z"
   },
   {
    "duration": 32,
    "start_time": "2023-04-20T18:44:36.327Z"
   },
   {
    "duration": 274,
    "start_time": "2023-04-20T18:44:36.361Z"
   },
   {
    "duration": 4,
    "start_time": "2023-04-20T18:44:36.637Z"
   },
   {
    "duration": 226,
    "start_time": "2023-04-20T18:44:36.642Z"
   },
   {
    "duration": 40,
    "start_time": "2023-04-20T18:44:36.870Z"
   },
   {
    "duration": 52,
    "start_time": "2023-04-20T18:44:36.912Z"
   },
   {
    "duration": 1286,
    "start_time": "2023-04-20T18:44:36.965Z"
   },
   {
    "duration": 7,
    "start_time": "2023-04-20T18:44:38.253Z"
   },
   {
    "duration": 8,
    "start_time": "2023-04-20T18:44:38.263Z"
   },
   {
    "duration": 3428,
    "start_time": "2023-04-20T18:44:38.273Z"
   },
   {
    "duration": 6,
    "start_time": "2023-04-20T18:44:41.704Z"
   },
   {
    "duration": 50,
    "start_time": "2023-04-20T18:46:26.425Z"
   },
   {
    "duration": 3530,
    "start_time": "2023-04-20T18:46:32.857Z"
   },
   {
    "duration": 1684,
    "start_time": "2023-04-20T18:46:36.390Z"
   },
   {
    "duration": 3109,
    "start_time": "2023-04-20T18:46:38.076Z"
   },
   {
    "duration": 4,
    "start_time": "2023-04-20T18:46:41.186Z"
   },
   {
    "duration": 1565,
    "start_time": "2023-04-20T18:46:41.194Z"
   },
   {
    "duration": 3,
    "start_time": "2023-04-20T18:46:42.761Z"
   },
   {
    "duration": 11971,
    "start_time": "2023-04-20T18:46:42.766Z"
   },
   {
    "duration": 4,
    "start_time": "2023-04-20T18:46:54.739Z"
   },
   {
    "duration": 49,
    "start_time": "2023-04-20T18:46:54.745Z"
   },
   {
    "duration": 268,
    "start_time": "2023-04-20T18:46:54.796Z"
   },
   {
    "duration": 43,
    "start_time": "2023-04-20T18:46:55.065Z"
   },
   {
    "duration": 279,
    "start_time": "2023-04-20T18:46:55.110Z"
   },
   {
    "duration": 299,
    "start_time": "2023-04-20T18:46:55.391Z"
   },
   {
    "duration": 276,
    "start_time": "2023-04-20T18:46:55.694Z"
   },
   {
    "duration": 28,
    "start_time": "2023-04-20T18:46:55.972Z"
   },
   {
    "duration": 27,
    "start_time": "2023-04-20T18:46:56.002Z"
   },
   {
    "duration": 24,
    "start_time": "2023-04-20T18:46:56.030Z"
   },
   {
    "duration": 37,
    "start_time": "2023-04-20T18:46:56.056Z"
   },
   {
    "duration": 190,
    "start_time": "2023-04-20T18:46:56.096Z"
   },
   {
    "duration": 32,
    "start_time": "2023-04-20T18:46:56.287Z"
   },
   {
    "duration": 22,
    "start_time": "2023-04-20T18:46:56.320Z"
   },
   {
    "duration": 44,
    "start_time": "2023-04-20T18:46:56.343Z"
   },
   {
    "duration": 212,
    "start_time": "2023-04-20T18:46:56.392Z"
   },
   {
    "duration": 22,
    "start_time": "2023-04-20T18:46:56.607Z"
   },
   {
    "duration": 114,
    "start_time": "2023-04-20T18:46:56.631Z"
   },
   {
    "duration": 183,
    "start_time": "2023-04-20T18:46:56.747Z"
   },
   {
    "duration": 100,
    "start_time": "2023-04-20T18:46:56.931Z"
   },
   {
    "duration": 162,
    "start_time": "2023-04-20T18:46:57.033Z"
   },
   {
    "duration": 29,
    "start_time": "2023-04-20T18:46:57.197Z"
   },
   {
    "duration": 284,
    "start_time": "2023-04-20T18:46:57.228Z"
   },
   {
    "duration": 4,
    "start_time": "2023-04-20T18:46:57.513Z"
   },
   {
    "duration": 224,
    "start_time": "2023-04-20T18:46:57.519Z"
   },
   {
    "duration": 24,
    "start_time": "2023-04-20T18:47:03.329Z"
   },
   {
    "duration": 59,
    "start_time": "2023-04-20T18:47:05.328Z"
   },
   {
    "duration": 1423,
    "start_time": "2023-04-20T18:47:09.405Z"
   },
   {
    "duration": 4,
    "start_time": "2023-04-20T18:47:10.842Z"
   },
   {
    "duration": 6,
    "start_time": "2023-04-20T18:47:12.080Z"
   },
   {
    "duration": 3914,
    "start_time": "2023-04-20T18:47:14.133Z"
   },
   {
    "duration": 4,
    "start_time": "2023-04-20T18:47:18.049Z"
   },
   {
    "duration": 1751,
    "start_time": "2023-04-20T18:47:23.259Z"
   },
   {
    "duration": 59,
    "start_time": "2023-04-20T18:47:29.647Z"
   },
   {
    "duration": 726,
    "start_time": "2023-04-20T18:48:25.273Z"
   },
   {
    "duration": 22,
    "start_time": "2023-04-20T18:58:22.861Z"
   },
   {
    "duration": 177862,
    "start_time": "2023-04-20T18:58:48.857Z"
   },
   {
    "duration": 1876,
    "start_time": "2023-04-20T19:04:49.630Z"
   },
   {
    "duration": 10,
    "start_time": "2023-04-20T19:05:50.474Z"
   },
   {
    "duration": 5,
    "start_time": "2023-04-20T19:07:14.626Z"
   },
   {
    "duration": 6,
    "start_time": "2023-04-20T19:07:21.017Z"
   },
   {
    "duration": 249082,
    "start_time": "2023-04-20T19:09:15.030Z"
   },
   {
    "duration": 9,
    "start_time": "2023-04-20T19:13:51.774Z"
   },
   {
    "duration": 7,
    "start_time": "2023-04-20T19:14:54.915Z"
   },
   {
    "duration": 4916,
    "start_time": "2023-04-20T19:15:01.919Z"
   },
   {
    "duration": 955,
    "start_time": "2023-04-20T19:15:43.738Z"
   },
   {
    "duration": 6,
    "start_time": "2023-04-20T19:15:44.696Z"
   },
   {
    "duration": 5,
    "start_time": "2023-04-20T19:19:31.516Z"
   },
   {
    "duration": 5,
    "start_time": "2023-04-20T19:22:42.522Z"
   },
   {
    "duration": 11,
    "start_time": "2023-04-20T19:31:09.878Z"
   },
   {
    "duration": 74,
    "start_time": "2023-04-20T19:42:15.106Z"
   },
   {
    "duration": 3,
    "start_time": "2023-04-20T19:42:22.823Z"
   },
   {
    "duration": 71,
    "start_time": "2023-04-20T19:42:24.468Z"
   },
   {
    "duration": 21,
    "start_time": "2023-04-20T19:42:57.707Z"
   },
   {
    "duration": 22,
    "start_time": "2023-04-20T19:53:52.662Z"
   },
   {
    "duration": 22,
    "start_time": "2023-04-20T19:53:58.347Z"
   },
   {
    "duration": 6147,
    "start_time": "2023-04-20T19:54:20.049Z"
   },
   {
    "duration": 803,
    "start_time": "2023-04-20T19:54:26.198Z"
   },
   {
    "duration": 6,
    "start_time": "2023-04-20T19:54:27.003Z"
   },
   {
    "duration": 8,
    "start_time": "2023-04-20T19:57:01.092Z"
   },
   {
    "duration": 64,
    "start_time": "2023-04-20T19:57:30.622Z"
   },
   {
    "duration": 54,
    "start_time": "2023-04-20T19:58:05.440Z"
   },
   {
    "duration": 3132,
    "start_time": "2023-04-20T19:58:10.147Z"
   },
   {
    "duration": 1703,
    "start_time": "2023-04-20T19:58:13.283Z"
   },
   {
    "duration": 3297,
    "start_time": "2023-04-20T19:58:14.988Z"
   },
   {
    "duration": 3,
    "start_time": "2023-04-20T19:58:18.287Z"
   },
   {
    "duration": 1560,
    "start_time": "2023-04-20T19:58:18.293Z"
   },
   {
    "duration": 5,
    "start_time": "2023-04-20T19:58:19.854Z"
   },
   {
    "duration": 11324,
    "start_time": "2023-04-20T19:58:19.861Z"
   },
   {
    "duration": 6,
    "start_time": "2023-04-20T19:58:31.188Z"
   },
   {
    "duration": 58,
    "start_time": "2023-04-20T19:58:31.197Z"
   },
   {
    "duration": 253,
    "start_time": "2023-04-20T19:58:31.257Z"
   },
   {
    "duration": 32,
    "start_time": "2023-04-20T19:58:31.513Z"
   },
   {
    "duration": 270,
    "start_time": "2023-04-20T19:58:31.547Z"
   },
   {
    "duration": 277,
    "start_time": "2023-04-20T19:58:31.818Z"
   },
   {
    "duration": 293,
    "start_time": "2023-04-20T19:58:32.098Z"
   },
   {
    "duration": 30,
    "start_time": "2023-04-20T19:58:32.393Z"
   },
   {
    "duration": 33,
    "start_time": "2023-04-20T19:58:32.425Z"
   },
   {
    "duration": 60,
    "start_time": "2023-04-20T19:58:32.460Z"
   },
   {
    "duration": 28,
    "start_time": "2023-04-20T19:58:32.522Z"
   },
   {
    "duration": 183,
    "start_time": "2023-04-20T19:58:32.552Z"
   },
   {
    "duration": 22,
    "start_time": "2023-04-20T19:58:32.737Z"
   },
   {
    "duration": 43,
    "start_time": "2023-04-20T19:58:32.760Z"
   },
   {
    "duration": 36,
    "start_time": "2023-04-20T19:58:32.804Z"
   },
   {
    "duration": 186,
    "start_time": "2023-04-20T19:58:32.842Z"
   },
   {
    "duration": 19,
    "start_time": "2023-04-20T19:58:33.030Z"
   },
   {
    "duration": 89,
    "start_time": "2023-04-20T19:58:33.050Z"
   },
   {
    "duration": 169,
    "start_time": "2023-04-20T19:58:33.141Z"
   },
   {
    "duration": 92,
    "start_time": "2023-04-20T19:58:33.312Z"
   },
   {
    "duration": 151,
    "start_time": "2023-04-20T19:58:33.406Z"
   },
   {
    "duration": 26,
    "start_time": "2023-04-20T19:58:33.558Z"
   },
   {
    "duration": 251,
    "start_time": "2023-04-20T19:58:33.593Z"
   },
   {
    "duration": 4,
    "start_time": "2023-04-20T19:58:33.845Z"
   },
   {
    "duration": 231,
    "start_time": "2023-04-20T19:58:33.850Z"
   },
   {
    "duration": 31,
    "start_time": "2023-04-20T19:58:34.083Z"
   },
   {
    "duration": 83,
    "start_time": "2023-04-20T19:58:34.115Z"
   },
   {
    "duration": 1402,
    "start_time": "2023-04-20T19:58:34.200Z"
   },
   {
    "duration": 5,
    "start_time": "2023-04-20T19:58:35.604Z"
   },
   {
    "duration": 15,
    "start_time": "2023-04-20T19:58:35.611Z"
   },
   {
    "duration": 4081,
    "start_time": "2023-04-20T19:58:35.628Z"
   },
   {
    "duration": 4,
    "start_time": "2023-04-20T19:58:39.711Z"
   },
   {
    "duration": 1092,
    "start_time": "2023-04-20T19:58:39.717Z"
   },
   {
    "duration": 59,
    "start_time": "2023-04-20T19:58:40.813Z"
   },
   {
    "duration": 49,
    "start_time": "2023-04-20T19:59:19.125Z"
   },
   {
    "duration": 7,
    "start_time": "2023-04-20T20:05:24.268Z"
   },
   {
    "duration": 7,
    "start_time": "2023-04-20T20:05:51.009Z"
   },
   {
    "duration": 3353,
    "start_time": "2023-04-20T20:05:56.514Z"
   },
   {
    "duration": 1981,
    "start_time": "2023-04-20T20:05:59.870Z"
   },
   {
    "duration": 3327,
    "start_time": "2023-04-20T20:06:01.853Z"
   },
   {
    "duration": 3,
    "start_time": "2023-04-20T20:06:05.182Z"
   },
   {
    "duration": 1577,
    "start_time": "2023-04-20T20:06:05.187Z"
   },
   {
    "duration": 5,
    "start_time": "2023-04-20T20:06:06.766Z"
   },
   {
    "duration": 12112,
    "start_time": "2023-04-20T20:06:06.772Z"
   },
   {
    "duration": 5,
    "start_time": "2023-04-20T20:06:18.886Z"
   },
   {
    "duration": 46,
    "start_time": "2023-04-20T20:06:18.892Z"
   },
   {
    "duration": 280,
    "start_time": "2023-04-20T20:06:18.939Z"
   },
   {
    "duration": 37,
    "start_time": "2023-04-20T20:06:19.222Z"
   },
   {
    "duration": 294,
    "start_time": "2023-04-20T20:06:19.261Z"
   },
   {
    "duration": 303,
    "start_time": "2023-04-20T20:06:19.557Z"
   },
   {
    "duration": 328,
    "start_time": "2023-04-20T20:06:19.865Z"
   },
   {
    "duration": 32,
    "start_time": "2023-04-20T20:06:20.195Z"
   },
   {
    "duration": 22,
    "start_time": "2023-04-20T20:06:20.229Z"
   },
   {
    "duration": 43,
    "start_time": "2023-04-20T20:06:20.253Z"
   },
   {
    "duration": 28,
    "start_time": "2023-04-20T20:06:20.299Z"
   },
   {
    "duration": 192,
    "start_time": "2023-04-20T20:06:20.329Z"
   },
   {
    "duration": 24,
    "start_time": "2023-04-20T20:06:20.523Z"
   },
   {
    "duration": 23,
    "start_time": "2023-04-20T20:06:20.549Z"
   },
   {
    "duration": 49,
    "start_time": "2023-04-20T20:06:20.574Z"
   },
   {
    "duration": 203,
    "start_time": "2023-04-20T20:06:20.625Z"
   },
   {
    "duration": 20,
    "start_time": "2023-04-20T20:06:20.830Z"
   },
   {
    "duration": 103,
    "start_time": "2023-04-20T20:06:20.852Z"
   },
   {
    "duration": 184,
    "start_time": "2023-04-20T20:06:20.957Z"
   },
   {
    "duration": 94,
    "start_time": "2023-04-20T20:06:21.143Z"
   },
   {
    "duration": 171,
    "start_time": "2023-04-20T20:06:21.239Z"
   },
   {
    "duration": 33,
    "start_time": "2023-04-20T20:06:21.413Z"
   },
   {
    "duration": 277,
    "start_time": "2023-04-20T20:06:21.448Z"
   },
   {
    "duration": 4,
    "start_time": "2023-04-20T20:06:21.727Z"
   },
   {
    "duration": 306,
    "start_time": "2023-04-20T20:06:21.732Z"
   },
   {
    "duration": 24,
    "start_time": "2023-04-20T20:06:22.040Z"
   },
   {
    "duration": 24,
    "start_time": "2023-04-20T20:06:25.542Z"
   },
   {
    "duration": 60,
    "start_time": "2023-04-20T20:06:26.918Z"
   },
   {
    "duration": 1516,
    "start_time": "2023-04-20T20:06:29.968Z"
   },
   {
    "duration": 5,
    "start_time": "2023-04-20T20:06:31.487Z"
   },
   {
    "duration": 9,
    "start_time": "2023-04-20T20:06:32.977Z"
   },
   {
    "duration": 3193,
    "start_time": "2023-04-20T20:06:39.882Z"
   },
   {
    "duration": 4,
    "start_time": "2023-04-20T20:06:43.078Z"
   },
   {
    "duration": 1037,
    "start_time": "2023-04-20T20:06:46.086Z"
   },
   {
    "duration": 63,
    "start_time": "2023-04-20T20:06:47.556Z"
   },
   {
    "duration": 250929,
    "start_time": "2023-04-20T20:07:07.393Z"
   },
   {
    "duration": 912,
    "start_time": "2023-04-20T20:11:18.325Z"
   },
   {
    "duration": 5,
    "start_time": "2023-04-20T20:11:19.239Z"
   },
   {
    "duration": 95,
    "start_time": "2023-04-20T20:11:51.422Z"
   },
   {
    "duration": 54,
    "start_time": "2023-04-20T20:18:53.731Z"
   },
   {
    "duration": 3313,
    "start_time": "2023-04-20T20:19:15.643Z"
   },
   {
    "duration": 1875,
    "start_time": "2023-04-20T20:19:18.959Z"
   },
   {
    "duration": 3398,
    "start_time": "2023-04-20T20:19:20.836Z"
   },
   {
    "duration": 3,
    "start_time": "2023-04-20T20:19:24.236Z"
   },
   {
    "duration": 1611,
    "start_time": "2023-04-20T20:19:24.241Z"
   },
   {
    "duration": 4,
    "start_time": "2023-04-20T20:19:25.854Z"
   },
   {
    "duration": 11901,
    "start_time": "2023-04-20T20:19:25.860Z"
   },
   {
    "duration": 6,
    "start_time": "2023-04-20T20:19:37.764Z"
   },
   {
    "duration": 39,
    "start_time": "2023-04-20T20:19:37.772Z"
   },
   {
    "duration": 264,
    "start_time": "2023-04-20T20:19:37.814Z"
   },
   {
    "duration": 41,
    "start_time": "2023-04-20T20:19:38.080Z"
   },
   {
    "duration": 315,
    "start_time": "2023-04-20T20:19:38.123Z"
   },
   {
    "duration": 298,
    "start_time": "2023-04-20T20:19:38.441Z"
   },
   {
    "duration": 311,
    "start_time": "2023-04-20T20:19:38.741Z"
   },
   {
    "duration": 21,
    "start_time": "2023-04-20T20:19:39.054Z"
   },
   {
    "duration": 32,
    "start_time": "2023-04-20T20:19:39.077Z"
   },
   {
    "duration": 26,
    "start_time": "2023-04-20T20:19:39.111Z"
   },
   {
    "duration": 24,
    "start_time": "2023-04-20T20:19:39.139Z"
   },
   {
    "duration": 253,
    "start_time": "2023-04-20T20:19:39.165Z"
   },
   {
    "duration": 25,
    "start_time": "2023-04-20T20:19:39.419Z"
   },
   {
    "duration": 24,
    "start_time": "2023-04-20T20:19:39.446Z"
   },
   {
    "duration": 26,
    "start_time": "2023-04-20T20:19:39.493Z"
   },
   {
    "duration": 229,
    "start_time": "2023-04-20T20:19:39.521Z"
   },
   {
    "duration": 21,
    "start_time": "2023-04-20T20:19:39.752Z"
   },
   {
    "duration": 108,
    "start_time": "2023-04-20T20:19:39.774Z"
   },
   {
    "duration": 186,
    "start_time": "2023-04-20T20:19:39.883Z"
   },
   {
    "duration": 134,
    "start_time": "2023-04-20T20:19:40.072Z"
   },
   {
    "duration": 223,
    "start_time": "2023-04-20T20:19:40.211Z"
   },
   {
    "duration": 26,
    "start_time": "2023-04-20T20:19:40.436Z"
   },
   {
    "duration": 272,
    "start_time": "2023-04-20T20:19:40.464Z"
   },
   {
    "duration": 5,
    "start_time": "2023-04-20T20:19:40.738Z"
   },
   {
    "duration": 266,
    "start_time": "2023-04-20T20:19:40.746Z"
   },
   {
    "duration": 137,
    "start_time": "2023-04-20T20:19:41.014Z"
   },
   {
    "duration": 0,
    "start_time": "2023-04-20T20:19:41.153Z"
   },
   {
    "duration": 24,
    "start_time": "2023-04-20T20:19:48.769Z"
   },
   {
    "duration": 853,
    "start_time": "2023-04-20T20:19:49.962Z"
   },
   {
    "duration": 11,
    "start_time": "2023-04-20T20:30:53.426Z"
   },
   {
    "duration": 1496,
    "start_time": "2023-04-20T20:31:31.030Z"
   },
   {
    "duration": 4,
    "start_time": "2023-04-20T20:31:32.529Z"
   },
   {
    "duration": 7,
    "start_time": "2023-04-20T20:31:32.926Z"
   },
   {
    "duration": 4622,
    "start_time": "2023-04-20T20:31:33.794Z"
   },
   {
    "duration": 4,
    "start_time": "2023-04-20T20:31:38.418Z"
   },
   {
    "duration": 1033,
    "start_time": "2023-04-20T20:31:38.424Z"
   },
   {
    "duration": 71,
    "start_time": "2023-04-20T20:31:39.459Z"
   },
   {
    "duration": 52,
    "start_time": "2023-04-20T20:31:49.960Z"
   },
   {
    "duration": 3458,
    "start_time": "2023-04-20T20:32:40.791Z"
   },
   {
    "duration": 1927,
    "start_time": "2023-04-20T20:32:44.252Z"
   },
   {
    "duration": 3345,
    "start_time": "2023-04-20T20:32:46.181Z"
   },
   {
    "duration": 3,
    "start_time": "2023-04-20T20:32:49.529Z"
   },
   {
    "duration": 1624,
    "start_time": "2023-04-20T20:32:49.534Z"
   },
   {
    "duration": 3,
    "start_time": "2023-04-20T20:32:51.160Z"
   },
   {
    "duration": 11432,
    "start_time": "2023-04-20T20:32:51.165Z"
   },
   {
    "duration": 5,
    "start_time": "2023-04-20T20:33:02.600Z"
   },
   {
    "duration": 58,
    "start_time": "2023-04-20T20:33:02.608Z"
   },
   {
    "duration": 294,
    "start_time": "2023-04-20T20:33:02.669Z"
   },
   {
    "duration": 47,
    "start_time": "2023-04-20T20:33:02.965Z"
   },
   {
    "duration": 316,
    "start_time": "2023-04-20T20:33:03.014Z"
   },
   {
    "duration": 293,
    "start_time": "2023-04-20T20:33:03.332Z"
   },
   {
    "duration": 271,
    "start_time": "2023-04-20T20:33:03.627Z"
   },
   {
    "duration": 20,
    "start_time": "2023-04-20T20:33:03.899Z"
   },
   {
    "duration": 25,
    "start_time": "2023-04-20T20:33:03.921Z"
   },
   {
    "duration": 25,
    "start_time": "2023-04-20T20:33:03.947Z"
   },
   {
    "duration": 22,
    "start_time": "2023-04-20T20:33:03.993Z"
   },
   {
    "duration": 194,
    "start_time": "2023-04-20T20:33:04.017Z"
   },
   {
    "duration": 24,
    "start_time": "2023-04-20T20:33:04.212Z"
   },
   {
    "duration": 22,
    "start_time": "2023-04-20T20:33:04.237Z"
   },
   {
    "duration": 43,
    "start_time": "2023-04-20T20:33:04.261Z"
   },
   {
    "duration": 185,
    "start_time": "2023-04-20T20:33:04.306Z"
   },
   {
    "duration": 21,
    "start_time": "2023-04-20T20:33:04.493Z"
   },
   {
    "duration": 109,
    "start_time": "2023-04-20T20:33:04.516Z"
   },
   {
    "duration": 180,
    "start_time": "2023-04-20T20:33:04.627Z"
   },
   {
    "duration": 106,
    "start_time": "2023-04-20T20:33:04.809Z"
   },
   {
    "duration": 162,
    "start_time": "2023-04-20T20:33:04.920Z"
   },
   {
    "duration": 38,
    "start_time": "2023-04-20T20:33:05.084Z"
   },
   {
    "duration": 282,
    "start_time": "2023-04-20T20:33:05.124Z"
   },
   {
    "duration": 4,
    "start_time": "2023-04-20T20:33:05.408Z"
   },
   {
    "duration": 214,
    "start_time": "2023-04-20T20:33:05.413Z"
   },
   {
    "duration": 23,
    "start_time": "2023-04-20T20:33:05.629Z"
   },
   {
    "duration": 69,
    "start_time": "2023-04-20T20:33:05.654Z"
   },
   {
    "duration": 0,
    "start_time": "2023-04-20T20:33:05.725Z"
   },
   {
    "duration": 0,
    "start_time": "2023-04-20T20:33:05.726Z"
   },
   {
    "duration": 1,
    "start_time": "2023-04-20T20:33:05.727Z"
   },
   {
    "duration": 0,
    "start_time": "2023-04-20T20:33:05.729Z"
   },
   {
    "duration": 0,
    "start_time": "2023-04-20T20:33:05.729Z"
   },
   {
    "duration": 0,
    "start_time": "2023-04-20T20:33:05.731Z"
   },
   {
    "duration": 0,
    "start_time": "2023-04-20T20:33:05.732Z"
   },
   {
    "duration": 0,
    "start_time": "2023-04-20T20:33:05.733Z"
   },
   {
    "duration": 0,
    "start_time": "2023-04-20T20:33:05.734Z"
   },
   {
    "duration": 0,
    "start_time": "2023-04-20T20:33:05.735Z"
   },
   {
    "duration": 0,
    "start_time": "2023-04-20T20:33:05.736Z"
   },
   {
    "duration": 0,
    "start_time": "2023-04-20T20:33:05.737Z"
   },
   {
    "duration": 62,
    "start_time": "2023-04-20T20:33:13.922Z"
   },
   {
    "duration": 1496,
    "start_time": "2023-04-20T20:33:20.949Z"
   },
   {
    "duration": 4,
    "start_time": "2023-04-20T20:33:22.448Z"
   },
   {
    "duration": 7,
    "start_time": "2023-04-20T20:33:24.150Z"
   },
   {
    "duration": 4675,
    "start_time": "2023-04-20T20:33:25.167Z"
   },
   {
    "duration": 5,
    "start_time": "2023-04-20T20:33:29.845Z"
   },
   {
    "duration": 1038,
    "start_time": "2023-04-20T20:33:29.852Z"
   },
   {
    "duration": 62,
    "start_time": "2023-04-20T20:33:30.894Z"
   },
   {
    "duration": 85,
    "start_time": "2023-04-20T20:33:43.928Z"
   },
   {
    "duration": 0,
    "start_time": "2023-04-20T20:33:44.015Z"
   },
   {
    "duration": 18,
    "start_time": "2023-04-20T20:34:17.307Z"
   },
   {
    "duration": 66,
    "start_time": "2023-04-20T20:34:17.327Z"
   },
   {
    "duration": 0,
    "start_time": "2023-04-20T20:34:17.395Z"
   },
   {
    "duration": 0,
    "start_time": "2023-04-20T20:34:17.396Z"
   },
   {
    "duration": 0,
    "start_time": "2023-04-20T20:34:17.397Z"
   },
   {
    "duration": 0,
    "start_time": "2023-04-20T20:34:17.398Z"
   },
   {
    "duration": 0,
    "start_time": "2023-04-20T20:34:17.399Z"
   },
   {
    "duration": 0,
    "start_time": "2023-04-20T20:34:17.400Z"
   },
   {
    "duration": 0,
    "start_time": "2023-04-20T20:34:17.402Z"
   },
   {
    "duration": 7,
    "start_time": "2023-04-20T20:34:35.904Z"
   },
   {
    "duration": 3628,
    "start_time": "2023-04-20T20:34:49.398Z"
   },
   {
    "duration": 1706,
    "start_time": "2023-04-20T20:34:53.028Z"
   },
   {
    "duration": 3204,
    "start_time": "2023-04-20T20:34:54.736Z"
   },
   {
    "duration": 3,
    "start_time": "2023-04-20T20:34:57.943Z"
   },
   {
    "duration": 1520,
    "start_time": "2023-04-20T20:34:57.947Z"
   },
   {
    "duration": 4,
    "start_time": "2023-04-20T20:34:59.468Z"
   },
   {
    "duration": 11323,
    "start_time": "2023-04-20T20:34:59.474Z"
   },
   {
    "duration": 4,
    "start_time": "2023-04-20T20:35:10.799Z"
   },
   {
    "duration": 41,
    "start_time": "2023-04-20T20:35:10.805Z"
   },
   {
    "duration": 273,
    "start_time": "2023-04-20T20:35:10.849Z"
   },
   {
    "duration": 33,
    "start_time": "2023-04-20T20:35:11.124Z"
   },
   {
    "duration": 267,
    "start_time": "2023-04-20T20:35:11.158Z"
   },
   {
    "duration": 277,
    "start_time": "2023-04-20T20:35:11.427Z"
   },
   {
    "duration": 323,
    "start_time": "2023-04-20T20:35:11.705Z"
   },
   {
    "duration": 24,
    "start_time": "2023-04-20T20:35:12.030Z"
   },
   {
    "duration": 21,
    "start_time": "2023-04-20T20:35:12.055Z"
   },
   {
    "duration": 37,
    "start_time": "2023-04-20T20:35:12.077Z"
   },
   {
    "duration": 24,
    "start_time": "2023-04-20T20:35:12.116Z"
   },
   {
    "duration": 196,
    "start_time": "2023-04-20T20:35:12.142Z"
   },
   {
    "duration": 41,
    "start_time": "2023-04-20T20:35:12.341Z"
   },
   {
    "duration": 26,
    "start_time": "2023-04-20T20:35:12.392Z"
   },
   {
    "duration": 26,
    "start_time": "2023-04-20T20:35:12.420Z"
   },
   {
    "duration": 203,
    "start_time": "2023-04-20T20:35:12.448Z"
   },
   {
    "duration": 20,
    "start_time": "2023-04-20T20:35:12.653Z"
   },
   {
    "duration": 86,
    "start_time": "2023-04-20T20:35:12.674Z"
   },
   {
    "duration": 177,
    "start_time": "2023-04-20T20:35:12.762Z"
   },
   {
    "duration": 91,
    "start_time": "2023-04-20T20:35:12.941Z"
   },
   {
    "duration": 154,
    "start_time": "2023-04-20T20:35:13.035Z"
   },
   {
    "duration": 26,
    "start_time": "2023-04-20T20:35:13.191Z"
   },
   {
    "duration": 268,
    "start_time": "2023-04-20T20:35:13.219Z"
   },
   {
    "duration": 4,
    "start_time": "2023-04-20T20:35:13.493Z"
   },
   {
    "duration": 199,
    "start_time": "2023-04-20T20:35:13.498Z"
   },
   {
    "duration": 32,
    "start_time": "2023-04-20T20:35:13.699Z"
   },
   {
    "duration": 94,
    "start_time": "2023-04-20T20:35:13.733Z"
   },
   {
    "duration": 1417,
    "start_time": "2023-04-20T20:35:13.829Z"
   },
   {
    "duration": 5,
    "start_time": "2023-04-20T20:35:15.249Z"
   },
   {
    "duration": 29,
    "start_time": "2023-04-20T20:35:15.256Z"
   },
   {
    "duration": 4725,
    "start_time": "2023-04-20T20:35:15.287Z"
   },
   {
    "duration": 4,
    "start_time": "2023-04-20T20:35:20.014Z"
   },
   {
    "duration": 993,
    "start_time": "2023-04-20T20:35:20.019Z"
   },
   {
    "duration": 154,
    "start_time": "2023-04-20T20:35:21.014Z"
   },
   {
    "duration": 191628,
    "start_time": "2023-04-20T20:36:07.973Z"
   },
   {
    "duration": 891,
    "start_time": "2023-04-20T20:39:19.603Z"
   },
   {
    "duration": 7,
    "start_time": "2023-04-20T20:39:20.496Z"
   },
   {
    "duration": 3501,
    "start_time": "2023-04-20T20:41:09.821Z"
   },
   {
    "duration": 1749,
    "start_time": "2023-04-20T20:41:13.328Z"
   },
   {
    "duration": 3101,
    "start_time": "2023-04-20T20:41:15.079Z"
   },
   {
    "duration": 4,
    "start_time": "2023-04-20T20:41:18.184Z"
   },
   {
    "duration": 1563,
    "start_time": "2023-04-20T20:41:18.190Z"
   },
   {
    "duration": 5,
    "start_time": "2023-04-20T20:41:19.755Z"
   },
   {
    "duration": 11926,
    "start_time": "2023-04-20T20:41:19.763Z"
   },
   {
    "duration": 11,
    "start_time": "2023-04-20T20:41:31.691Z"
   },
   {
    "duration": 54,
    "start_time": "2023-04-20T20:41:31.705Z"
   },
   {
    "duration": 321,
    "start_time": "2023-04-20T20:41:31.762Z"
   },
   {
    "duration": 41,
    "start_time": "2023-04-20T20:41:32.086Z"
   },
   {
    "duration": 333,
    "start_time": "2023-04-20T20:41:32.129Z"
   },
   {
    "duration": 317,
    "start_time": "2023-04-20T20:41:32.464Z"
   },
   {
    "duration": 284,
    "start_time": "2023-04-20T20:41:32.783Z"
   },
   {
    "duration": 26,
    "start_time": "2023-04-20T20:41:33.069Z"
   },
   {
    "duration": 36,
    "start_time": "2023-04-20T20:41:33.097Z"
   },
   {
    "duration": 23,
    "start_time": "2023-04-20T20:41:33.134Z"
   },
   {
    "duration": 27,
    "start_time": "2023-04-20T20:41:33.159Z"
   },
   {
    "duration": 190,
    "start_time": "2023-04-20T20:41:33.188Z"
   },
   {
    "duration": 29,
    "start_time": "2023-04-20T20:41:33.380Z"
   },
   {
    "duration": 26,
    "start_time": "2023-04-20T20:41:33.411Z"
   },
   {
    "duration": 27,
    "start_time": "2023-04-20T20:41:33.438Z"
   },
   {
    "duration": 211,
    "start_time": "2023-04-20T20:41:33.467Z"
   },
   {
    "duration": 26,
    "start_time": "2023-04-20T20:41:33.680Z"
   },
   {
    "duration": 85,
    "start_time": "2023-04-20T20:41:33.709Z"
   },
   {
    "duration": 182,
    "start_time": "2023-04-20T20:41:33.795Z"
   },
   {
    "duration": 93,
    "start_time": "2023-04-20T20:41:33.979Z"
   },
   {
    "duration": 176,
    "start_time": "2023-04-20T20:41:34.075Z"
   },
   {
    "duration": 25,
    "start_time": "2023-04-20T20:41:34.253Z"
   },
   {
    "duration": 273,
    "start_time": "2023-04-20T20:41:34.280Z"
   },
   {
    "duration": 3,
    "start_time": "2023-04-20T20:41:34.555Z"
   },
   {
    "duration": 228,
    "start_time": "2023-04-20T20:41:34.560Z"
   },
   {
    "duration": 28,
    "start_time": "2023-04-20T20:41:34.790Z"
   },
   {
    "duration": 131,
    "start_time": "2023-04-20T20:41:34.819Z"
   },
   {
    "duration": 1486,
    "start_time": "2023-04-20T20:41:34.951Z"
   },
   {
    "duration": 5,
    "start_time": "2023-04-20T20:41:36.440Z"
   },
   {
    "duration": 7,
    "start_time": "2023-04-20T20:41:36.447Z"
   },
   {
    "duration": 4621,
    "start_time": "2023-04-20T20:41:36.456Z"
   },
   {
    "duration": 5,
    "start_time": "2023-04-20T20:41:41.079Z"
   },
   {
    "duration": 1104,
    "start_time": "2023-04-20T20:41:41.086Z"
   },
   {
    "duration": 190,
    "start_time": "2023-04-20T20:41:42.192Z"
   },
   {
    "duration": 3097,
    "start_time": "2023-04-20T20:44:10.447Z"
   },
   {
    "duration": 1589,
    "start_time": "2023-04-20T20:44:13.546Z"
   },
   {
    "duration": 3011,
    "start_time": "2023-04-20T20:44:15.137Z"
   },
   {
    "duration": 3,
    "start_time": "2023-04-20T20:44:18.150Z"
   },
   {
    "duration": 1493,
    "start_time": "2023-04-20T20:44:18.154Z"
   },
   {
    "duration": 4,
    "start_time": "2023-04-20T20:44:19.649Z"
   },
   {
    "duration": 11202,
    "start_time": "2023-04-20T20:44:19.655Z"
   },
   {
    "duration": 6,
    "start_time": "2023-04-20T20:44:30.859Z"
   },
   {
    "duration": 51,
    "start_time": "2023-04-20T20:44:30.867Z"
   },
   {
    "duration": 257,
    "start_time": "2023-04-20T20:44:30.921Z"
   },
   {
    "duration": 45,
    "start_time": "2023-04-20T20:44:31.180Z"
   },
   {
    "duration": 278,
    "start_time": "2023-04-20T20:44:31.228Z"
   },
   {
    "duration": 286,
    "start_time": "2023-04-20T20:44:31.508Z"
   },
   {
    "duration": 277,
    "start_time": "2023-04-20T20:44:31.796Z"
   },
   {
    "duration": 35,
    "start_time": "2023-04-20T20:44:32.075Z"
   },
   {
    "duration": 45,
    "start_time": "2023-04-20T20:44:32.112Z"
   },
   {
    "duration": 37,
    "start_time": "2023-04-20T20:44:32.159Z"
   },
   {
    "duration": 37,
    "start_time": "2023-04-20T20:44:32.197Z"
   },
   {
    "duration": 189,
    "start_time": "2023-04-20T20:44:32.236Z"
   },
   {
    "duration": 24,
    "start_time": "2023-04-20T20:44:32.426Z"
   },
   {
    "duration": 22,
    "start_time": "2023-04-20T20:44:32.452Z"
   },
   {
    "duration": 24,
    "start_time": "2023-04-20T20:44:32.492Z"
   },
   {
    "duration": 189,
    "start_time": "2023-04-20T20:44:32.518Z"
   },
   {
    "duration": 19,
    "start_time": "2023-04-20T20:44:32.709Z"
   },
   {
    "duration": 88,
    "start_time": "2023-04-20T20:44:32.729Z"
   },
   {
    "duration": 177,
    "start_time": "2023-04-20T20:44:32.818Z"
   },
   {
    "duration": 79,
    "start_time": "2023-04-20T20:44:32.997Z"
   },
   {
    "duration": 153,
    "start_time": "2023-04-20T20:44:33.080Z"
   },
   {
    "duration": 30,
    "start_time": "2023-04-20T20:44:33.235Z"
   },
   {
    "duration": 265,
    "start_time": "2023-04-20T20:44:33.267Z"
   },
   {
    "duration": 5,
    "start_time": "2023-04-20T20:44:33.534Z"
   },
   {
    "duration": 213,
    "start_time": "2023-04-20T20:44:33.541Z"
   },
   {
    "duration": 22,
    "start_time": "2023-04-20T20:44:33.756Z"
   },
   {
    "duration": 70,
    "start_time": "2023-04-20T20:44:33.780Z"
   },
   {
    "duration": 1410,
    "start_time": "2023-04-20T20:44:33.852Z"
   },
   {
    "duration": 4,
    "start_time": "2023-04-20T20:44:35.264Z"
   },
   {
    "duration": 9,
    "start_time": "2023-04-20T20:44:35.269Z"
   },
   {
    "duration": 4428,
    "start_time": "2023-04-20T20:44:35.279Z"
   },
   {
    "duration": 4,
    "start_time": "2023-04-20T20:44:39.709Z"
   },
   {
    "duration": 983,
    "start_time": "2023-04-20T20:44:39.714Z"
   },
   {
    "duration": 140,
    "start_time": "2023-04-20T20:44:40.699Z"
   },
   {
    "duration": 3334,
    "start_time": "2023-04-20T20:45:33.242Z"
   },
   {
    "duration": 1691,
    "start_time": "2023-04-20T20:45:36.578Z"
   },
   {
    "duration": 3523,
    "start_time": "2023-04-20T20:45:38.270Z"
   },
   {
    "duration": 5,
    "start_time": "2023-04-20T20:45:41.795Z"
   },
   {
    "duration": 1708,
    "start_time": "2023-04-20T20:45:41.804Z"
   },
   {
    "duration": 5,
    "start_time": "2023-04-20T20:45:43.514Z"
   },
   {
    "duration": 12571,
    "start_time": "2023-04-20T20:45:43.522Z"
   },
   {
    "duration": 5,
    "start_time": "2023-04-20T20:45:56.095Z"
   },
   {
    "duration": 40,
    "start_time": "2023-04-20T20:45:56.102Z"
   },
   {
    "duration": 307,
    "start_time": "2023-04-20T20:45:56.144Z"
   },
   {
    "duration": 43,
    "start_time": "2023-04-20T20:45:56.453Z"
   },
   {
    "duration": 297,
    "start_time": "2023-04-20T20:45:56.498Z"
   },
   {
    "duration": 329,
    "start_time": "2023-04-20T20:45:56.797Z"
   },
   {
    "duration": 302,
    "start_time": "2023-04-20T20:45:57.129Z"
   },
   {
    "duration": 21,
    "start_time": "2023-04-20T20:45:57.433Z"
   },
   {
    "duration": 39,
    "start_time": "2023-04-20T20:45:57.456Z"
   },
   {
    "duration": 30,
    "start_time": "2023-04-20T20:45:57.497Z"
   },
   {
    "duration": 49,
    "start_time": "2023-04-20T20:45:57.529Z"
   },
   {
    "duration": 209,
    "start_time": "2023-04-20T20:45:57.580Z"
   },
   {
    "duration": 33,
    "start_time": "2023-04-20T20:45:57.791Z"
   },
   {
    "duration": 24,
    "start_time": "2023-04-20T20:45:57.826Z"
   },
   {
    "duration": 42,
    "start_time": "2023-04-20T20:45:57.852Z"
   },
   {
    "duration": 219,
    "start_time": "2023-04-20T20:45:57.896Z"
   },
   {
    "duration": 32,
    "start_time": "2023-04-20T20:45:58.118Z"
   },
   {
    "duration": 122,
    "start_time": "2023-04-20T20:45:58.153Z"
   },
   {
    "duration": 234,
    "start_time": "2023-04-20T20:45:58.277Z"
   },
   {
    "duration": 99,
    "start_time": "2023-04-20T20:45:58.513Z"
   },
   {
    "duration": 171,
    "start_time": "2023-04-20T20:45:58.616Z"
   },
   {
    "duration": 33,
    "start_time": "2023-04-20T20:45:58.793Z"
   },
   {
    "duration": 266,
    "start_time": "2023-04-20T20:45:58.829Z"
   },
   {
    "duration": 6,
    "start_time": "2023-04-20T20:45:59.098Z"
   },
   {
    "duration": 240,
    "start_time": "2023-04-20T20:45:59.106Z"
   },
   {
    "duration": 23,
    "start_time": "2023-04-20T20:45:59.348Z"
   },
   {
    "duration": 89,
    "start_time": "2023-04-20T20:45:59.373Z"
   },
   {
    "duration": 1477,
    "start_time": "2023-04-20T20:45:59.464Z"
   },
   {
    "duration": 4,
    "start_time": "2023-04-20T20:46:00.943Z"
   },
   {
    "duration": 84,
    "start_time": "2023-04-20T20:46:00.949Z"
   },
   {
    "duration": 4205,
    "start_time": "2023-04-20T20:46:01.035Z"
   },
   {
    "duration": 5,
    "start_time": "2023-04-20T20:46:05.242Z"
   },
   {
    "duration": 1134,
    "start_time": "2023-04-20T20:46:05.250Z"
   },
   {
    "duration": 64,
    "start_time": "2023-04-20T20:46:06.394Z"
   },
   {
    "duration": 3571,
    "start_time": "2023-04-20T20:47:05.913Z"
   },
   {
    "duration": 1839,
    "start_time": "2023-04-20T20:47:09.487Z"
   },
   {
    "duration": 3656,
    "start_time": "2023-04-20T20:47:11.328Z"
   },
   {
    "duration": 3,
    "start_time": "2023-04-20T20:47:14.986Z"
   },
   {
    "duration": 1753,
    "start_time": "2023-04-20T20:47:14.991Z"
   },
   {
    "duration": 4,
    "start_time": "2023-04-20T20:47:16.746Z"
   },
   {
    "duration": 12797,
    "start_time": "2023-04-20T20:47:16.752Z"
   },
   {
    "duration": 5,
    "start_time": "2023-04-20T20:47:29.551Z"
   },
   {
    "duration": 42,
    "start_time": "2023-04-20T20:47:29.558Z"
   },
   {
    "duration": 288,
    "start_time": "2023-04-20T20:47:29.604Z"
   },
   {
    "duration": 37,
    "start_time": "2023-04-20T20:47:29.908Z"
   },
   {
    "duration": 296,
    "start_time": "2023-04-20T20:47:29.946Z"
   },
   {
    "duration": 345,
    "start_time": "2023-04-20T20:47:30.244Z"
   },
   {
    "duration": 296,
    "start_time": "2023-04-20T20:47:30.591Z"
   },
   {
    "duration": 31,
    "start_time": "2023-04-20T20:47:30.893Z"
   },
   {
    "duration": 31,
    "start_time": "2023-04-20T20:47:30.926Z"
   },
   {
    "duration": 41,
    "start_time": "2023-04-20T20:47:30.959Z"
   },
   {
    "duration": 30,
    "start_time": "2023-04-20T20:47:31.008Z"
   },
   {
    "duration": 266,
    "start_time": "2023-04-20T20:47:31.040Z"
   },
   {
    "duration": 30,
    "start_time": "2023-04-20T20:47:31.308Z"
   },
   {
    "duration": 45,
    "start_time": "2023-04-20T20:47:31.340Z"
   },
   {
    "duration": 50,
    "start_time": "2023-04-20T20:47:31.387Z"
   },
   {
    "duration": 226,
    "start_time": "2023-04-20T20:47:31.438Z"
   },
   {
    "duration": 36,
    "start_time": "2023-04-20T20:47:31.667Z"
   },
   {
    "duration": 149,
    "start_time": "2023-04-20T20:47:31.705Z"
   },
   {
    "duration": 237,
    "start_time": "2023-04-20T20:47:31.856Z"
   },
   {
    "duration": 120,
    "start_time": "2023-04-20T20:47:32.097Z"
   },
   {
    "duration": 212,
    "start_time": "2023-04-20T20:47:32.222Z"
   },
   {
    "duration": 27,
    "start_time": "2023-04-20T20:47:32.436Z"
   },
   {
    "duration": 299,
    "start_time": "2023-04-20T20:47:32.465Z"
   },
   {
    "duration": 4,
    "start_time": "2023-04-20T20:47:32.766Z"
   },
   {
    "duration": 228,
    "start_time": "2023-04-20T20:47:32.772Z"
   },
   {
    "duration": 30,
    "start_time": "2023-04-20T20:47:33.002Z"
   },
   {
    "duration": 122,
    "start_time": "2023-04-20T20:47:33.036Z"
   },
   {
    "duration": 1595,
    "start_time": "2023-04-20T20:47:33.160Z"
   },
   {
    "duration": 6,
    "start_time": "2023-04-20T20:47:34.757Z"
   },
   {
    "duration": 8,
    "start_time": "2023-04-20T20:47:34.765Z"
   },
   {
    "duration": 4537,
    "start_time": "2023-04-20T20:47:34.775Z"
   },
   {
    "duration": 5,
    "start_time": "2023-04-20T20:47:39.314Z"
   },
   {
    "duration": 1067,
    "start_time": "2023-04-20T20:47:39.321Z"
   },
   {
    "duration": 162,
    "start_time": "2023-04-20T20:47:40.390Z"
   },
   {
    "duration": 64,
    "start_time": "2023-04-20T20:47:53.769Z"
   },
   {
    "duration": 4069,
    "start_time": "2023-04-20T20:47:58.545Z"
   },
   {
    "duration": 1665,
    "start_time": "2023-04-20T20:48:02.617Z"
   },
   {
    "duration": 3478,
    "start_time": "2023-04-20T20:48:04.283Z"
   },
   {
    "duration": 4,
    "start_time": "2023-04-20T20:48:07.763Z"
   },
   {
    "duration": 1680,
    "start_time": "2023-04-20T20:48:07.768Z"
   },
   {
    "duration": 4,
    "start_time": "2023-04-20T20:48:09.450Z"
   },
   {
    "duration": 12357,
    "start_time": "2023-04-20T20:48:09.456Z"
   },
   {
    "duration": 6,
    "start_time": "2023-04-20T20:48:21.815Z"
   },
   {
    "duration": 56,
    "start_time": "2023-04-20T20:48:21.823Z"
   },
   {
    "duration": 357,
    "start_time": "2023-04-20T20:48:21.882Z"
   },
   {
    "duration": 39,
    "start_time": "2023-04-20T20:48:22.242Z"
   },
   {
    "duration": 328,
    "start_time": "2023-04-20T20:48:22.303Z"
   },
   {
    "duration": 325,
    "start_time": "2023-04-20T20:48:22.633Z"
   },
   {
    "duration": 307,
    "start_time": "2023-04-20T20:48:22.960Z"
   },
   {
    "duration": 48,
    "start_time": "2023-04-20T20:48:23.269Z"
   },
   {
    "duration": 32,
    "start_time": "2023-04-20T20:48:23.320Z"
   },
   {
    "duration": 23,
    "start_time": "2023-04-20T20:48:23.354Z"
   },
   {
    "duration": 31,
    "start_time": "2023-04-20T20:48:23.394Z"
   },
   {
    "duration": 224,
    "start_time": "2023-04-20T20:48:23.427Z"
   },
   {
    "duration": 47,
    "start_time": "2023-04-20T20:48:23.654Z"
   },
   {
    "duration": 33,
    "start_time": "2023-04-20T20:48:23.703Z"
   },
   {
    "duration": 46,
    "start_time": "2023-04-20T20:48:23.738Z"
   },
   {
    "duration": 216,
    "start_time": "2023-04-20T20:48:23.792Z"
   },
   {
    "duration": 41,
    "start_time": "2023-04-20T20:48:24.011Z"
   },
   {
    "duration": 158,
    "start_time": "2023-04-20T20:48:24.054Z"
   },
   {
    "duration": 238,
    "start_time": "2023-04-20T20:48:24.214Z"
   },
   {
    "duration": 102,
    "start_time": "2023-04-20T20:48:24.454Z"
   },
   {
    "duration": 181,
    "start_time": "2023-04-20T20:48:24.561Z"
   },
   {
    "duration": 34,
    "start_time": "2023-04-20T20:48:24.744Z"
   },
   {
    "duration": 324,
    "start_time": "2023-04-20T20:48:24.781Z"
   },
   {
    "duration": 7,
    "start_time": "2023-04-20T20:48:25.106Z"
   },
   {
    "duration": 245,
    "start_time": "2023-04-20T20:48:25.115Z"
   },
   {
    "duration": 23,
    "start_time": "2023-04-20T20:48:25.362Z"
   },
   {
    "duration": 79,
    "start_time": "2023-04-20T20:48:25.387Z"
   },
   {
    "duration": 1613,
    "start_time": "2023-04-20T20:48:25.468Z"
   },
   {
    "duration": 5,
    "start_time": "2023-04-20T20:48:27.083Z"
   },
   {
    "duration": 13,
    "start_time": "2023-04-20T20:48:27.096Z"
   },
   {
    "duration": 4652,
    "start_time": "2023-04-20T20:48:27.112Z"
   },
   {
    "duration": 5,
    "start_time": "2023-04-20T20:48:31.765Z"
   },
   {
    "duration": 1358,
    "start_time": "2023-04-20T20:48:31.772Z"
   },
   {
    "duration": 215,
    "start_time": "2023-04-20T20:48:33.133Z"
   },
   {
    "duration": 77,
    "start_time": "2023-04-20T20:48:53.578Z"
   },
   {
    "duration": 3302,
    "start_time": "2023-04-20T20:49:25.030Z"
   },
   {
    "duration": 1691,
    "start_time": "2023-04-20T20:49:28.335Z"
   },
   {
    "duration": 3910,
    "start_time": "2023-04-20T20:49:30.029Z"
   },
   {
    "duration": 4,
    "start_time": "2023-04-20T20:49:33.943Z"
   },
   {
    "duration": 1938,
    "start_time": "2023-04-20T20:49:33.949Z"
   },
   {
    "duration": 6,
    "start_time": "2023-04-20T20:49:35.893Z"
   },
   {
    "duration": 12988,
    "start_time": "2023-04-20T20:49:35.901Z"
   },
   {
    "duration": 5,
    "start_time": "2023-04-20T20:49:48.890Z"
   },
   {
    "duration": 49,
    "start_time": "2023-04-20T20:49:48.896Z"
   },
   {
    "duration": 281,
    "start_time": "2023-04-20T20:49:48.948Z"
   },
   {
    "duration": 34,
    "start_time": "2023-04-20T20:49:49.231Z"
   },
   {
    "duration": 288,
    "start_time": "2023-04-20T20:49:49.267Z"
   },
   {
    "duration": 303,
    "start_time": "2023-04-20T20:49:49.557Z"
   },
   {
    "duration": 301,
    "start_time": "2023-04-20T20:49:49.862Z"
   },
   {
    "duration": 21,
    "start_time": "2023-04-20T20:49:50.165Z"
   },
   {
    "duration": 27,
    "start_time": "2023-04-20T20:49:50.194Z"
   },
   {
    "duration": 22,
    "start_time": "2023-04-20T20:49:50.224Z"
   },
   {
    "duration": 65,
    "start_time": "2023-04-20T20:49:50.248Z"
   },
   {
    "duration": 188,
    "start_time": "2023-04-20T20:49:50.315Z"
   },
   {
    "duration": 25,
    "start_time": "2023-04-20T20:49:50.505Z"
   },
   {
    "duration": 31,
    "start_time": "2023-04-20T20:49:50.531Z"
   },
   {
    "duration": 50,
    "start_time": "2023-04-20T20:49:50.564Z"
   },
   {
    "duration": 202,
    "start_time": "2023-04-20T20:49:50.616Z"
   },
   {
    "duration": 21,
    "start_time": "2023-04-20T20:49:50.819Z"
   },
   {
    "duration": 105,
    "start_time": "2023-04-20T20:49:50.842Z"
   },
   {
    "duration": 190,
    "start_time": "2023-04-20T20:49:50.949Z"
   },
   {
    "duration": 100,
    "start_time": "2023-04-20T20:49:51.141Z"
   },
   {
    "duration": 164,
    "start_time": "2023-04-20T20:49:51.245Z"
   },
   {
    "duration": 26,
    "start_time": "2023-04-20T20:49:51.412Z"
   },
   {
    "duration": 289,
    "start_time": "2023-04-20T20:49:51.440Z"
   },
   {
    "duration": 4,
    "start_time": "2023-04-20T20:49:51.731Z"
   },
   {
    "duration": 260,
    "start_time": "2023-04-20T20:49:51.737Z"
   },
   {
    "duration": 27,
    "start_time": "2023-04-20T20:49:51.999Z"
   },
   {
    "duration": 110,
    "start_time": "2023-04-20T20:49:52.029Z"
   },
   {
    "duration": 1550,
    "start_time": "2023-04-20T20:49:52.141Z"
   },
   {
    "duration": 4,
    "start_time": "2023-04-20T20:49:53.694Z"
   },
   {
    "duration": 18,
    "start_time": "2023-04-20T20:49:53.699Z"
   },
   {
    "duration": 4614,
    "start_time": "2023-04-20T20:49:53.719Z"
   },
   {
    "duration": 3,
    "start_time": "2023-04-20T20:49:58.335Z"
   },
   {
    "duration": 1025,
    "start_time": "2023-04-20T20:49:58.340Z"
   },
   {
    "duration": 173,
    "start_time": "2023-04-20T20:49:59.366Z"
   },
   {
    "duration": 50,
    "start_time": "2023-04-20T20:50:28.733Z"
   },
   {
    "duration": 3572,
    "start_time": "2023-04-20T20:51:27.628Z"
   },
   {
    "duration": 1763,
    "start_time": "2023-04-20T20:51:31.202Z"
   },
   {
    "duration": 3307,
    "start_time": "2023-04-20T20:51:32.967Z"
   },
   {
    "duration": 2,
    "start_time": "2023-04-20T20:51:36.277Z"
   },
   {
    "duration": 1619,
    "start_time": "2023-04-20T20:51:36.281Z"
   },
   {
    "duration": 5,
    "start_time": "2023-04-20T20:51:37.903Z"
   },
   {
    "duration": 11701,
    "start_time": "2023-04-20T20:51:37.910Z"
   },
   {
    "duration": 5,
    "start_time": "2023-04-20T20:51:49.613Z"
   },
   {
    "duration": 42,
    "start_time": "2023-04-20T20:51:49.619Z"
   },
   {
    "duration": 272,
    "start_time": "2023-04-20T20:51:49.663Z"
   },
   {
    "duration": 34,
    "start_time": "2023-04-20T20:51:49.936Z"
   },
   {
    "duration": 297,
    "start_time": "2023-04-20T20:51:49.971Z"
   },
   {
    "duration": 309,
    "start_time": "2023-04-20T20:51:50.269Z"
   },
   {
    "duration": 292,
    "start_time": "2023-04-20T20:51:50.580Z"
   },
   {
    "duration": 32,
    "start_time": "2023-04-20T20:51:50.875Z"
   },
   {
    "duration": 20,
    "start_time": "2023-04-20T20:51:50.909Z"
   },
   {
    "duration": 27,
    "start_time": "2023-04-20T20:51:50.931Z"
   },
   {
    "duration": 33,
    "start_time": "2023-04-20T20:51:50.960Z"
   },
   {
    "duration": 204,
    "start_time": "2023-04-20T20:51:50.995Z"
   },
   {
    "duration": 34,
    "start_time": "2023-04-20T20:51:51.200Z"
   },
   {
    "duration": 25,
    "start_time": "2023-04-20T20:51:51.236Z"
   },
   {
    "duration": 36,
    "start_time": "2023-04-20T20:51:51.262Z"
   },
   {
    "duration": 201,
    "start_time": "2023-04-20T20:51:51.299Z"
   },
   {
    "duration": 23,
    "start_time": "2023-04-20T20:51:51.502Z"
   },
   {
    "duration": 89,
    "start_time": "2023-04-20T20:51:51.527Z"
   },
   {
    "duration": 192,
    "start_time": "2023-04-20T20:51:51.618Z"
   },
   {
    "duration": 106,
    "start_time": "2023-04-20T20:51:51.812Z"
   },
   {
    "duration": 186,
    "start_time": "2023-04-20T20:51:51.922Z"
   },
   {
    "duration": 25,
    "start_time": "2023-04-20T20:51:52.110Z"
   },
   {
    "duration": 282,
    "start_time": "2023-04-20T20:51:52.137Z"
   },
   {
    "duration": 4,
    "start_time": "2023-04-20T20:51:52.420Z"
   },
   {
    "duration": 216,
    "start_time": "2023-04-20T20:51:52.426Z"
   },
   {
    "duration": 22,
    "start_time": "2023-04-20T20:51:52.644Z"
   },
   {
    "duration": 79,
    "start_time": "2023-04-20T20:51:52.668Z"
   },
   {
    "duration": 1485,
    "start_time": "2023-04-20T20:51:52.749Z"
   },
   {
    "duration": 3,
    "start_time": "2023-04-20T20:51:54.236Z"
   },
   {
    "duration": 8,
    "start_time": "2023-04-20T20:51:54.241Z"
   },
   {
    "duration": 4575,
    "start_time": "2023-04-20T20:51:54.251Z"
   },
   {
    "duration": 3,
    "start_time": "2023-04-20T20:51:58.828Z"
   },
   {
    "duration": 1024,
    "start_time": "2023-04-20T20:51:58.833Z"
   },
   {
    "duration": 3270,
    "start_time": "2023-04-20T20:53:33.764Z"
   },
   {
    "duration": 1701,
    "start_time": "2023-04-20T20:53:37.037Z"
   },
   {
    "duration": 3276,
    "start_time": "2023-04-20T20:53:38.740Z"
   },
   {
    "duration": 5,
    "start_time": "2023-04-20T20:53:42.018Z"
   },
   {
    "duration": 1598,
    "start_time": "2023-04-20T20:53:42.026Z"
   },
   {
    "duration": 4,
    "start_time": "2023-04-20T20:53:43.626Z"
   },
   {
    "duration": 11946,
    "start_time": "2023-04-20T20:53:43.631Z"
   },
   {
    "duration": 5,
    "start_time": "2023-04-20T20:53:55.579Z"
   },
   {
    "duration": 45,
    "start_time": "2023-04-20T20:53:55.585Z"
   },
   {
    "duration": 271,
    "start_time": "2023-04-20T20:53:55.645Z"
   },
   {
    "duration": 33,
    "start_time": "2023-04-20T20:53:55.918Z"
   },
   {
    "duration": 310,
    "start_time": "2023-04-20T20:53:55.953Z"
   },
   {
    "duration": 306,
    "start_time": "2023-04-20T20:53:56.265Z"
   },
   {
    "duration": 287,
    "start_time": "2023-04-20T20:53:56.573Z"
   },
   {
    "duration": 21,
    "start_time": "2023-04-20T20:53:56.862Z"
   },
   {
    "duration": 30,
    "start_time": "2023-04-20T20:53:56.893Z"
   },
   {
    "duration": 30,
    "start_time": "2023-04-20T20:53:56.924Z"
   },
   {
    "duration": 28,
    "start_time": "2023-04-20T20:53:56.956Z"
   },
   {
    "duration": 203,
    "start_time": "2023-04-20T20:53:56.986Z"
   },
   {
    "duration": 33,
    "start_time": "2023-04-20T20:53:57.190Z"
   },
   {
    "duration": 27,
    "start_time": "2023-04-20T20:53:57.225Z"
   },
   {
    "duration": 44,
    "start_time": "2023-04-20T20:53:57.254Z"
   },
   {
    "duration": 205,
    "start_time": "2023-04-20T20:53:57.302Z"
   },
   {
    "duration": 20,
    "start_time": "2023-04-20T20:53:57.509Z"
   },
   {
    "duration": 95,
    "start_time": "2023-04-20T20:53:57.531Z"
   },
   {
    "duration": 175,
    "start_time": "2023-04-20T20:53:57.628Z"
   },
   {
    "duration": 99,
    "start_time": "2023-04-20T20:53:57.804Z"
   },
   {
    "duration": 165,
    "start_time": "2023-04-20T20:53:57.910Z"
   },
   {
    "duration": 34,
    "start_time": "2023-04-20T20:53:58.077Z"
   },
   {
    "duration": 308,
    "start_time": "2023-04-20T20:53:58.113Z"
   },
   {
    "duration": 4,
    "start_time": "2023-04-20T20:53:58.423Z"
   },
   {
    "duration": 220,
    "start_time": "2023-04-20T20:53:58.429Z"
   },
   {
    "duration": 22,
    "start_time": "2023-04-20T20:53:58.651Z"
   },
   {
    "duration": 87,
    "start_time": "2023-04-20T20:53:58.675Z"
   },
   {
    "duration": 1524,
    "start_time": "2023-04-20T20:53:58.765Z"
   },
   {
    "duration": 5,
    "start_time": "2023-04-20T20:54:00.291Z"
   },
   {
    "duration": 30,
    "start_time": "2023-04-20T20:54:00.299Z"
   },
   {
    "duration": 4597,
    "start_time": "2023-04-20T20:54:00.331Z"
   },
   {
    "duration": 3,
    "start_time": "2023-04-20T20:54:04.930Z"
   },
   {
    "duration": 1027,
    "start_time": "2023-04-20T20:54:04.935Z"
   },
   {
    "duration": 3360,
    "start_time": "2023-04-21T05:29:41.250Z"
   },
   {
    "duration": 1734,
    "start_time": "2023-04-21T05:29:44.613Z"
   },
   {
    "duration": 1191,
    "start_time": "2023-04-21T05:29:46.349Z"
   },
   {
    "duration": 3,
    "start_time": "2023-04-21T05:29:47.541Z"
   },
   {
    "duration": 1525,
    "start_time": "2023-04-21T05:29:47.545Z"
   },
   {
    "duration": 6825,
    "start_time": "2023-04-21T05:30:04.399Z"
   },
   {
    "duration": 6,
    "start_time": "2023-04-21T05:32:38.397Z"
   },
   {
    "duration": 12104,
    "start_time": "2023-04-21T05:32:39.136Z"
   },
   {
    "duration": 4,
    "start_time": "2023-04-21T05:32:51.243Z"
   },
   {
    "duration": 57,
    "start_time": "2023-04-21T05:32:51.249Z"
   },
   {
    "duration": 244,
    "start_time": "2023-04-21T05:32:51.911Z"
   },
   {
    "duration": 39,
    "start_time": "2023-04-21T05:32:55.267Z"
   },
   {
    "duration": 354,
    "start_time": "2023-04-21T05:33:01.103Z"
   },
   {
    "duration": 327,
    "start_time": "2023-04-21T05:33:01.731Z"
   },
   {
    "duration": 310,
    "start_time": "2023-04-21T05:33:02.324Z"
   },
   {
    "duration": 28,
    "start_time": "2023-04-21T05:33:09.100Z"
   },
   {
    "duration": 22,
    "start_time": "2023-04-21T05:33:11.642Z"
   },
   {
    "duration": 42,
    "start_time": "2023-04-21T05:33:13.772Z"
   },
   {
    "duration": 23,
    "start_time": "2023-04-21T05:33:23.215Z"
   },
   {
    "duration": 205,
    "start_time": "2023-04-21T05:33:29.508Z"
   },
   {
    "duration": 39,
    "start_time": "2023-04-21T05:33:31.562Z"
   },
   {
    "duration": 22,
    "start_time": "2023-04-21T05:33:37.141Z"
   },
   {
    "duration": 35,
    "start_time": "2023-04-21T05:33:38.164Z"
   },
   {
    "duration": 50,
    "start_time": "2023-04-21T05:33:47.483Z"
   },
   {
    "duration": 27,
    "start_time": "2023-04-21T05:33:48.705Z"
   },
   {
    "duration": 215,
    "start_time": "2023-04-21T05:33:50.801Z"
   },
   {
    "duration": 21,
    "start_time": "2023-04-21T05:33:57.628Z"
   },
   {
    "duration": 74,
    "start_time": "2023-04-21T05:36:40.636Z"
   },
   {
    "duration": 120,
    "start_time": "2023-04-21T05:37:01.449Z"
   },
   {
    "duration": 39,
    "start_time": "2023-04-21T05:38:33.108Z"
   },
   {
    "duration": 24,
    "start_time": "2023-04-21T05:38:59.140Z"
   },
   {
    "duration": 8,
    "start_time": "2023-04-21T05:39:50.833Z"
   },
   {
    "duration": 6,
    "start_time": "2023-04-21T05:40:26.605Z"
   },
   {
    "duration": 5,
    "start_time": "2023-04-21T05:40:30.544Z"
   },
   {
    "duration": 24,
    "start_time": "2023-04-21T05:43:00.552Z"
   },
   {
    "duration": 115,
    "start_time": "2023-04-21T05:43:13.148Z"
   },
   {
    "duration": 51,
    "start_time": "2023-04-21T05:44:04.892Z"
   },
   {
    "duration": 23,
    "start_time": "2023-04-21T05:44:24.600Z"
   },
   {
    "duration": 24,
    "start_time": "2023-04-21T05:44:46.612Z"
   },
   {
    "duration": 13,
    "start_time": "2023-04-21T05:45:40.449Z"
   },
   {
    "duration": 11,
    "start_time": "2023-04-21T05:45:54.409Z"
   },
   {
    "duration": 15,
    "start_time": "2023-04-21T05:46:11.492Z"
   },
   {
    "duration": 8,
    "start_time": "2023-04-21T05:46:42.956Z"
   },
   {
    "duration": 6,
    "start_time": "2023-04-21T05:47:08.852Z"
   },
   {
    "duration": 44,
    "start_time": "2023-04-21T05:47:50.033Z"
   },
   {
    "duration": 10,
    "start_time": "2023-04-21T05:47:56.782Z"
   },
   {
    "duration": 35,
    "start_time": "2023-04-21T05:49:21.162Z"
   },
   {
    "duration": 32,
    "start_time": "2023-04-21T05:49:30.003Z"
   },
   {
    "duration": 156,
    "start_time": "2023-04-21T05:49:31.953Z"
   },
   {
    "duration": 205,
    "start_time": "2023-04-21T05:51:16.557Z"
   },
   {
    "duration": 11,
    "start_time": "2023-04-21T05:53:26.880Z"
   },
   {
    "duration": 7,
    "start_time": "2023-04-21T05:54:37.552Z"
   },
   {
    "duration": 30,
    "start_time": "2023-04-21T05:55:10.570Z"
   },
   {
    "duration": 112,
    "start_time": "2023-04-21T05:55:26.603Z"
   },
   {
    "duration": 15,
    "start_time": "2023-04-21T05:56:10.378Z"
   },
   {
    "duration": 26,
    "start_time": "2023-04-21T05:56:10.958Z"
   },
   {
    "duration": 107,
    "start_time": "2023-04-21T05:56:11.911Z"
   },
   {
    "duration": 32287,
    "start_time": "2023-04-21T06:08:55.847Z"
   },
   {
    "duration": 21,
    "start_time": "2023-04-21T06:09:30.844Z"
   },
   {
    "duration": 2454,
    "start_time": "2023-04-21T06:09:37.168Z"
   },
   {
    "duration": 6,
    "start_time": "2023-04-21T06:09:39.624Z"
   },
   {
    "duration": 919,
    "start_time": "2023-04-21T06:09:39.632Z"
   },
   {
    "duration": 4,
    "start_time": "2023-04-21T06:09:40.553Z"
   },
   {
    "duration": 1439,
    "start_time": "2023-04-21T06:09:40.559Z"
   },
   {
    "duration": 4773,
    "start_time": "2023-04-21T06:09:42.000Z"
   },
   {
    "duration": 0,
    "start_time": "2023-04-21T06:09:46.775Z"
   },
   {
    "duration": 0,
    "start_time": "2023-04-21T06:09:46.785Z"
   },
   {
    "duration": 0,
    "start_time": "2023-04-21T06:09:46.785Z"
   },
   {
    "duration": 0,
    "start_time": "2023-04-21T06:09:46.786Z"
   },
   {
    "duration": 0,
    "start_time": "2023-04-21T06:09:46.787Z"
   },
   {
    "duration": 0,
    "start_time": "2023-04-21T06:09:46.787Z"
   },
   {
    "duration": 0,
    "start_time": "2023-04-21T06:09:46.788Z"
   },
   {
    "duration": 0,
    "start_time": "2023-04-21T06:09:46.789Z"
   },
   {
    "duration": 0,
    "start_time": "2023-04-21T06:09:46.789Z"
   },
   {
    "duration": 0,
    "start_time": "2023-04-21T06:09:46.790Z"
   },
   {
    "duration": 0,
    "start_time": "2023-04-21T06:09:46.791Z"
   },
   {
    "duration": 0,
    "start_time": "2023-04-21T06:09:46.791Z"
   },
   {
    "duration": 0,
    "start_time": "2023-04-21T06:09:46.792Z"
   },
   {
    "duration": 0,
    "start_time": "2023-04-21T06:09:46.792Z"
   },
   {
    "duration": 0,
    "start_time": "2023-04-21T06:09:46.793Z"
   },
   {
    "duration": 0,
    "start_time": "2023-04-21T06:09:46.800Z"
   },
   {
    "duration": 0,
    "start_time": "2023-04-21T06:09:46.803Z"
   },
   {
    "duration": 0,
    "start_time": "2023-04-21T06:09:46.803Z"
   },
   {
    "duration": 0,
    "start_time": "2023-04-21T06:09:46.805Z"
   },
   {
    "duration": 0,
    "start_time": "2023-04-21T06:09:46.806Z"
   },
   {
    "duration": 0,
    "start_time": "2023-04-21T06:09:46.807Z"
   },
   {
    "duration": 0,
    "start_time": "2023-04-21T06:09:46.808Z"
   },
   {
    "duration": 0,
    "start_time": "2023-04-21T06:09:46.809Z"
   },
   {
    "duration": 0,
    "start_time": "2023-04-21T06:09:46.810Z"
   },
   {
    "duration": 0,
    "start_time": "2023-04-21T06:09:46.811Z"
   },
   {
    "duration": 0,
    "start_time": "2023-04-21T06:09:46.812Z"
   },
   {
    "duration": 0,
    "start_time": "2023-04-21T06:09:46.813Z"
   },
   {
    "duration": 0,
    "start_time": "2023-04-21T06:09:46.814Z"
   },
   {
    "duration": 0,
    "start_time": "2023-04-21T06:09:46.815Z"
   },
   {
    "duration": 0,
    "start_time": "2023-04-21T06:09:46.816Z"
   },
   {
    "duration": 0,
    "start_time": "2023-04-21T06:09:46.817Z"
   },
   {
    "duration": 0,
    "start_time": "2023-04-21T06:09:46.817Z"
   },
   {
    "duration": 0,
    "start_time": "2023-04-21T06:09:46.818Z"
   },
   {
    "duration": 0,
    "start_time": "2023-04-21T06:09:46.819Z"
   },
   {
    "duration": 0,
    "start_time": "2023-04-21T06:09:46.820Z"
   },
   {
    "duration": 0,
    "start_time": "2023-04-21T06:09:46.821Z"
   },
   {
    "duration": 27,
    "start_time": "2023-04-21T06:09:53.650Z"
   },
   {
    "duration": 2514,
    "start_time": "2023-04-21T06:10:14.060Z"
   },
   {
    "duration": 6,
    "start_time": "2023-04-21T06:10:16.576Z"
   },
   {
    "duration": 42,
    "start_time": "2023-04-21T06:10:26.523Z"
   },
   {
    "duration": 16,
    "start_time": "2023-04-21T06:11:09.561Z"
   },
   {
    "duration": 8,
    "start_time": "2023-04-21T06:12:29.050Z"
   },
   {
    "duration": 72,
    "start_time": "2023-04-21T06:13:30.937Z"
   },
   {
    "duration": 25,
    "start_time": "2023-04-21T06:14:33.070Z"
   },
   {
    "duration": 1824,
    "start_time": "2023-04-21T06:15:15.805Z"
   },
   {
    "duration": 33,
    "start_time": "2023-04-21T06:15:18.448Z"
   },
   {
    "duration": 2602,
    "start_time": "2023-04-21T06:15:53.154Z"
   },
   {
    "duration": 6,
    "start_time": "2023-04-21T06:15:55.758Z"
   },
   {
    "duration": 976,
    "start_time": "2023-04-21T06:15:55.766Z"
   },
   {
    "duration": 4,
    "start_time": "2023-04-21T06:15:56.744Z"
   },
   {
    "duration": 1576,
    "start_time": "2023-04-21T06:15:56.750Z"
   },
   {
    "duration": 5291,
    "start_time": "2023-04-21T06:15:58.329Z"
   },
   {
    "duration": 0,
    "start_time": "2023-04-21T06:16:03.623Z"
   },
   {
    "duration": 0,
    "start_time": "2023-04-21T06:16:03.624Z"
   },
   {
    "duration": 0,
    "start_time": "2023-04-21T06:16:03.625Z"
   },
   {
    "duration": 0,
    "start_time": "2023-04-21T06:16:03.626Z"
   },
   {
    "duration": 0,
    "start_time": "2023-04-21T06:16:03.627Z"
   },
   {
    "duration": 0,
    "start_time": "2023-04-21T06:16:03.628Z"
   },
   {
    "duration": 0,
    "start_time": "2023-04-21T06:16:03.629Z"
   },
   {
    "duration": 0,
    "start_time": "2023-04-21T06:16:03.630Z"
   },
   {
    "duration": 0,
    "start_time": "2023-04-21T06:16:03.630Z"
   },
   {
    "duration": 0,
    "start_time": "2023-04-21T06:16:03.632Z"
   },
   {
    "duration": 0,
    "start_time": "2023-04-21T06:16:03.633Z"
   },
   {
    "duration": 0,
    "start_time": "2023-04-21T06:16:03.634Z"
   },
   {
    "duration": 0,
    "start_time": "2023-04-21T06:16:03.634Z"
   },
   {
    "duration": 0,
    "start_time": "2023-04-21T06:16:03.636Z"
   },
   {
    "duration": 0,
    "start_time": "2023-04-21T06:16:03.637Z"
   },
   {
    "duration": 0,
    "start_time": "2023-04-21T06:16:03.638Z"
   },
   {
    "duration": 0,
    "start_time": "2023-04-21T06:16:03.640Z"
   },
   {
    "duration": 0,
    "start_time": "2023-04-21T06:16:03.641Z"
   },
   {
    "duration": 0,
    "start_time": "2023-04-21T06:16:03.642Z"
   },
   {
    "duration": 0,
    "start_time": "2023-04-21T06:16:03.643Z"
   },
   {
    "duration": 0,
    "start_time": "2023-04-21T06:16:03.644Z"
   },
   {
    "duration": 0,
    "start_time": "2023-04-21T06:16:03.645Z"
   },
   {
    "duration": 0,
    "start_time": "2023-04-21T06:16:03.684Z"
   },
   {
    "duration": 0,
    "start_time": "2023-04-21T06:16:03.686Z"
   },
   {
    "duration": 0,
    "start_time": "2023-04-21T06:16:03.687Z"
   },
   {
    "duration": 0,
    "start_time": "2023-04-21T06:16:03.690Z"
   },
   {
    "duration": 0,
    "start_time": "2023-04-21T06:16:03.692Z"
   },
   {
    "duration": 1,
    "start_time": "2023-04-21T06:16:03.693Z"
   },
   {
    "duration": 1995,
    "start_time": "2023-04-21T06:16:07.753Z"
   },
   {
    "duration": 2737,
    "start_time": "2023-04-21T06:16:57.542Z"
   },
   {
    "duration": 8,
    "start_time": "2023-04-21T06:17:00.282Z"
   },
   {
    "duration": 1049,
    "start_time": "2023-04-21T06:17:00.293Z"
   },
   {
    "duration": 4,
    "start_time": "2023-04-21T06:17:01.344Z"
   },
   {
    "duration": 1592,
    "start_time": "2023-04-21T06:17:01.350Z"
   },
   {
    "duration": 3,
    "start_time": "2023-04-21T06:17:02.944Z"
   },
   {
    "duration": 11438,
    "start_time": "2023-04-21T06:17:02.948Z"
   },
   {
    "duration": 6,
    "start_time": "2023-04-21T06:17:14.388Z"
   },
   {
    "duration": 64,
    "start_time": "2023-04-21T06:17:14.396Z"
   },
   {
    "duration": 221,
    "start_time": "2023-04-21T06:17:14.463Z"
   },
   {
    "duration": 37,
    "start_time": "2023-04-21T06:17:14.686Z"
   },
   {
    "duration": 340,
    "start_time": "2023-04-21T06:17:14.726Z"
   },
   {
    "duration": 305,
    "start_time": "2023-04-21T06:17:15.067Z"
   },
   {
    "duration": 267,
    "start_time": "2023-04-21T06:17:15.374Z"
   },
   {
    "duration": 20,
    "start_time": "2023-04-21T06:17:15.643Z"
   },
   {
    "duration": 103,
    "start_time": "2023-04-21T06:17:15.665Z"
   },
   {
    "duration": 51,
    "start_time": "2023-04-21T06:17:15.770Z"
   },
   {
    "duration": 71,
    "start_time": "2023-04-21T06:17:15.822Z"
   },
   {
    "duration": 233,
    "start_time": "2023-04-21T06:17:15.895Z"
   },
   {
    "duration": 22,
    "start_time": "2023-04-21T06:17:16.129Z"
   },
   {
    "duration": 35,
    "start_time": "2023-04-21T06:17:16.153Z"
   },
   {
    "duration": 24,
    "start_time": "2023-04-21T06:17:16.190Z"
   },
   {
    "duration": 185,
    "start_time": "2023-04-21T06:17:16.216Z"
   },
   {
    "duration": 20,
    "start_time": "2023-04-21T06:17:16.403Z"
   },
   {
    "duration": 104,
    "start_time": "2023-04-21T06:17:16.425Z"
   },
   {
    "duration": 186,
    "start_time": "2023-04-21T06:17:16.531Z"
   },
   {
    "duration": 81,
    "start_time": "2023-04-21T06:17:16.719Z"
   },
   {
    "duration": 137,
    "start_time": "2023-04-21T06:17:16.803Z"
   },
   {
    "duration": 26,
    "start_time": "2023-04-21T06:17:16.942Z"
   },
   {
    "duration": 125,
    "start_time": "2023-04-21T06:17:16.969Z"
   },
   {
    "duration": 6,
    "start_time": "2023-04-21T06:17:17.095Z"
   },
   {
    "duration": 11,
    "start_time": "2023-04-21T06:17:17.103Z"
   },
   {
    "duration": 27,
    "start_time": "2023-04-21T06:17:25.614Z"
   },
   {
    "duration": 28,
    "start_time": "2023-04-21T06:17:27.640Z"
   },
   {
    "duration": 121,
    "start_time": "2023-04-21T06:17:34.224Z"
   },
   {
    "duration": 158,
    "start_time": "2023-04-21T06:17:36.415Z"
   },
   {
    "duration": 7,
    "start_time": "2023-04-21T06:17:37.031Z"
   },
   {
    "duration": 23,
    "start_time": "2023-04-21T06:17:37.496Z"
   },
   {
    "duration": 141,
    "start_time": "2023-04-21T06:17:38.211Z"
   },
   {
    "duration": 304,
    "start_time": "2023-04-21T06:17:39.602Z"
   },
   {
    "duration": 5,
    "start_time": "2023-04-21T06:17:43.719Z"
   },
   {
    "duration": 258,
    "start_time": "2023-04-21T06:17:48.675Z"
   },
   {
    "duration": 244,
    "start_time": "2023-04-21T06:20:17.627Z"
   },
   {
    "duration": 251,
    "start_time": "2023-04-21T06:23:58.078Z"
   },
   {
    "duration": 66,
    "start_time": "2023-04-21T06:25:13.929Z"
   },
   {
    "duration": 279,
    "start_time": "2023-04-21T06:26:40.618Z"
   },
   {
    "duration": 8,
    "start_time": "2023-04-21T06:28:31.928Z"
   },
   {
    "duration": 32,
    "start_time": "2023-04-21T06:28:48.603Z"
   },
   {
    "duration": 141,
    "start_time": "2023-04-21T06:28:49.662Z"
   },
   {
    "duration": 278,
    "start_time": "2023-04-21T06:29:05.802Z"
   },
   {
    "duration": 25,
    "start_time": "2023-04-21T06:32:46.749Z"
   },
   {
    "duration": 157,
    "start_time": "2023-04-21T06:32:50.145Z"
   },
   {
    "duration": 1722,
    "start_time": "2023-04-21T06:32:59.752Z"
   },
   {
    "duration": 5,
    "start_time": "2023-04-21T06:33:01.609Z"
   },
   {
    "duration": 9,
    "start_time": "2023-04-21T06:33:02.905Z"
   },
   {
    "duration": 2898,
    "start_time": "2023-04-21T06:33:04.099Z"
   },
   {
    "duration": 5,
    "start_time": "2023-04-21T06:33:06.999Z"
   },
   {
    "duration": 14,
    "start_time": "2023-04-21T06:34:27.935Z"
   },
   {
    "duration": 1339,
    "start_time": "2023-04-21T06:34:44.281Z"
   },
   {
    "duration": 2479,
    "start_time": "2023-04-21T06:35:44.101Z"
   },
   {
    "duration": 1820,
    "start_time": "2023-04-21T06:35:46.583Z"
   },
   {
    "duration": 1553,
    "start_time": "2023-04-21T06:35:48.408Z"
   },
   {
    "duration": 3,
    "start_time": "2023-04-21T06:35:49.963Z"
   },
   {
    "duration": 1900,
    "start_time": "2023-04-21T06:35:49.968Z"
   },
   {
    "duration": 5,
    "start_time": "2023-04-21T06:35:51.869Z"
   },
   {
    "duration": 13234,
    "start_time": "2023-04-21T06:35:51.876Z"
   },
   {
    "duration": 7,
    "start_time": "2023-04-21T06:36:05.113Z"
   },
   {
    "duration": 71,
    "start_time": "2023-04-21T06:36:05.123Z"
   },
   {
    "duration": 345,
    "start_time": "2023-04-21T06:36:05.196Z"
   },
   {
    "duration": 46,
    "start_time": "2023-04-21T06:36:05.544Z"
   },
   {
    "duration": 355,
    "start_time": "2023-04-21T06:36:05.607Z"
   },
   {
    "duration": 403,
    "start_time": "2023-04-21T06:36:05.964Z"
   },
   {
    "duration": 390,
    "start_time": "2023-04-21T06:36:06.370Z"
   },
   {
    "duration": 20,
    "start_time": "2023-04-21T06:36:06.762Z"
   },
   {
    "duration": 51,
    "start_time": "2023-04-21T06:36:06.800Z"
   },
   {
    "duration": 28,
    "start_time": "2023-04-21T06:36:06.853Z"
   },
   {
    "duration": 75,
    "start_time": "2023-04-21T06:36:06.887Z"
   },
   {
    "duration": 281,
    "start_time": "2023-04-21T06:36:06.964Z"
   },
   {
    "duration": 25,
    "start_time": "2023-04-21T06:36:07.246Z"
   },
   {
    "duration": 55,
    "start_time": "2023-04-21T06:36:07.273Z"
   },
   {
    "duration": 49,
    "start_time": "2023-04-21T06:36:07.331Z"
   },
   {
    "duration": 372,
    "start_time": "2023-04-21T06:36:07.382Z"
   },
   {
    "duration": 56,
    "start_time": "2023-04-21T06:36:07.756Z"
   },
   {
    "duration": 156,
    "start_time": "2023-04-21T06:36:07.815Z"
   },
   {
    "duration": 337,
    "start_time": "2023-04-21T06:36:07.973Z"
   },
   {
    "duration": 98,
    "start_time": "2023-04-21T06:36:08.312Z"
   },
   {
    "duration": 189,
    "start_time": "2023-04-21T06:36:08.414Z"
   },
   {
    "duration": 32,
    "start_time": "2023-04-21T06:36:08.605Z"
   },
   {
    "duration": 134,
    "start_time": "2023-04-21T06:36:08.639Z"
   },
   {
    "duration": 27,
    "start_time": "2023-04-21T06:36:08.775Z"
   },
   {
    "duration": 34,
    "start_time": "2023-04-21T06:36:08.804Z"
   },
   {
    "duration": 41,
    "start_time": "2023-04-21T06:36:08.840Z"
   },
   {
    "duration": 45,
    "start_time": "2023-04-21T06:36:08.891Z"
   },
   {
    "duration": 131,
    "start_time": "2023-04-21T06:36:08.939Z"
   },
   {
    "duration": 254,
    "start_time": "2023-04-21T06:36:09.072Z"
   },
   {
    "duration": 7,
    "start_time": "2023-04-21T06:36:09.328Z"
   },
   {
    "duration": 70,
    "start_time": "2023-04-21T06:36:09.336Z"
   },
   {
    "duration": 141,
    "start_time": "2023-04-21T06:36:09.408Z"
   },
   {
    "duration": 256,
    "start_time": "2023-04-21T06:36:09.551Z"
   },
   {
    "duration": 13,
    "start_time": "2023-04-21T06:36:09.815Z"
   },
   {
    "duration": 331,
    "start_time": "2023-04-21T06:36:09.833Z"
   },
   {
    "duration": 256,
    "start_time": "2023-04-21T06:36:10.167Z"
   },
   {
    "duration": 272,
    "start_time": "2023-04-21T06:36:10.426Z"
   },
   {
    "duration": 28,
    "start_time": "2023-04-21T06:36:10.699Z"
   },
   {
    "duration": 1591,
    "start_time": "2023-04-21T06:36:10.728Z"
   },
   {
    "duration": 4,
    "start_time": "2023-04-21T06:36:12.322Z"
   },
   {
    "duration": 117,
    "start_time": "2023-04-21T06:36:12.328Z"
   },
   {
    "duration": 2994,
    "start_time": "2023-04-21T06:36:12.447Z"
   },
   {
    "duration": 4,
    "start_time": "2023-04-21T06:36:15.443Z"
   },
   {
    "duration": 6,
    "start_time": "2023-04-21T06:36:31.916Z"
   },
   {
    "duration": 1146,
    "start_time": "2023-04-21T06:36:33.571Z"
   },
   {
    "duration": 243804,
    "start_time": "2023-04-21T06:36:42.112Z"
   },
   {
    "duration": 880,
    "start_time": "2023-04-21T06:42:24.608Z"
   },
   {
    "duration": 167,
    "start_time": "2023-04-21T06:43:35.657Z"
   },
   {
    "duration": 6,
    "start_time": "2023-04-21T06:43:44.580Z"
   },
   {
    "duration": 27,
    "start_time": "2023-04-21T06:48:47.676Z"
   },
   {
    "duration": 1546,
    "start_time": "2023-04-21T06:48:49.413Z"
   },
   {
    "duration": 4,
    "start_time": "2023-04-21T06:48:50.961Z"
   },
   {
    "duration": 11,
    "start_time": "2023-04-21T06:48:53.222Z"
   },
   {
    "duration": 2800,
    "start_time": "2023-04-21T06:48:57.444Z"
   },
   {
    "duration": 5,
    "start_time": "2023-04-21T06:49:00.247Z"
   },
   {
    "duration": 1299,
    "start_time": "2023-04-21T06:49:00.254Z"
   },
   {
    "duration": 3577469,
    "start_time": "2023-04-21T06:49:28.027Z"
   },
   {
    "duration": 4,
    "start_time": "2023-04-21T07:49:05.499Z"
   },
   {
    "duration": 45,
    "start_time": "2023-04-21T07:49:05.505Z"
   },
   {
    "duration": 8,
    "start_time": "2023-04-21T07:49:05.584Z"
   },
   {
    "duration": 47,
    "start_time": "2023-04-21T07:49:05.594Z"
   },
   {
    "duration": 2,
    "start_time": "2023-04-21T09:15:29.087Z"
   },
   {
    "duration": 14,
    "start_time": "2023-04-21T09:15:34.437Z"
   },
   {
    "duration": 15637081,
    "start_time": "2023-04-21T09:15:47.474Z"
   },
   {
    "duration": 4,
    "start_time": "2023-04-21T13:36:24.557Z"
   },
   {
    "duration": 17,
    "start_time": "2023-04-21T13:36:24.563Z"
   },
   {
    "duration": 37,
    "start_time": "2023-04-21T13:36:24.584Z"
   },
   {
    "duration": 3,
    "start_time": "2023-04-21T18:31:07.797Z"
   },
   {
    "duration": 222044,
    "start_time": "2023-04-21T18:32:32.546Z"
   },
   {
    "duration": 52,
    "start_time": "2023-04-21T18:36:14.593Z"
   },
   {
    "duration": 3,
    "start_time": "2023-04-21T18:36:38.941Z"
   },
   {
    "duration": 3,
    "start_time": "2023-04-21T18:36:50.768Z"
   },
   {
    "duration": 282595,
    "start_time": "2023-04-21T18:37:02.691Z"
   },
   {
    "duration": 763,
    "start_time": "2023-04-21T18:49:27.149Z"
   },
   {
    "duration": 843,
    "start_time": "2023-04-21T18:49:56.662Z"
   },
   {
    "duration": 6,
    "start_time": "2023-04-21T18:50:03.666Z"
   },
   {
    "duration": 4,
    "start_time": "2023-04-21T19:00:17.021Z"
   },
   {
    "duration": 6,
    "start_time": "2023-04-21T19:00:56.252Z"
   },
   {
    "duration": 381865,
    "start_time": "2023-04-21T19:04:33.784Z"
   },
   {
    "duration": 2049,
    "start_time": "2023-04-21T19:11:07.740Z"
   },
   {
    "duration": 5,
    "start_time": "2023-04-21T19:11:19.274Z"
   },
   {
    "duration": 5,
    "start_time": "2023-04-21T19:11:41.265Z"
   },
   {
    "duration": 7,
    "start_time": "2023-04-21T19:12:04.017Z"
   },
   {
    "duration": 9,
    "start_time": "2023-04-21T19:12:06.727Z"
   },
   {
    "duration": 183,
    "start_time": "2023-04-21T19:53:19.138Z"
   },
   {
    "duration": 226,
    "start_time": "2023-04-21T19:53:28.032Z"
   },
   {
    "duration": 442,
    "start_time": "2023-04-21T19:56:52.819Z"
   },
   {
    "duration": 5,
    "start_time": "2023-04-21T19:57:59.094Z"
   },
   {
    "duration": 51,
    "start_time": "2023-04-21T19:58:30.036Z"
   },
   {
    "duration": 548,
    "start_time": "2023-04-21T19:58:41.383Z"
   },
   {
    "duration": 453,
    "start_time": "2023-04-21T19:59:55.867Z"
   },
   {
    "duration": 59,
    "start_time": "2023-04-21T20:04:42.068Z"
   },
   {
    "duration": 172,
    "start_time": "2023-04-21T20:06:00.328Z"
   },
   {
    "duration": 154,
    "start_time": "2023-04-21T20:10:10.973Z"
   },
   {
    "duration": 52,
    "start_time": "2023-04-21T20:11:00.502Z"
   },
   {
    "duration": 202,
    "start_time": "2023-04-21T20:12:27.545Z"
   },
   {
    "duration": 244,
    "start_time": "2023-04-21T20:12:58.054Z"
   },
   {
    "duration": 227,
    "start_time": "2023-04-21T20:13:29.793Z"
   },
   {
    "duration": 201,
    "start_time": "2023-04-21T20:14:38.197Z"
   },
   {
    "duration": 93,
    "start_time": "2023-04-21T20:17:48.333Z"
   },
   {
    "duration": 186,
    "start_time": "2023-04-21T20:18:18.821Z"
   },
   {
    "duration": 62,
    "start_time": "2023-04-21T20:19:39.379Z"
   },
   {
    "duration": 158103,
    "start_time": "2023-04-21T20:23:28.763Z"
   },
   {
    "duration": 632,
    "start_time": "2023-04-21T20:36:22.784Z"
   },
   {
    "duration": 144,
    "start_time": "2023-04-21T20:37:34.428Z"
   },
   {
    "duration": 138,
    "start_time": "2023-04-21T20:37:54.210Z"
   },
   {
    "duration": 173,
    "start_time": "2023-04-21T20:38:05.235Z"
   },
   {
    "duration": 767,
    "start_time": "2023-04-21T20:38:34.398Z"
   },
   {
    "duration": 54,
    "start_time": "2023-04-21T20:43:55.880Z"
   },
   {
    "duration": 200,
    "start_time": "2023-04-21T20:51:05.416Z"
   },
   {
    "duration": 212,
    "start_time": "2023-04-21T20:51:44.591Z"
   },
   {
    "duration": 433,
    "start_time": "2023-04-21T20:52:16.251Z"
   },
   {
    "duration": 164,
    "start_time": "2023-04-21T20:52:52.628Z"
   },
   {
    "duration": 164,
    "start_time": "2023-04-21T20:53:38.704Z"
   },
   {
    "duration": 222,
    "start_time": "2023-04-21T20:54:07.036Z"
   },
   {
    "duration": 222,
    "start_time": "2023-04-21T20:54:41.376Z"
   },
   {
    "duration": 666,
    "start_time": "2023-04-21T20:56:24.039Z"
   },
   {
    "duration": 224,
    "start_time": "2023-04-21T20:56:55.633Z"
   },
   {
    "duration": 94,
    "start_time": "2023-04-24T09:27:55.337Z"
   },
   {
    "duration": 3417,
    "start_time": "2023-04-24T18:56:13.346Z"
   },
   {
    "duration": 1592,
    "start_time": "2023-04-24T18:56:16.765Z"
   },
   {
    "duration": 1271,
    "start_time": "2023-04-24T18:56:18.364Z"
   },
   {
    "duration": 4,
    "start_time": "2023-04-24T18:56:19.638Z"
   },
   {
    "duration": 1494,
    "start_time": "2023-04-24T18:56:19.644Z"
   },
   {
    "duration": 22,
    "start_time": "2023-04-24T18:56:21.140Z"
   },
   {
    "duration": 11540,
    "start_time": "2023-04-24T18:56:21.168Z"
   },
   {
    "duration": 5,
    "start_time": "2023-04-24T18:56:32.710Z"
   },
   {
    "duration": 58,
    "start_time": "2023-04-24T18:56:32.716Z"
   },
   {
    "duration": 298,
    "start_time": "2023-04-24T18:56:32.777Z"
   },
   {
    "duration": 31,
    "start_time": "2023-04-24T18:56:33.078Z"
   },
   {
    "duration": 305,
    "start_time": "2023-04-24T18:56:33.111Z"
   },
   {
    "duration": 322,
    "start_time": "2023-04-24T18:56:33.418Z"
   },
   {
    "duration": 355,
    "start_time": "2023-04-24T18:56:33.742Z"
   },
   {
    "duration": 21,
    "start_time": "2023-04-24T18:56:34.100Z"
   },
   {
    "duration": 47,
    "start_time": "2023-04-24T18:56:34.123Z"
   },
   {
    "duration": 57,
    "start_time": "2023-04-24T18:56:34.172Z"
   },
   {
    "duration": 35,
    "start_time": "2023-04-24T18:56:34.231Z"
   },
   {
    "duration": 201,
    "start_time": "2023-04-24T18:56:34.268Z"
   },
   {
    "duration": 41,
    "start_time": "2023-04-24T18:56:34.472Z"
   },
   {
    "duration": 59,
    "start_time": "2023-04-24T18:56:34.515Z"
   },
   {
    "duration": 41,
    "start_time": "2023-04-24T18:56:34.575Z"
   },
   {
    "duration": 306,
    "start_time": "2023-04-24T18:56:34.618Z"
   },
   {
    "duration": 25,
    "start_time": "2023-04-24T18:56:34.925Z"
   },
   {
    "duration": 106,
    "start_time": "2023-04-24T18:56:34.959Z"
   },
   {
    "duration": 175,
    "start_time": "2023-04-24T18:56:35.067Z"
   },
   {
    "duration": 122,
    "start_time": "2023-04-24T18:56:35.244Z"
   },
   {
    "duration": 144,
    "start_time": "2023-04-24T18:56:35.369Z"
   },
   {
    "duration": 37,
    "start_time": "2023-04-24T18:57:08.035Z"
   },
   {
    "duration": 38,
    "start_time": "2023-04-24T18:57:18.305Z"
   },
   {
    "duration": 41,
    "start_time": "2023-04-24T18:57:30.129Z"
   },
   {
    "duration": 26,
    "start_time": "2023-04-24T18:57:44.365Z"
   },
   {
    "duration": 30,
    "start_time": "2023-04-24T18:57:56.921Z"
   },
   {
    "duration": 26,
    "start_time": "2023-04-24T18:58:15.220Z"
   },
   {
    "duration": 28,
    "start_time": "2023-04-24T19:01:18.522Z"
   },
   {
    "duration": 13,
    "start_time": "2023-04-24T19:01:27.599Z"
   },
   {
    "duration": 65,
    "start_time": "2023-04-24T19:02:15.248Z"
   },
   {
    "duration": 28,
    "start_time": "2023-04-24T19:04:27.096Z"
   },
   {
    "duration": 11,
    "start_time": "2023-04-24T19:09:31.811Z"
   },
   {
    "duration": 15,
    "start_time": "2023-04-24T19:09:57.910Z"
   },
   {
    "duration": 13,
    "start_time": "2023-04-24T19:20:29.979Z"
   },
   {
    "duration": 109,
    "start_time": "2023-04-24T19:20:43.886Z"
   },
   {
    "duration": 4,
    "start_time": "2023-04-24T19:21:43.834Z"
   },
   {
    "duration": 130,
    "start_time": "2023-04-24T19:21:50.445Z"
   },
   {
    "duration": 54,
    "start_time": "2023-04-24T19:26:09.564Z"
   },
   {
    "duration": 48,
    "start_time": "2023-04-24T19:26:21.096Z"
   },
   {
    "duration": 143,
    "start_time": "2023-04-24T19:26:33.422Z"
   },
   {
    "duration": 35,
    "start_time": "2023-04-24T19:26:59.930Z"
   },
   {
    "duration": 29,
    "start_time": "2023-04-24T19:28:26.731Z"
   },
   {
    "duration": 38,
    "start_time": "2023-04-24T19:30:44.369Z"
   },
   {
    "duration": 32,
    "start_time": "2023-04-24T19:34:16.844Z"
   },
   {
    "duration": 4,
    "start_time": "2023-04-24T19:34:38.128Z"
   },
   {
    "duration": 57,
    "start_time": "2023-04-24T19:39:09.084Z"
   },
   {
    "duration": 8,
    "start_time": "2023-04-24T19:45:54.119Z"
   },
   {
    "duration": 15,
    "start_time": "2023-04-24T19:46:13.000Z"
   },
   {
    "duration": 8,
    "start_time": "2023-04-24T19:46:48.367Z"
   },
   {
    "duration": 33,
    "start_time": "2023-04-24T19:47:36.580Z"
   },
   {
    "duration": 61,
    "start_time": "2023-04-24T19:49:37.763Z"
   },
   {
    "duration": 21,
    "start_time": "2023-04-24T19:49:57.197Z"
   },
   {
    "duration": 116,
    "start_time": "2023-04-24T19:50:00.566Z"
   },
   {
    "duration": 62,
    "start_time": "2023-04-24T19:50:39.869Z"
   },
   {
    "duration": 8,
    "start_time": "2023-04-24T20:15:21.834Z"
   },
   {
    "duration": 2360,
    "start_time": "2023-04-24T20:17:48.298Z"
   },
   {
    "duration": 15,
    "start_time": "2023-04-24T20:17:50.660Z"
   },
   {
    "duration": 948,
    "start_time": "2023-04-24T20:17:50.676Z"
   },
   {
    "duration": 2,
    "start_time": "2023-04-24T20:17:51.627Z"
   },
   {
    "duration": 1509,
    "start_time": "2023-04-24T20:17:51.631Z"
   },
   {
    "duration": 7,
    "start_time": "2023-04-24T20:17:53.142Z"
   },
   {
    "duration": 12380,
    "start_time": "2023-04-24T20:17:53.150Z"
   },
   {
    "duration": 4,
    "start_time": "2023-04-24T20:18:05.532Z"
   },
   {
    "duration": 90,
    "start_time": "2023-04-24T20:18:05.538Z"
   },
   {
    "duration": 285,
    "start_time": "2023-04-24T20:18:05.630Z"
   },
   {
    "duration": 38,
    "start_time": "2023-04-24T20:18:05.916Z"
   },
   {
    "duration": 271,
    "start_time": "2023-04-24T20:18:05.956Z"
   },
   {
    "duration": 308,
    "start_time": "2023-04-24T20:18:06.228Z"
   },
   {
    "duration": 343,
    "start_time": "2023-04-24T20:18:06.538Z"
   },
   {
    "duration": 22,
    "start_time": "2023-04-24T20:18:06.883Z"
   },
   {
    "duration": 23,
    "start_time": "2023-04-24T20:18:06.906Z"
   },
   {
    "duration": 57,
    "start_time": "2023-04-24T20:18:06.931Z"
   },
   {
    "duration": 22,
    "start_time": "2023-04-24T20:18:06.990Z"
   },
   {
    "duration": 228,
    "start_time": "2023-04-24T20:18:07.014Z"
   },
   {
    "duration": 45,
    "start_time": "2023-04-24T20:18:07.243Z"
   },
   {
    "duration": 34,
    "start_time": "2023-04-24T20:18:07.290Z"
   },
   {
    "duration": 60,
    "start_time": "2023-04-24T20:18:07.326Z"
   },
   {
    "duration": 234,
    "start_time": "2023-04-24T20:18:07.387Z"
   },
   {
    "duration": 18,
    "start_time": "2023-04-24T20:18:07.623Z"
   },
   {
    "duration": 141,
    "start_time": "2023-04-24T20:18:07.648Z"
   },
   {
    "duration": 225,
    "start_time": "2023-04-24T20:18:07.791Z"
   },
   {
    "duration": 96,
    "start_time": "2023-04-24T20:18:08.017Z"
   },
   {
    "duration": 162,
    "start_time": "2023-04-24T20:18:08.117Z"
   },
   {
    "duration": 28,
    "start_time": "2023-04-24T20:18:08.288Z"
   },
   {
    "duration": 117,
    "start_time": "2023-04-24T20:18:08.318Z"
   },
   {
    "duration": 5,
    "start_time": "2023-04-24T20:18:08.437Z"
   },
   {
    "duration": 69,
    "start_time": "2023-04-24T20:18:08.443Z"
   },
   {
    "duration": 23,
    "start_time": "2023-04-24T20:18:08.514Z"
   },
   {
    "duration": 75,
    "start_time": "2023-04-24T20:18:08.539Z"
   },
   {
    "duration": 25,
    "start_time": "2023-04-24T20:18:08.616Z"
   },
   {
    "duration": 141,
    "start_time": "2023-04-24T20:18:08.642Z"
   },
   {
    "duration": 133,
    "start_time": "2023-04-24T20:18:08.788Z"
   },
   {
    "duration": 6,
    "start_time": "2023-04-24T20:18:08.923Z"
   },
   {
    "duration": 40,
    "start_time": "2023-04-24T20:18:08.930Z"
   },
   {
    "duration": 39,
    "start_time": "2023-04-24T20:18:08.972Z"
   },
   {
    "duration": 195,
    "start_time": "2023-04-24T20:18:09.013Z"
   },
   {
    "duration": 284,
    "start_time": "2023-04-24T20:18:09.210Z"
   },
   {
    "duration": 4,
    "start_time": "2023-04-24T20:18:09.496Z"
   },
   {
    "duration": 234,
    "start_time": "2023-04-24T20:18:09.502Z"
   },
   {
    "duration": 253,
    "start_time": "2023-04-24T20:18:09.738Z"
   },
   {
    "duration": 493,
    "start_time": "2023-04-24T20:18:09.993Z"
   },
   {
    "duration": 196,
    "start_time": "2023-04-24T20:18:10.489Z"
   },
   {
    "duration": 204,
    "start_time": "2023-04-24T20:18:10.687Z"
   },
   {
    "duration": 222,
    "start_time": "2023-04-24T20:18:10.892Z"
   },
   {
    "duration": 213,
    "start_time": "2023-04-24T20:18:11.116Z"
   },
   {
    "duration": 678,
    "start_time": "2023-04-24T20:18:11.330Z"
   },
   {
    "duration": 232,
    "start_time": "2023-04-24T20:18:12.009Z"
   },
   {
    "duration": 25,
    "start_time": "2023-04-24T20:18:12.242Z"
   },
   {
    "duration": 13,
    "start_time": "2023-04-24T20:18:12.279Z"
   },
   {
    "duration": 6,
    "start_time": "2023-04-24T20:18:12.293Z"
   },
   {
    "duration": 5,
    "start_time": "2023-04-24T20:18:12.300Z"
   },
   {
    "duration": 15,
    "start_time": "2023-04-24T20:18:12.306Z"
   },
   {
    "duration": 63,
    "start_time": "2023-04-24T20:18:12.322Z"
   },
   {
    "duration": 5,
    "start_time": "2023-04-24T20:18:12.387Z"
   },
   {
    "duration": 34,
    "start_time": "2023-04-24T20:18:12.393Z"
   },
   {
    "duration": 232,
    "start_time": "2023-04-24T20:27:41.396Z"
   },
   {
    "duration": 10,
    "start_time": "2023-04-24T20:28:27.629Z"
   },
   {
    "duration": 215,
    "start_time": "2023-04-24T20:28:36.272Z"
   },
   {
    "duration": 15,
    "start_time": "2023-04-24T20:28:37.481Z"
   },
   {
    "duration": 14,
    "start_time": "2023-04-24T20:30:28.577Z"
   },
   {
    "duration": 295,
    "start_time": "2023-04-24T20:30:45.618Z"
   },
   {
    "duration": 292,
    "start_time": "2023-04-24T20:30:54.084Z"
   },
   {
    "duration": 11,
    "start_time": "2023-04-24T20:30:55.632Z"
   },
   {
    "duration": 218,
    "start_time": "2023-04-24T20:32:08.897Z"
   },
   {
    "duration": 8,
    "start_time": "2023-04-24T20:32:10.605Z"
   },
   {
    "duration": 69,
    "start_time": "2023-04-24T20:37:08.881Z"
   },
   {
    "duration": 278,
    "start_time": "2023-04-24T20:38:33.527Z"
   },
   {
    "duration": 10,
    "start_time": "2023-04-24T20:38:46.214Z"
   },
   {
    "duration": 2245,
    "start_time": "2023-04-24T20:40:10.439Z"
   },
   {
    "duration": 7,
    "start_time": "2023-04-24T20:40:12.686Z"
   },
   {
    "duration": 886,
    "start_time": "2023-04-24T20:40:12.695Z"
   },
   {
    "duration": 4,
    "start_time": "2023-04-24T20:40:13.583Z"
   },
   {
    "duration": 1449,
    "start_time": "2023-04-24T20:40:13.588Z"
   },
   {
    "duration": 4,
    "start_time": "2023-04-24T20:40:15.038Z"
   },
   {
    "duration": 11420,
    "start_time": "2023-04-24T20:40:15.054Z"
   },
   {
    "duration": 8,
    "start_time": "2023-04-24T20:40:26.475Z"
   },
   {
    "duration": 47,
    "start_time": "2023-04-24T20:40:26.484Z"
   },
   {
    "duration": 303,
    "start_time": "2023-04-24T20:40:26.534Z"
   },
   {
    "duration": 52,
    "start_time": "2023-04-24T20:40:26.839Z"
   },
   {
    "duration": 299,
    "start_time": "2023-04-24T20:40:26.893Z"
   },
   {
    "duration": 301,
    "start_time": "2023-04-24T20:40:27.194Z"
   },
   {
    "duration": 301,
    "start_time": "2023-04-24T20:40:27.497Z"
   },
   {
    "duration": 20,
    "start_time": "2023-04-24T20:40:27.800Z"
   },
   {
    "duration": 61,
    "start_time": "2023-04-24T20:40:27.822Z"
   },
   {
    "duration": 26,
    "start_time": "2023-04-24T20:40:27.887Z"
   },
   {
    "duration": 27,
    "start_time": "2023-04-24T20:40:27.914Z"
   },
   {
    "duration": 261,
    "start_time": "2023-04-24T20:40:27.942Z"
   },
   {
    "duration": 25,
    "start_time": "2023-04-24T20:40:28.205Z"
   },
   {
    "duration": 48,
    "start_time": "2023-04-24T20:40:28.231Z"
   },
   {
    "duration": 36,
    "start_time": "2023-04-24T20:40:28.283Z"
   },
   {
    "duration": 227,
    "start_time": "2023-04-24T20:40:28.320Z"
   },
   {
    "duration": 38,
    "start_time": "2023-04-24T20:40:28.558Z"
   },
   {
    "duration": 103,
    "start_time": "2023-04-24T20:40:28.598Z"
   },
   {
    "duration": 217,
    "start_time": "2023-04-24T20:40:28.702Z"
   },
   {
    "duration": 90,
    "start_time": "2023-04-24T20:40:28.920Z"
   },
   {
    "duration": 179,
    "start_time": "2023-04-24T20:40:29.013Z"
   },
   {
    "duration": 30,
    "start_time": "2023-04-24T20:40:29.193Z"
   },
   {
    "duration": 122,
    "start_time": "2023-04-24T20:40:29.225Z"
   },
   {
    "duration": 24,
    "start_time": "2023-04-24T20:40:29.363Z"
   },
   {
    "duration": 9,
    "start_time": "2023-04-24T20:40:29.389Z"
   },
   {
    "duration": 6,
    "start_time": "2023-04-24T20:40:29.399Z"
   },
   {
    "duration": 32,
    "start_time": "2023-04-24T20:40:29.406Z"
   },
   {
    "duration": 37,
    "start_time": "2023-04-24T20:40:29.440Z"
   },
   {
    "duration": 116,
    "start_time": "2023-04-24T20:40:29.483Z"
   },
   {
    "duration": 128,
    "start_time": "2023-04-24T20:40:29.601Z"
   },
   {
    "duration": 7,
    "start_time": "2023-04-24T20:40:29.731Z"
   },
   {
    "duration": 39,
    "start_time": "2023-04-24T20:40:29.748Z"
   },
   {
    "duration": 34,
    "start_time": "2023-04-24T20:40:29.788Z"
   },
   {
    "duration": 152,
    "start_time": "2023-04-24T20:40:29.823Z"
   },
   {
    "duration": 251,
    "start_time": "2023-04-24T20:40:29.984Z"
   },
   {
    "duration": 3,
    "start_time": "2023-04-24T20:40:30.237Z"
   },
   {
    "duration": 272,
    "start_time": "2023-04-24T20:40:30.263Z"
   },
   {
    "duration": 285,
    "start_time": "2023-04-24T20:40:30.536Z"
   },
   {
    "duration": 487,
    "start_time": "2023-04-24T20:40:30.822Z"
   },
   {
    "duration": 184,
    "start_time": "2023-04-24T20:40:31.311Z"
   },
   {
    "duration": 195,
    "start_time": "2023-04-24T20:40:31.497Z"
   },
   {
    "duration": 222,
    "start_time": "2023-04-24T20:40:31.693Z"
   },
   {
    "duration": 204,
    "start_time": "2023-04-24T20:40:31.917Z"
   },
   {
    "duration": 721,
    "start_time": "2023-04-24T20:40:32.122Z"
   },
   {
    "duration": 298,
    "start_time": "2023-04-24T20:40:32.860Z"
   },
   {
    "duration": 17,
    "start_time": "2023-04-24T20:40:41.076Z"
   },
   {
    "duration": 9,
    "start_time": "2023-04-24T20:41:07.506Z"
   },
   {
    "duration": 54,
    "start_time": "2023-04-24T20:41:25.443Z"
   },
   {
    "duration": 244,
    "start_time": "2023-04-24T20:41:25.814Z"
   },
   {
    "duration": 2352,
    "start_time": "2023-04-24T20:41:35.189Z"
   },
   {
    "duration": 28,
    "start_time": "2023-04-24T20:41:37.543Z"
   },
   {
    "duration": 957,
    "start_time": "2023-04-24T20:41:37.583Z"
   },
   {
    "duration": 3,
    "start_time": "2023-04-24T20:41:38.542Z"
   },
   {
    "duration": 1541,
    "start_time": "2023-04-24T20:41:38.546Z"
   },
   {
    "duration": 4,
    "start_time": "2023-04-24T20:41:40.089Z"
   },
   {
    "duration": 11480,
    "start_time": "2023-04-24T20:41:40.094Z"
   },
   {
    "duration": 5,
    "start_time": "2023-04-24T20:41:51.576Z"
   },
   {
    "duration": 62,
    "start_time": "2023-04-24T20:41:51.582Z"
   },
   {
    "duration": 261,
    "start_time": "2023-04-24T20:41:51.647Z"
   },
   {
    "duration": 28,
    "start_time": "2023-04-24T20:41:51.909Z"
   },
   {
    "duration": 305,
    "start_time": "2023-04-24T20:41:51.939Z"
   },
   {
    "duration": 314,
    "start_time": "2023-04-24T20:41:52.245Z"
   },
   {
    "duration": 268,
    "start_time": "2023-04-24T20:41:52.560Z"
   },
   {
    "duration": 36,
    "start_time": "2023-04-24T20:41:52.829Z"
   },
   {
    "duration": 23,
    "start_time": "2023-04-24T20:41:52.867Z"
   },
   {
    "duration": 21,
    "start_time": "2023-04-24T20:41:52.892Z"
   },
   {
    "duration": 19,
    "start_time": "2023-04-24T20:41:52.915Z"
   },
   {
    "duration": 203,
    "start_time": "2023-04-24T20:41:52.935Z"
   },
   {
    "duration": 32,
    "start_time": "2023-04-24T20:41:53.140Z"
   },
   {
    "duration": 27,
    "start_time": "2023-04-24T20:41:53.173Z"
   },
   {
    "duration": 26,
    "start_time": "2023-04-24T20:41:53.202Z"
   },
   {
    "duration": 209,
    "start_time": "2023-04-24T20:41:53.230Z"
   },
   {
    "duration": 35,
    "start_time": "2023-04-24T20:41:53.440Z"
   },
   {
    "duration": 102,
    "start_time": "2023-04-24T20:41:53.477Z"
   },
   {
    "duration": 186,
    "start_time": "2023-04-24T20:41:53.581Z"
   },
   {
    "duration": 90,
    "start_time": "2023-04-24T20:41:53.776Z"
   },
   {
    "duration": 134,
    "start_time": "2023-04-24T20:41:53.873Z"
   },
   {
    "duration": 28,
    "start_time": "2023-04-24T20:41:54.009Z"
   },
   {
    "duration": 116,
    "start_time": "2023-04-24T20:41:54.039Z"
   },
   {
    "duration": 5,
    "start_time": "2023-04-24T20:41:54.156Z"
   },
   {
    "duration": 21,
    "start_time": "2023-04-24T20:41:54.164Z"
   },
   {
    "duration": 5,
    "start_time": "2023-04-24T20:41:54.186Z"
   },
   {
    "duration": 32,
    "start_time": "2023-04-24T20:41:54.192Z"
   },
   {
    "duration": 27,
    "start_time": "2023-04-24T20:41:54.225Z"
   },
   {
    "duration": 108,
    "start_time": "2023-04-24T20:41:54.268Z"
   },
   {
    "duration": 200,
    "start_time": "2023-04-24T20:41:54.378Z"
   },
   {
    "duration": 7,
    "start_time": "2023-04-24T20:41:54.580Z"
   },
   {
    "duration": 40,
    "start_time": "2023-04-24T20:41:54.589Z"
   },
   {
    "duration": 41,
    "start_time": "2023-04-24T20:41:54.631Z"
   },
   {
    "duration": 124,
    "start_time": "2023-04-24T20:41:54.677Z"
   },
   {
    "duration": 237,
    "start_time": "2023-04-24T20:41:54.803Z"
   },
   {
    "duration": 26,
    "start_time": "2023-04-24T20:41:55.042Z"
   },
   {
    "duration": 207,
    "start_time": "2023-04-24T20:41:55.069Z"
   },
   {
    "duration": 197,
    "start_time": "2023-04-24T20:41:55.278Z"
   },
   {
    "duration": 414,
    "start_time": "2023-04-24T20:41:55.477Z"
   },
   {
    "duration": 184,
    "start_time": "2023-04-24T20:41:55.892Z"
   },
   {
    "duration": 167,
    "start_time": "2023-04-24T20:41:56.077Z"
   },
   {
    "duration": 231,
    "start_time": "2023-04-24T20:41:56.245Z"
   },
   {
    "duration": 208,
    "start_time": "2023-04-24T20:41:56.478Z"
   },
   {
    "duration": 652,
    "start_time": "2023-04-24T20:41:56.688Z"
   },
   {
    "duration": 238,
    "start_time": "2023-04-24T20:41:57.341Z"
   },
   {
    "duration": 14,
    "start_time": "2023-04-24T20:41:57.580Z"
   },
   {
    "duration": 8,
    "start_time": "2023-04-24T20:41:57.596Z"
   },
   {
    "duration": 17,
    "start_time": "2023-04-24T20:41:57.605Z"
   },
   {
    "duration": 5,
    "start_time": "2023-04-24T20:41:57.624Z"
   },
   {
    "duration": 9,
    "start_time": "2023-04-24T20:41:57.630Z"
   },
   {
    "duration": 7,
    "start_time": "2023-04-24T20:41:57.640Z"
   },
   {
    "duration": 32,
    "start_time": "2023-04-24T20:41:57.652Z"
   },
   {
    "duration": 32,
    "start_time": "2023-04-24T20:42:16.299Z"
   },
   {
    "duration": 13,
    "start_time": "2023-04-24T20:42:27.676Z"
   },
   {
    "duration": 9,
    "start_time": "2023-04-24T20:42:40.304Z"
   },
   {
    "duration": 15,
    "start_time": "2023-04-24T20:44:34.730Z"
   },
   {
    "duration": 70,
    "start_time": "2023-04-24T20:44:49.709Z"
   },
   {
    "duration": 47,
    "start_time": "2023-04-24T20:45:02.690Z"
   },
   {
    "duration": 13,
    "start_time": "2023-04-24T20:45:40.313Z"
   },
   {
    "duration": 13,
    "start_time": "2023-04-24T20:47:13.300Z"
   },
   {
    "duration": 10,
    "start_time": "2023-04-24T20:47:50.878Z"
   },
   {
    "duration": 456,
    "start_time": "2023-04-24T20:49:34.578Z"
   },
   {
    "duration": 218,
    "start_time": "2023-04-24T20:50:55.696Z"
   },
   {
    "duration": 10,
    "start_time": "2023-04-24T20:51:00.684Z"
   },
   {
    "duration": 346709,
    "start_time": "2023-04-24T20:51:20.501Z"
   },
   {
    "duration": 6,
    "start_time": "2023-04-24T20:57:13.825Z"
   },
   {
    "duration": 9,
    "start_time": "2023-04-24T20:57:18.908Z"
   },
   {
    "duration": 2211,
    "start_time": "2023-04-24T20:58:24.709Z"
   },
   {
    "duration": 5,
    "start_time": "2023-04-24T20:58:26.922Z"
   },
   {
    "duration": 865,
    "start_time": "2023-04-24T20:58:26.929Z"
   },
   {
    "duration": 3,
    "start_time": "2023-04-24T20:58:27.796Z"
   },
   {
    "duration": 1377,
    "start_time": "2023-04-24T20:58:27.801Z"
   },
   {
    "duration": 4,
    "start_time": "2023-04-24T20:58:29.180Z"
   },
   {
    "duration": 11723,
    "start_time": "2023-04-24T20:58:29.185Z"
   },
   {
    "duration": 3,
    "start_time": "2023-04-24T20:58:40.910Z"
   },
   {
    "duration": 63,
    "start_time": "2023-04-24T20:58:40.915Z"
   },
   {
    "duration": 257,
    "start_time": "2023-04-24T20:58:40.979Z"
   },
   {
    "duration": 38,
    "start_time": "2023-04-24T20:58:41.238Z"
   },
   {
    "duration": 293,
    "start_time": "2023-04-24T20:58:41.278Z"
   },
   {
    "duration": 305,
    "start_time": "2023-04-24T20:58:41.572Z"
   },
   {
    "duration": 293,
    "start_time": "2023-04-24T20:58:41.880Z"
   },
   {
    "duration": 20,
    "start_time": "2023-04-24T20:58:42.175Z"
   },
   {
    "duration": 32,
    "start_time": "2023-04-24T20:58:42.196Z"
   },
   {
    "duration": 47,
    "start_time": "2023-04-24T20:58:42.229Z"
   },
   {
    "duration": 28,
    "start_time": "2023-04-24T20:58:42.278Z"
   },
   {
    "duration": 201,
    "start_time": "2023-04-24T20:58:42.307Z"
   },
   {
    "duration": 24,
    "start_time": "2023-04-24T20:58:42.510Z"
   },
   {
    "duration": 47,
    "start_time": "2023-04-24T20:58:42.535Z"
   },
   {
    "duration": 32,
    "start_time": "2023-04-24T20:58:42.589Z"
   },
   {
    "duration": 207,
    "start_time": "2023-04-24T20:58:42.622Z"
   },
   {
    "duration": 42,
    "start_time": "2023-04-24T20:58:42.830Z"
   },
   {
    "duration": 100,
    "start_time": "2023-04-24T20:58:42.876Z"
   },
   {
    "duration": 196,
    "start_time": "2023-04-24T20:58:42.978Z"
   },
   {
    "duration": 99,
    "start_time": "2023-04-24T20:58:43.176Z"
   },
   {
    "duration": 143,
    "start_time": "2023-04-24T20:58:43.277Z"
   },
   {
    "duration": 50,
    "start_time": "2023-04-24T20:58:43.421Z"
   },
   {
    "duration": 107,
    "start_time": "2023-04-24T20:58:43.473Z"
   },
   {
    "duration": 5,
    "start_time": "2023-04-24T20:58:43.582Z"
   },
   {
    "duration": 10,
    "start_time": "2023-04-24T20:58:43.588Z"
   },
   {
    "duration": 8,
    "start_time": "2023-04-24T20:58:43.599Z"
   },
   {
    "duration": 31,
    "start_time": "2023-04-24T20:58:43.609Z"
   },
   {
    "duration": 45,
    "start_time": "2023-04-24T20:58:43.641Z"
   },
   {
    "duration": 108,
    "start_time": "2023-04-24T20:58:43.687Z"
   },
   {
    "duration": 126,
    "start_time": "2023-04-24T20:58:43.797Z"
   },
   {
    "duration": 6,
    "start_time": "2023-04-24T20:58:43.925Z"
   },
   {
    "duration": 44,
    "start_time": "2023-04-24T20:58:43.933Z"
   },
   {
    "duration": 24,
    "start_time": "2023-04-24T20:58:43.979Z"
   },
   {
    "duration": 183,
    "start_time": "2023-04-24T20:58:44.006Z"
   },
   {
    "duration": 240,
    "start_time": "2023-04-24T20:58:44.190Z"
   },
   {
    "duration": 3,
    "start_time": "2023-04-24T20:58:44.432Z"
   },
   {
    "duration": 207,
    "start_time": "2023-04-24T20:58:44.436Z"
   },
   {
    "duration": 227,
    "start_time": "2023-04-24T20:58:44.651Z"
   },
   {
    "duration": 457,
    "start_time": "2023-04-24T20:58:44.880Z"
   },
   {
    "duration": 172,
    "start_time": "2023-04-24T20:58:45.340Z"
   },
   {
    "duration": 184,
    "start_time": "2023-04-24T20:58:45.514Z"
   },
   {
    "duration": 208,
    "start_time": "2023-04-24T20:58:45.699Z"
   },
   {
    "duration": 204,
    "start_time": "2023-04-24T20:58:45.909Z"
   },
   {
    "duration": 660,
    "start_time": "2023-04-24T20:58:46.114Z"
   },
   {
    "duration": 220,
    "start_time": "2023-04-24T20:58:46.775Z"
   },
   {
    "duration": 15,
    "start_time": "2023-04-24T20:58:46.996Z"
   },
   {
    "duration": 3,
    "start_time": "2023-04-24T20:58:47.012Z"
   },
   {
    "duration": 7,
    "start_time": "2023-04-24T20:58:47.017Z"
   },
   {
    "duration": 66,
    "start_time": "2023-04-24T20:58:47.025Z"
   },
   {
    "duration": 16,
    "start_time": "2023-04-24T20:58:47.092Z"
   },
   {
    "duration": 6,
    "start_time": "2023-04-24T20:58:47.109Z"
   },
   {
    "duration": 8,
    "start_time": "2023-04-24T20:58:47.116Z"
   },
   {
    "duration": 53,
    "start_time": "2023-04-24T20:58:47.125Z"
   },
   {
    "duration": 25,
    "start_time": "2023-04-24T20:58:57.372Z"
   },
   {
    "duration": 158,
    "start_time": "2023-04-24T20:58:59.430Z"
   },
   {
    "duration": 153,
    "start_time": "2023-04-24T20:59:08.433Z"
   },
   {
    "duration": 10,
    "start_time": "2023-04-24T20:59:18.809Z"
   },
   {
    "duration": 67,
    "start_time": "2023-04-24T21:00:17.311Z"
   },
   {
    "duration": 8,
    "start_time": "2023-04-24T21:00:25.499Z"
   },
   {
    "duration": 1302786,
    "start_time": "2023-04-24T21:02:04.603Z"
   },
   {
    "duration": 4571789,
    "start_time": "2023-04-24T21:23:47.391Z"
   },
   {
    "duration": 4,
    "start_time": "2023-04-25T03:44:30.388Z"
   },
   {
    "duration": 4,
    "start_time": "2023-04-25T03:44:38.271Z"
   },
   {
    "duration": 3,
    "start_time": "2023-04-25T03:44:41.512Z"
   },
   {
    "duration": 4,
    "start_time": "2023-04-25T03:44:47.750Z"
   },
   {
    "duration": 4,
    "start_time": "2023-04-25T03:44:52.882Z"
   },
   {
    "duration": 5,
    "start_time": "2023-04-25T03:44:54.310Z"
   },
   {
    "duration": 3,
    "start_time": "2023-04-25T03:48:32.679Z"
   },
   {
    "duration": 4,
    "start_time": "2023-04-25T03:48:42.965Z"
   },
   {
    "duration": 2,
    "start_time": "2023-04-25T03:48:46.090Z"
   },
   {
    "duration": 2,
    "start_time": "2023-04-25T03:49:05.855Z"
   },
   {
    "duration": 6,
    "start_time": "2023-04-25T03:49:09.382Z"
   },
   {
    "duration": 2,
    "start_time": "2023-04-25T03:49:41.473Z"
   },
   {
    "duration": 9,
    "start_time": "2023-04-25T03:49:51.156Z"
   },
   {
    "duration": 9,
    "start_time": "2023-04-25T03:50:03.156Z"
   },
   {
    "duration": 10,
    "start_time": "2023-04-25T03:50:08.774Z"
   },
   {
    "duration": 3,
    "start_time": "2023-04-25T16:42:41.956Z"
   },
   {
    "duration": 29,
    "start_time": "2023-04-25T18:52:31.800Z"
   },
   {
    "duration": 22,
    "start_time": "2023-04-25T19:06:01.120Z"
   },
   {
    "duration": 19,
    "start_time": "2023-04-25T19:08:46.541Z"
   },
   {
    "duration": 4,
    "start_time": "2023-04-25T19:14:24.111Z"
   },
   {
    "duration": 8,
    "start_time": "2023-04-25T19:16:49.040Z"
   },
   {
    "duration": 5,
    "start_time": "2023-04-25T19:17:18.732Z"
   },
   {
    "duration": 7,
    "start_time": "2023-04-25T19:17:29.088Z"
   },
   {
    "duration": 6,
    "start_time": "2023-04-25T19:17:44.231Z"
   },
   {
    "duration": 5,
    "start_time": "2023-04-25T19:18:26.789Z"
   },
   {
    "duration": 8,
    "start_time": "2023-04-25T19:18:33.085Z"
   },
   {
    "duration": 10,
    "start_time": "2023-04-25T19:18:44.520Z"
   },
   {
    "duration": 4,
    "start_time": "2023-04-25T19:21:39.239Z"
   },
   {
    "duration": 13,
    "start_time": "2023-04-25T19:27:09.089Z"
   },
   {
    "duration": 6,
    "start_time": "2023-04-25T19:31:38.246Z"
   },
   {
    "duration": 3,
    "start_time": "2023-04-25T19:31:43.410Z"
   },
   {
    "duration": 30,
    "start_time": "2023-04-25T19:33:10.221Z"
   },
   {
    "duration": 9,
    "start_time": "2023-04-25T19:37:20.618Z"
   },
   {
    "duration": 9,
    "start_time": "2023-04-25T19:37:32.471Z"
   },
   {
    "duration": 34,
    "start_time": "2023-04-25T19:37:59.146Z"
   },
   {
    "duration": 9,
    "start_time": "2023-04-25T19:38:09.737Z"
   },
   {
    "duration": 10,
    "start_time": "2023-04-25T19:41:40.821Z"
   },
   {
    "duration": 8,
    "start_time": "2023-04-25T19:41:42.519Z"
   },
   {
    "duration": 5,
    "start_time": "2023-04-25T19:42:03.832Z"
   },
   {
    "duration": 9,
    "start_time": "2023-04-25T19:42:11.219Z"
   },
   {
    "duration": 12,
    "start_time": "2023-04-25T19:42:12.314Z"
   },
   {
    "duration": 12,
    "start_time": "2023-04-25T19:42:20.070Z"
   },
   {
    "duration": 14,
    "start_time": "2023-04-25T19:43:11.782Z"
   },
   {
    "duration": 12,
    "start_time": "2023-04-25T19:43:15.005Z"
   },
   {
    "duration": 5,
    "start_time": "2023-04-25T19:43:39.496Z"
   },
   {
    "duration": 8,
    "start_time": "2023-04-25T19:44:59.398Z"
   },
   {
    "duration": 9,
    "start_time": "2023-04-25T19:45:10.299Z"
   },
   {
    "duration": 20,
    "start_time": "2023-04-25T19:45:11.243Z"
   },
   {
    "duration": 10,
    "start_time": "2023-04-25T19:45:12.585Z"
   },
   {
    "duration": 11,
    "start_time": "2023-04-25T19:45:25.106Z"
   },
   {
    "duration": 6,
    "start_time": "2023-04-25T19:46:35.189Z"
   },
   {
    "duration": 11,
    "start_time": "2023-04-25T19:46:44.832Z"
   },
   {
    "duration": 14,
    "start_time": "2023-04-25T19:46:49.749Z"
   },
   {
    "duration": 12,
    "start_time": "2023-04-25T19:46:50.992Z"
   },
   {
    "duration": 11,
    "start_time": "2023-04-25T19:46:58.089Z"
   },
   {
    "duration": 12,
    "start_time": "2023-04-25T19:46:58.911Z"
   },
   {
    "duration": 11,
    "start_time": "2023-04-25T19:47:35.949Z"
   },
   {
    "duration": 10,
    "start_time": "2023-04-25T19:47:36.812Z"
   },
   {
    "duration": 11,
    "start_time": "2023-04-25T19:47:37.832Z"
   },
   {
    "duration": 7,
    "start_time": "2023-04-25T19:48:15.280Z"
   },
   {
    "duration": 11,
    "start_time": "2023-04-25T19:49:38.390Z"
   },
   {
    "duration": 11,
    "start_time": "2023-04-25T19:49:39.205Z"
   },
   {
    "duration": 7,
    "start_time": "2023-04-25T19:49:48.035Z"
   },
   {
    "duration": 3,
    "start_time": "2023-04-25T19:50:30.538Z"
   },
   {
    "duration": 47,
    "start_time": "2023-04-25T19:53:13.186Z"
   },
   {
    "duration": 4,
    "start_time": "2023-04-25T19:55:16.011Z"
   },
   {
    "duration": 3,
    "start_time": "2023-04-25T19:55:17.013Z"
   },
   {
    "duration": 4,
    "start_time": "2023-04-25T19:55:18.790Z"
   },
   {
    "duration": 12,
    "start_time": "2023-04-25T20:11:32.774Z"
   },
   {
    "duration": 31,
    "start_time": "2023-04-25T20:16:23.788Z"
   },
   {
    "duration": 191,
    "start_time": "2023-04-25T20:25:45.325Z"
   },
   {
    "duration": 21,
    "start_time": "2023-04-25T20:25:57.492Z"
   },
   {
    "duration": 18,
    "start_time": "2023-04-25T20:26:36.508Z"
   },
   {
    "duration": 314,
    "start_time": "2023-04-25T20:26:42.968Z"
   },
   {
    "duration": 36,
    "start_time": "2023-04-25T20:26:44.374Z"
   },
   {
    "duration": 37,
    "start_time": "2023-04-25T20:27:02.586Z"
   },
   {
    "duration": 26,
    "start_time": "2023-04-25T20:28:53.270Z"
   },
   {
    "duration": 336,
    "start_time": "2023-04-25T20:28:59.720Z"
   },
   {
    "duration": 31,
    "start_time": "2023-04-25T20:29:02.190Z"
   },
   {
    "duration": 1895,
    "start_time": "2023-04-25T20:29:12.500Z"
   },
   {
    "duration": 9,
    "start_time": "2023-04-25T20:36:25.227Z"
   },
   {
    "duration": 3,
    "start_time": "2023-04-25T20:40:24.838Z"
   },
   {
    "duration": 16,
    "start_time": "2023-04-25T20:40:24.843Z"
   },
   {
    "duration": 43430,
    "start_time": "2023-04-25T20:41:58.899Z"
   },
   {
    "duration": 70,
    "start_time": "2023-04-25T20:43:25.801Z"
   },
   {
    "duration": 343,
    "start_time": "2023-04-25T20:44:29.645Z"
   },
   {
    "duration": 283,
    "start_time": "2023-04-25T20:44:47.989Z"
   },
   {
    "duration": 3056,
    "start_time": "2023-04-26T16:48:55.941Z"
   },
   {
    "duration": 3552,
    "start_time": "2023-04-26T16:48:58.999Z"
   },
   {
    "duration": 964,
    "start_time": "2023-04-26T16:49:02.554Z"
   },
   {
    "duration": 3,
    "start_time": "2023-04-26T16:49:03.521Z"
   },
   {
    "duration": 1544,
    "start_time": "2023-04-26T16:49:03.525Z"
   },
   {
    "duration": 5,
    "start_time": "2023-04-26T16:49:05.071Z"
   },
   {
    "duration": 11566,
    "start_time": "2023-04-26T16:49:05.079Z"
   },
   {
    "duration": 6,
    "start_time": "2023-04-26T16:49:16.647Z"
   },
   {
    "duration": 46,
    "start_time": "2023-04-26T16:49:16.655Z"
   },
   {
    "duration": 252,
    "start_time": "2023-04-26T16:49:16.704Z"
   },
   {
    "duration": 42,
    "start_time": "2023-04-26T16:49:16.958Z"
   },
   {
    "duration": 270,
    "start_time": "2023-04-26T16:49:17.002Z"
   },
   {
    "duration": 304,
    "start_time": "2023-04-26T16:49:17.274Z"
   },
   {
    "duration": 272,
    "start_time": "2023-04-26T16:49:17.580Z"
   },
   {
    "duration": 20,
    "start_time": "2023-04-26T16:49:17.853Z"
   },
   {
    "duration": 32,
    "start_time": "2023-04-26T16:49:17.875Z"
   },
   {
    "duration": 22,
    "start_time": "2023-04-26T16:49:17.909Z"
   },
   {
    "duration": 20,
    "start_time": "2023-04-26T16:49:17.932Z"
   },
   {
    "duration": 181,
    "start_time": "2023-04-26T16:49:17.954Z"
   },
   {
    "duration": 24,
    "start_time": "2023-04-26T16:49:18.137Z"
   },
   {
    "duration": 43,
    "start_time": "2023-04-26T16:49:18.163Z"
   },
   {
    "duration": 38,
    "start_time": "2023-04-26T16:49:18.208Z"
   },
   {
    "duration": 248,
    "start_time": "2023-04-26T16:49:18.249Z"
   },
   {
    "duration": 21,
    "start_time": "2023-04-26T16:49:18.499Z"
   },
   {
    "duration": 161,
    "start_time": "2023-04-26T16:49:18.523Z"
   },
   {
    "duration": 186,
    "start_time": "2023-04-26T16:49:18.686Z"
   },
   {
    "duration": 92,
    "start_time": "2023-04-26T16:49:18.874Z"
   },
   {
    "duration": 175,
    "start_time": "2023-04-26T16:49:18.972Z"
   },
   {
    "duration": 27,
    "start_time": "2023-04-26T16:49:19.149Z"
   },
   {
    "duration": 160,
    "start_time": "2023-04-26T16:49:19.178Z"
   },
   {
    "duration": 6,
    "start_time": "2023-04-26T16:49:19.340Z"
   },
   {
    "duration": 42,
    "start_time": "2023-04-26T16:49:19.348Z"
   },
   {
    "duration": 9,
    "start_time": "2023-04-26T16:49:19.392Z"
   },
   {
    "duration": 26,
    "start_time": "2023-04-26T16:49:19.403Z"
   },
   {
    "duration": 25,
    "start_time": "2023-04-26T16:49:19.430Z"
   },
   {
    "duration": 163,
    "start_time": "2023-04-26T16:49:19.457Z"
   },
   {
    "duration": 396,
    "start_time": "2023-04-26T16:49:19.622Z"
   },
   {
    "duration": 6,
    "start_time": "2023-04-26T16:49:20.020Z"
   },
   {
    "duration": 65,
    "start_time": "2023-04-26T16:49:20.028Z"
   },
   {
    "duration": 23,
    "start_time": "2023-04-26T16:49:20.095Z"
   },
   {
    "duration": 126,
    "start_time": "2023-04-26T16:49:20.120Z"
   },
   {
    "duration": 238,
    "start_time": "2023-04-26T16:49:20.248Z"
   },
   {
    "duration": 8,
    "start_time": "2023-04-26T16:49:20.487Z"
   },
   {
    "duration": 213,
    "start_time": "2023-04-26T16:49:20.497Z"
   },
   {
    "duration": 195,
    "start_time": "2023-04-26T16:49:20.712Z"
   },
   {
    "duration": 486,
    "start_time": "2023-04-26T16:49:20.909Z"
   },
   {
    "duration": 171,
    "start_time": "2023-04-26T16:49:21.397Z"
   },
   {
    "duration": 206,
    "start_time": "2023-04-26T16:49:21.571Z"
   },
   {
    "duration": 272,
    "start_time": "2023-04-26T16:49:21.779Z"
   },
   {
    "duration": 262,
    "start_time": "2023-04-26T16:49:22.053Z"
   },
   {
    "duration": 648,
    "start_time": "2023-04-26T16:49:22.318Z"
   },
   {
    "duration": 238,
    "start_time": "2023-04-26T16:49:22.968Z"
   },
   {
    "duration": 16,
    "start_time": "2023-04-26T16:49:23.208Z"
   },
   {
    "duration": 5,
    "start_time": "2023-04-26T16:49:23.227Z"
   },
   {
    "duration": 6,
    "start_time": "2023-04-26T16:49:23.237Z"
   },
   {
    "duration": 17,
    "start_time": "2023-04-26T16:49:23.245Z"
   },
   {
    "duration": 14,
    "start_time": "2023-04-26T16:49:23.264Z"
   },
   {
    "duration": 13,
    "start_time": "2023-04-26T16:49:23.280Z"
   },
   {
    "duration": 14,
    "start_time": "2023-04-26T16:49:23.295Z"
   },
   {
    "duration": 244,
    "start_time": "2023-04-26T16:49:23.311Z"
   },
   {
    "duration": 42,
    "start_time": "2023-04-26T16:49:23.557Z"
   },
   {
    "duration": 15,
    "start_time": "2023-04-26T16:50:42.439Z"
   },
   {
    "duration": 32,
    "start_time": "2023-04-26T16:51:01.731Z"
   },
   {
    "duration": 21,
    "start_time": "2023-04-26T16:51:04.880Z"
   },
   {
    "duration": 14,
    "start_time": "2023-04-26T16:51:16.210Z"
   },
   {
    "duration": 2940,
    "start_time": "2023-04-27T08:26:15.610Z"
   },
   {
    "duration": 1416,
    "start_time": "2023-04-27T08:26:18.552Z"
   },
   {
    "duration": 2771,
    "start_time": "2023-04-27T08:26:19.970Z"
   },
   {
    "duration": 4,
    "start_time": "2023-04-27T08:26:22.743Z"
   },
   {
    "duration": 1379,
    "start_time": "2023-04-27T08:26:22.749Z"
   },
   {
    "duration": 4,
    "start_time": "2023-04-27T08:26:24.130Z"
   },
   {
    "duration": 10097,
    "start_time": "2023-04-27T08:26:24.135Z"
   },
   {
    "duration": 4,
    "start_time": "2023-04-27T08:26:34.234Z"
   },
   {
    "duration": 40,
    "start_time": "2023-04-27T08:26:34.240Z"
   },
   {
    "duration": 217,
    "start_time": "2023-04-27T08:26:34.283Z"
   },
   {
    "duration": 31,
    "start_time": "2023-04-27T08:26:34.501Z"
   },
   {
    "duration": 229,
    "start_time": "2023-04-27T08:26:34.534Z"
   },
   {
    "duration": 247,
    "start_time": "2023-04-27T08:26:34.765Z"
   },
   {
    "duration": 225,
    "start_time": "2023-04-27T08:26:35.014Z"
   },
   {
    "duration": 17,
    "start_time": "2023-04-27T08:26:35.241Z"
   },
   {
    "duration": 27,
    "start_time": "2023-04-27T08:26:35.259Z"
   },
   {
    "duration": 27,
    "start_time": "2023-04-27T08:26:35.287Z"
   },
   {
    "duration": 26,
    "start_time": "2023-04-27T08:26:35.316Z"
   },
   {
    "duration": 156,
    "start_time": "2023-04-27T08:26:35.344Z"
   },
   {
    "duration": 21,
    "start_time": "2023-04-27T08:26:35.501Z"
   },
   {
    "duration": 19,
    "start_time": "2023-04-27T08:26:35.523Z"
   },
   {
    "duration": 23,
    "start_time": "2023-04-27T08:26:35.543Z"
   },
   {
    "duration": 170,
    "start_time": "2023-04-27T08:26:35.567Z"
   },
   {
    "duration": 17,
    "start_time": "2023-04-27T08:26:35.738Z"
   },
   {
    "duration": 73,
    "start_time": "2023-04-27T08:26:35.756Z"
   },
   {
    "duration": 149,
    "start_time": "2023-04-27T08:26:35.830Z"
   },
   {
    "duration": 73,
    "start_time": "2023-04-27T08:26:35.981Z"
   },
   {
    "duration": 139,
    "start_time": "2023-04-27T08:26:36.057Z"
   },
   {
    "duration": 22,
    "start_time": "2023-04-27T08:26:36.197Z"
   },
   {
    "duration": 100,
    "start_time": "2023-04-27T08:26:36.221Z"
   },
   {
    "duration": 5,
    "start_time": "2023-04-27T08:26:36.322Z"
   },
   {
    "duration": 6,
    "start_time": "2023-04-27T08:26:36.328Z"
   },
   {
    "duration": 9,
    "start_time": "2023-04-27T08:26:36.335Z"
   },
   {
    "duration": 23,
    "start_time": "2023-04-27T08:26:36.346Z"
   },
   {
    "duration": 37,
    "start_time": "2023-04-27T08:26:36.370Z"
   },
   {
    "duration": 171,
    "start_time": "2023-04-27T08:26:36.409Z"
   },
   {
    "duration": 112,
    "start_time": "2023-04-27T08:26:36.582Z"
   },
   {
    "duration": 5,
    "start_time": "2023-04-27T08:26:36.696Z"
   },
   {
    "duration": 24,
    "start_time": "2023-04-27T08:26:36.702Z"
   },
   {
    "duration": 21,
    "start_time": "2023-04-27T08:26:36.727Z"
   },
   {
    "duration": 113,
    "start_time": "2023-04-27T08:26:36.750Z"
   },
   {
    "duration": 203,
    "start_time": "2023-04-27T08:26:36.865Z"
   },
   {
    "duration": 4,
    "start_time": "2023-04-27T08:26:37.070Z"
   },
   {
    "duration": 219,
    "start_time": "2023-04-27T08:26:37.075Z"
   },
   {
    "duration": 175,
    "start_time": "2023-04-27T08:26:37.296Z"
   },
   {
    "duration": 413,
    "start_time": "2023-04-27T08:26:37.473Z"
   },
   {
    "duration": 156,
    "start_time": "2023-04-27T08:26:37.889Z"
   },
   {
    "duration": 179,
    "start_time": "2023-04-27T08:26:38.047Z"
   },
   {
    "duration": 195,
    "start_time": "2023-04-27T08:26:38.227Z"
   },
   {
    "duration": 177,
    "start_time": "2023-04-27T08:26:38.423Z"
   },
   {
    "duration": 553,
    "start_time": "2023-04-27T08:26:38.601Z"
   },
   {
    "duration": 317,
    "start_time": "2023-04-27T08:26:39.156Z"
   },
   {
    "duration": 25,
    "start_time": "2023-04-27T08:26:39.475Z"
   },
   {
    "duration": 4,
    "start_time": "2023-04-27T08:26:39.501Z"
   },
   {
    "duration": 8,
    "start_time": "2023-04-27T08:26:39.506Z"
   },
   {
    "duration": 22,
    "start_time": "2023-04-27T08:26:39.515Z"
   },
   {
    "duration": 11,
    "start_time": "2023-04-27T08:26:39.539Z"
   },
   {
    "duration": 9,
    "start_time": "2023-04-27T08:26:39.552Z"
   },
   {
    "duration": 20,
    "start_time": "2023-04-27T08:26:39.562Z"
   },
   {
    "duration": 52,
    "start_time": "2023-04-27T08:26:39.584Z"
   },
   {
    "duration": 253,
    "start_time": "2023-04-27T08:26:39.637Z"
   },
   {
    "duration": 1894,
    "start_time": "2023-04-27T08:26:53.648Z"
   },
   {
    "duration": 5,
    "start_time": "2023-04-27T08:26:55.545Z"
   },
   {
    "duration": 777,
    "start_time": "2023-04-27T08:26:55.552Z"
   },
   {
    "duration": 3,
    "start_time": "2023-04-27T08:26:56.331Z"
   },
   {
    "duration": 1320,
    "start_time": "2023-04-27T08:26:56.336Z"
   },
   {
    "duration": 3,
    "start_time": "2023-04-27T08:26:57.658Z"
   },
   {
    "duration": 9811,
    "start_time": "2023-04-27T08:26:57.663Z"
   },
   {
    "duration": 3,
    "start_time": "2023-04-27T08:27:07.476Z"
   },
   {
    "duration": 48,
    "start_time": "2023-04-27T08:27:07.481Z"
   },
   {
    "duration": 262,
    "start_time": "2023-04-27T08:27:07.531Z"
   },
   {
    "duration": 31,
    "start_time": "2023-04-27T08:27:07.795Z"
   },
   {
    "duration": 256,
    "start_time": "2023-04-27T08:27:07.827Z"
   },
   {
    "duration": 246,
    "start_time": "2023-04-27T08:27:08.085Z"
   },
   {
    "duration": 228,
    "start_time": "2023-04-27T08:27:08.333Z"
   },
   {
    "duration": 18,
    "start_time": "2023-04-27T08:27:08.562Z"
   },
   {
    "duration": 36,
    "start_time": "2023-04-27T08:27:08.581Z"
   },
   {
    "duration": 31,
    "start_time": "2023-04-27T08:27:08.619Z"
   },
   {
    "duration": 27,
    "start_time": "2023-04-27T08:27:08.652Z"
   },
   {
    "duration": 149,
    "start_time": "2023-04-27T08:27:08.681Z"
   },
   {
    "duration": 24,
    "start_time": "2023-04-27T08:27:08.832Z"
   },
   {
    "duration": 29,
    "start_time": "2023-04-27T08:27:08.857Z"
   },
   {
    "duration": 26,
    "start_time": "2023-04-27T08:27:08.895Z"
   },
   {
    "duration": 167,
    "start_time": "2023-04-27T08:27:08.923Z"
   },
   {
    "duration": 18,
    "start_time": "2023-04-27T08:27:09.094Z"
   },
   {
    "duration": 71,
    "start_time": "2023-04-27T08:27:09.114Z"
   },
   {
    "duration": 154,
    "start_time": "2023-04-27T08:27:09.193Z"
   },
   {
    "duration": 84,
    "start_time": "2023-04-27T08:27:09.348Z"
   },
   {
    "duration": 130,
    "start_time": "2023-04-27T08:27:09.437Z"
   },
   {
    "duration": 26,
    "start_time": "2023-04-27T08:27:09.568Z"
   },
   {
    "duration": 108,
    "start_time": "2023-04-27T08:27:09.596Z"
   },
   {
    "duration": 5,
    "start_time": "2023-04-27T08:27:09.705Z"
   },
   {
    "duration": 14,
    "start_time": "2023-04-27T08:27:09.711Z"
   },
   {
    "duration": 12,
    "start_time": "2023-04-27T08:27:09.726Z"
   },
   {
    "duration": 26,
    "start_time": "2023-04-27T08:27:09.740Z"
   },
   {
    "duration": 26,
    "start_time": "2023-04-27T08:27:09.768Z"
   },
   {
    "duration": 101,
    "start_time": "2023-04-27T08:27:09.796Z"
   },
   {
    "duration": 111,
    "start_time": "2023-04-27T08:27:09.899Z"
   },
   {
    "duration": 6,
    "start_time": "2023-04-27T08:27:10.012Z"
   },
   {
    "duration": 24,
    "start_time": "2023-04-27T08:27:10.019Z"
   },
   {
    "duration": 22,
    "start_time": "2023-04-27T08:27:10.045Z"
   },
   {
    "duration": 132,
    "start_time": "2023-04-27T08:27:10.068Z"
   },
   {
    "duration": 209,
    "start_time": "2023-04-27T08:27:10.202Z"
   },
   {
    "duration": 4,
    "start_time": "2023-04-27T08:27:10.412Z"
   },
   {
    "duration": 265,
    "start_time": "2023-04-27T08:27:10.417Z"
   },
   {
    "duration": 169,
    "start_time": "2023-04-27T08:27:10.684Z"
   },
   {
    "duration": 434,
    "start_time": "2023-04-27T08:27:10.854Z"
   },
   {
    "duration": 160,
    "start_time": "2023-04-27T08:27:11.290Z"
   },
   {
    "duration": 169,
    "start_time": "2023-04-27T08:27:11.452Z"
   },
   {
    "duration": 204,
    "start_time": "2023-04-27T08:27:11.623Z"
   },
   {
    "duration": 181,
    "start_time": "2023-04-27T08:27:11.829Z"
   },
   {
    "duration": 546,
    "start_time": "2023-04-27T08:27:12.012Z"
   },
   {
    "duration": 199,
    "start_time": "2023-04-27T08:27:12.559Z"
   },
   {
    "duration": 19,
    "start_time": "2023-04-27T08:27:12.759Z"
   },
   {
    "duration": 41,
    "start_time": "2023-04-27T08:27:12.779Z"
   },
   {
    "duration": 10,
    "start_time": "2023-04-27T08:27:12.822Z"
   },
   {
    "duration": 12,
    "start_time": "2023-04-27T08:27:12.833Z"
   },
   {
    "duration": 13,
    "start_time": "2023-04-27T08:27:12.847Z"
   },
   {
    "duration": 6,
    "start_time": "2023-04-27T08:27:12.862Z"
   },
   {
    "duration": 10,
    "start_time": "2023-04-27T08:27:12.869Z"
   },
   {
    "duration": 62,
    "start_time": "2023-04-27T08:27:12.880Z"
   },
   {
    "duration": 257,
    "start_time": "2023-04-27T08:27:12.943Z"
   },
   {
    "duration": 158,
    "start_time": "2023-04-27T08:35:14.143Z"
   },
   {
    "duration": 81,
    "start_time": "2023-04-27T09:54:33.762Z"
   },
   {
    "duration": 1873,
    "start_time": "2023-04-27T09:56:15.274Z"
   },
   {
    "duration": 6,
    "start_time": "2023-04-27T09:56:17.150Z"
   },
   {
    "duration": 725,
    "start_time": "2023-04-27T09:56:17.157Z"
   },
   {
    "duration": 9,
    "start_time": "2023-04-27T09:56:17.885Z"
   },
   {
    "duration": 1350,
    "start_time": "2023-04-27T09:56:17.896Z"
   },
   {
    "duration": 4,
    "start_time": "2023-04-27T09:56:19.248Z"
   },
   {
    "duration": 10244,
    "start_time": "2023-04-27T09:56:19.253Z"
   },
   {
    "duration": 4,
    "start_time": "2023-04-27T09:56:29.499Z"
   },
   {
    "duration": 40,
    "start_time": "2023-04-27T09:56:29.504Z"
   },
   {
    "duration": 254,
    "start_time": "2023-04-27T09:56:29.546Z"
   },
   {
    "duration": 28,
    "start_time": "2023-04-27T09:56:29.802Z"
   },
   {
    "duration": 247,
    "start_time": "2023-04-27T09:56:29.832Z"
   },
   {
    "duration": 242,
    "start_time": "2023-04-27T09:56:30.080Z"
   },
   {
    "duration": 252,
    "start_time": "2023-04-27T09:56:30.324Z"
   },
   {
    "duration": 25,
    "start_time": "2023-04-27T09:56:30.578Z"
   },
   {
    "duration": 58,
    "start_time": "2023-04-27T09:56:30.605Z"
   },
   {
    "duration": 53,
    "start_time": "2023-04-27T09:56:30.665Z"
   },
   {
    "duration": 69,
    "start_time": "2023-04-27T09:56:30.720Z"
   },
   {
    "duration": 172,
    "start_time": "2023-04-27T09:56:30.791Z"
   },
   {
    "duration": 22,
    "start_time": "2023-04-27T09:56:30.964Z"
   },
   {
    "duration": 65,
    "start_time": "2023-04-27T09:56:30.994Z"
   },
   {
    "duration": 53,
    "start_time": "2023-04-27T09:56:31.060Z"
   },
   {
    "duration": 178,
    "start_time": "2023-04-27T09:56:31.114Z"
   },
   {
    "duration": 20,
    "start_time": "2023-04-27T09:56:31.294Z"
   },
   {
    "duration": 115,
    "start_time": "2023-04-27T09:56:31.316Z"
   },
   {
    "duration": 167,
    "start_time": "2023-04-27T09:56:31.433Z"
   },
   {
    "duration": 77,
    "start_time": "2023-04-27T09:56:31.602Z"
   },
   {
    "duration": 135,
    "start_time": "2023-04-27T09:56:31.694Z"
   },
   {
    "duration": 24,
    "start_time": "2023-04-27T09:56:31.831Z"
   },
   {
    "duration": 120,
    "start_time": "2023-04-27T09:56:31.857Z"
   },
   {
    "duration": 5,
    "start_time": "2023-04-27T09:56:31.979Z"
   },
   {
    "duration": 43,
    "start_time": "2023-04-27T09:56:31.986Z"
   },
   {
    "duration": 37,
    "start_time": "2023-04-27T09:56:32.031Z"
   },
   {
    "duration": 51,
    "start_time": "2023-04-27T09:56:32.070Z"
   },
   {
    "duration": 50,
    "start_time": "2023-04-27T09:56:32.122Z"
   },
   {
    "duration": 110,
    "start_time": "2023-04-27T09:56:32.174Z"
   },
   {
    "duration": 129,
    "start_time": "2023-04-27T09:56:32.286Z"
   },
   {
    "duration": 6,
    "start_time": "2023-04-27T09:56:32.417Z"
   },
   {
    "duration": 32,
    "start_time": "2023-04-27T09:56:32.424Z"
   },
   {
    "duration": 22,
    "start_time": "2023-04-27T09:56:32.457Z"
   },
   {
    "duration": 124,
    "start_time": "2023-04-27T09:56:32.481Z"
   },
   {
    "duration": 220,
    "start_time": "2023-04-27T09:56:32.607Z"
   },
   {
    "duration": 4,
    "start_time": "2023-04-27T09:56:32.829Z"
   },
   {
    "duration": 214,
    "start_time": "2023-04-27T09:56:32.834Z"
   },
   {
    "duration": 261,
    "start_time": "2023-04-27T09:56:33.050Z"
   },
   {
    "duration": 404,
    "start_time": "2023-04-27T09:56:33.313Z"
   },
   {
    "duration": 153,
    "start_time": "2023-04-27T09:56:33.719Z"
   },
   {
    "duration": 165,
    "start_time": "2023-04-27T09:56:33.873Z"
   },
   {
    "duration": 233,
    "start_time": "2023-04-27T09:56:34.039Z"
   },
   {
    "duration": 200,
    "start_time": "2023-04-27T09:56:34.274Z"
   },
   {
    "duration": 555,
    "start_time": "2023-04-27T09:56:34.476Z"
   },
   {
    "duration": 209,
    "start_time": "2023-04-27T09:56:35.033Z"
   },
   {
    "duration": 30,
    "start_time": "2023-04-27T09:56:35.243Z"
   },
   {
    "duration": 4,
    "start_time": "2023-04-27T09:56:35.274Z"
   },
   {
    "duration": 15,
    "start_time": "2023-04-27T09:56:35.294Z"
   },
   {
    "duration": 5,
    "start_time": "2023-04-27T09:56:35.311Z"
   },
   {
    "duration": 21,
    "start_time": "2023-04-27T09:56:35.317Z"
   },
   {
    "duration": 9,
    "start_time": "2023-04-27T09:56:35.339Z"
   },
   {
    "duration": 15,
    "start_time": "2023-04-27T09:56:35.349Z"
   },
   {
    "duration": 60,
    "start_time": "2023-04-27T09:56:35.365Z"
   },
   {
    "duration": 284,
    "start_time": "2023-04-27T09:56:35.426Z"
   },
   {
    "duration": 82,
    "start_time": "2023-04-27T09:56:35.712Z"
   },
   {
    "duration": 72006,
    "start_time": "2023-04-27T09:56:35.796Z"
   },
   {
    "duration": 3,
    "start_time": "2023-04-27T09:57:47.803Z"
   },
   {
    "duration": 3,
    "start_time": "2023-04-27T09:57:47.808Z"
   },
   {
    "duration": 4,
    "start_time": "2023-04-27T09:57:47.813Z"
   },
   {
    "duration": 5,
    "start_time": "2023-04-27T09:57:47.819Z"
   },
   {
    "duration": 68,
    "start_time": "2023-04-27T09:57:47.826Z"
   },
   {
    "duration": 1711889,
    "start_time": "2023-04-27T09:57:47.896Z"
   },
   {
    "duration": 20,
    "start_time": "2023-04-27T10:26:19.787Z"
   },
   {
    "duration": 3,
    "start_time": "2023-04-27T10:26:19.808Z"
   },
   {
    "duration": 21,
    "start_time": "2023-04-27T10:26:19.812Z"
   },
   {
    "duration": 21,
    "start_time": "2023-04-27T10:26:19.834Z"
   },
   {
    "duration": 12,
    "start_time": "2023-04-27T10:26:19.857Z"
   },
   {
    "duration": 48,
    "start_time": "2023-04-27T10:26:19.870Z"
   },
   {
    "duration": 27,
    "start_time": "2023-04-27T10:26:19.920Z"
   },
   {
    "duration": 7,
    "start_time": "2023-04-27T10:26:19.949Z"
   },
   {
    "duration": 27,
    "start_time": "2023-04-27T10:26:19.957Z"
   },
   {
    "duration": 28,
    "start_time": "2023-04-27T10:26:19.985Z"
   },
   {
    "duration": 41,
    "start_time": "2023-04-27T10:26:20.015Z"
   },
   {
    "duration": 31,
    "start_time": "2023-04-27T10:26:20.057Z"
   },
   {
    "duration": 48,
    "start_time": "2023-04-27T10:26:20.093Z"
   },
   {
    "duration": 3013,
    "start_time": "2023-04-27T15:26:04.915Z"
   },
   {
    "duration": 1567,
    "start_time": "2023-04-27T15:26:07.931Z"
   },
   {
    "duration": 3324,
    "start_time": "2023-04-27T15:26:09.500Z"
   },
   {
    "duration": 4,
    "start_time": "2023-04-27T15:26:12.826Z"
   },
   {
    "duration": 1478,
    "start_time": "2023-04-27T15:26:12.831Z"
   },
   {
    "duration": 3,
    "start_time": "2023-04-27T15:26:14.311Z"
   },
   {
    "duration": 11053,
    "start_time": "2023-04-27T15:26:14.316Z"
   },
   {
    "duration": 5,
    "start_time": "2023-04-27T15:26:25.370Z"
   },
   {
    "duration": 41,
    "start_time": "2023-04-27T15:26:25.376Z"
   },
   {
    "duration": 228,
    "start_time": "2023-04-27T15:26:25.420Z"
   },
   {
    "duration": 31,
    "start_time": "2023-04-27T15:26:25.649Z"
   },
   {
    "duration": 239,
    "start_time": "2023-04-27T15:26:25.692Z"
   },
   {
    "duration": 264,
    "start_time": "2023-04-27T15:26:25.933Z"
   },
   {
    "duration": 245,
    "start_time": "2023-04-27T15:26:26.199Z"
   },
   {
    "duration": 19,
    "start_time": "2023-04-27T15:26:26.446Z"
   },
   {
    "duration": 29,
    "start_time": "2023-04-27T15:26:26.467Z"
   },
   {
    "duration": 22,
    "start_time": "2023-04-27T15:26:26.499Z"
   },
   {
    "duration": 23,
    "start_time": "2023-04-27T15:26:26.523Z"
   },
   {
    "duration": 179,
    "start_time": "2023-04-27T15:26:26.548Z"
   },
   {
    "duration": 22,
    "start_time": "2023-04-27T15:26:26.728Z"
   },
   {
    "duration": 20,
    "start_time": "2023-04-27T15:26:26.752Z"
   },
   {
    "duration": 42,
    "start_time": "2023-04-27T15:26:26.774Z"
   },
   {
    "duration": 168,
    "start_time": "2023-04-27T15:26:26.818Z"
   },
   {
    "duration": 20,
    "start_time": "2023-04-27T15:26:26.993Z"
   },
   {
    "duration": 99,
    "start_time": "2023-04-27T15:26:27.015Z"
   },
   {
    "duration": 163,
    "start_time": "2023-04-27T15:26:27.117Z"
   },
   {
    "duration": 87,
    "start_time": "2023-04-27T15:26:27.282Z"
   },
   {
    "duration": 156,
    "start_time": "2023-04-27T15:26:27.374Z"
   },
   {
    "duration": 26,
    "start_time": "2023-04-27T15:26:27.533Z"
   },
   {
    "duration": 118,
    "start_time": "2023-04-27T15:26:27.561Z"
   },
   {
    "duration": 17,
    "start_time": "2023-04-27T15:26:27.681Z"
   },
   {
    "duration": 7,
    "start_time": "2023-04-27T15:26:27.700Z"
   },
   {
    "duration": 6,
    "start_time": "2023-04-27T15:26:27.708Z"
   },
   {
    "duration": 25,
    "start_time": "2023-04-27T15:26:27.716Z"
   },
   {
    "duration": 56,
    "start_time": "2023-04-27T15:26:27.744Z"
   },
   {
    "duration": 134,
    "start_time": "2023-04-27T15:26:27.802Z"
   },
   {
    "duration": 230,
    "start_time": "2023-04-27T15:26:27.938Z"
   },
   {
    "duration": 7,
    "start_time": "2023-04-27T15:26:28.170Z"
   },
   {
    "duration": 25,
    "start_time": "2023-04-27T15:26:28.191Z"
   },
   {
    "duration": 27,
    "start_time": "2023-04-27T15:26:28.218Z"
   },
   {
    "duration": 153,
    "start_time": "2023-04-27T15:26:28.248Z"
   },
   {
    "duration": 245,
    "start_time": "2023-04-27T15:26:28.403Z"
   },
   {
    "duration": 4,
    "start_time": "2023-04-27T15:26:28.650Z"
   },
   {
    "duration": 266,
    "start_time": "2023-04-27T15:26:28.655Z"
   },
   {
    "duration": 220,
    "start_time": "2023-04-27T15:26:28.923Z"
   },
   {
    "duration": 450,
    "start_time": "2023-04-27T15:26:29.144Z"
   },
   {
    "duration": 168,
    "start_time": "2023-04-27T15:26:29.597Z"
   },
   {
    "duration": 182,
    "start_time": "2023-04-27T15:26:29.766Z"
   },
   {
    "duration": 235,
    "start_time": "2023-04-27T15:26:29.950Z"
   },
   {
    "duration": 234,
    "start_time": "2023-04-27T15:26:30.187Z"
   },
   {
    "duration": 658,
    "start_time": "2023-04-27T15:26:30.423Z"
   },
   {
    "duration": 248,
    "start_time": "2023-04-27T15:26:31.083Z"
   },
   {
    "duration": 19,
    "start_time": "2023-04-27T15:26:31.333Z"
   },
   {
    "duration": 23,
    "start_time": "2023-04-27T15:26:31.353Z"
   },
   {
    "duration": 49,
    "start_time": "2023-04-27T15:26:31.377Z"
   },
   {
    "duration": 35,
    "start_time": "2023-04-27T15:26:31.429Z"
   },
   {
    "duration": 24,
    "start_time": "2023-04-27T15:26:31.466Z"
   },
   {
    "duration": 33,
    "start_time": "2023-04-27T15:26:31.492Z"
   },
   {
    "duration": 49,
    "start_time": "2023-04-27T15:26:31.527Z"
   },
   {
    "duration": 114,
    "start_time": "2023-04-27T15:26:31.578Z"
   },
   {
    "duration": 401,
    "start_time": "2023-04-27T15:26:31.694Z"
   },
   {
    "duration": 103,
    "start_time": "2023-04-27T15:26:32.097Z"
   },
   {
    "duration": 63194,
    "start_time": "2023-04-27T15:26:32.202Z"
   },
   {
    "duration": 4,
    "start_time": "2023-04-27T15:27:35.398Z"
   },
   {
    "duration": 9,
    "start_time": "2023-04-27T15:27:35.404Z"
   },
   {
    "duration": 8,
    "start_time": "2023-04-27T15:27:35.415Z"
   },
   {
    "duration": 5,
    "start_time": "2023-04-27T15:27:35.425Z"
   },
   {
    "duration": 5,
    "start_time": "2023-04-27T15:27:35.432Z"
   },
   {
    "duration": 1830795,
    "start_time": "2023-04-27T15:27:35.439Z"
   },
   {
    "duration": 4,
    "start_time": "2023-04-27T15:58:06.236Z"
   },
   {
    "duration": 16,
    "start_time": "2023-04-27T15:58:06.241Z"
   },
   {
    "duration": 13,
    "start_time": "2023-04-27T15:58:06.259Z"
   },
   {
    "duration": 5,
    "start_time": "2023-04-27T15:58:06.274Z"
   },
   {
    "duration": 5,
    "start_time": "2023-04-27T15:58:06.280Z"
   },
   {
    "duration": 14,
    "start_time": "2023-04-27T15:58:06.287Z"
   },
   {
    "duration": 11,
    "start_time": "2023-04-27T15:58:06.303Z"
   },
   {
    "duration": 20,
    "start_time": "2023-04-27T15:58:06.316Z"
   },
   {
    "duration": 28,
    "start_time": "2023-04-27T15:58:06.338Z"
   },
   {
    "duration": 14,
    "start_time": "2023-04-27T15:58:06.368Z"
   },
   {
    "duration": 21,
    "start_time": "2023-04-27T15:58:06.384Z"
   },
   {
    "duration": 24,
    "start_time": "2023-04-27T15:58:06.407Z"
   },
   {
    "duration": 133,
    "start_time": "2023-04-27T15:58:06.439Z"
   },
   {
    "duration": 0,
    "start_time": "2023-04-27T15:58:06.574Z"
   },
   {
    "duration": 0,
    "start_time": "2023-04-27T15:58:06.575Z"
   },
   {
    "duration": 0,
    "start_time": "2023-04-27T15:58:06.576Z"
   },
   {
    "duration": 0,
    "start_time": "2023-04-27T15:58:06.577Z"
   },
   {
    "duration": 0,
    "start_time": "2023-04-27T15:58:06.578Z"
   },
   {
    "duration": 0,
    "start_time": "2023-04-27T15:58:06.592Z"
   },
   {
    "duration": 0,
    "start_time": "2023-04-27T15:58:06.594Z"
   },
   {
    "duration": 0,
    "start_time": "2023-04-27T15:58:06.595Z"
   },
   {
    "duration": 1808,
    "start_time": "2023-04-27T16:07:31.521Z"
   },
   {
    "duration": 46882,
    "start_time": "2023-04-27T16:07:53.366Z"
   },
   {
    "duration": 98,
    "start_time": "2023-04-27T16:08:40.251Z"
   },
   {
    "duration": 272,
    "start_time": "2023-04-27T16:08:40.351Z"
   },
   {
    "duration": 19,
    "start_time": "2023-04-27T18:03:16.484Z"
   },
   {
    "duration": 288,
    "start_time": "2023-04-27T18:04:38.631Z"
   },
   {
    "duration": 4,
    "start_time": "2023-04-27T18:11:09.685Z"
   },
   {
    "duration": 258,
    "start_time": "2023-04-27T18:11:45.552Z"
   },
   {
    "duration": 205,
    "start_time": "2023-04-27T18:20:33.134Z"
   },
   {
    "duration": 4,
    "start_time": "2023-04-27T18:23:38.917Z"
   },
   {
    "duration": 5,
    "start_time": "2023-04-27T18:23:56.648Z"
   },
   {
    "duration": 5,
    "start_time": "2023-04-27T18:24:10.953Z"
   },
   {
    "duration": 254,
    "start_time": "2023-04-27T18:29:11.060Z"
   },
   {
    "duration": 91,
    "start_time": "2023-04-27T18:30:53.464Z"
   },
   {
    "duration": 99,
    "start_time": "2023-04-27T18:34:42.939Z"
   },
   {
    "duration": 370,
    "start_time": "2023-04-27T18:34:43.232Z"
   },
   {
    "duration": 89,
    "start_time": "2023-04-27T18:52:01.854Z"
   },
   {
    "duration": 129,
    "start_time": "2023-04-27T19:00:31.676Z"
   },
   {
    "duration": 74,
    "start_time": "2023-04-27T19:06:23.746Z"
   }
  ],
  "kernelspec": {
   "display_name": "Python 3 (ipykernel)",
   "language": "python",
   "name": "python3"
  },
  "language_info": {
   "codemirror_mode": {
    "name": "ipython",
    "version": 3
   },
   "file_extension": ".py",
   "mimetype": "text/x-python",
   "name": "python",
   "nbconvert_exporter": "python",
   "pygments_lexer": "ipython3",
   "version": "3.9.12"
  },
  "toc": {
   "base_numbering": 1,
   "nav_menu": {},
   "number_sections": true,
   "sideBar": true,
   "skip_h1_title": true,
   "title_cell": "Table of Contents",
   "title_sidebar": "Contents",
   "toc_cell": false,
   "toc_position": {
    "height": "calc(100% - 180px)",
    "left": "10px",
    "top": "150px",
    "width": "165px"
   },
   "toc_section_display": true,
   "toc_window_display": true
  }
 },
 "nbformat": 4,
 "nbformat_minor": 2
}
